{
 "cells": [
  {
   "cell_type": "markdown",
   "id": "84e42dbe",
   "metadata": {},
   "source": [
    "# Use Case Evaluation"
   ]
  },
  {
   "cell_type": "markdown",
   "id": "19d472cb",
   "metadata": {},
   "source": [
    "## Connecting to the CAOM postgres database"
   ]
  },
  {
   "cell_type": "code",
   "execution_count": 102,
   "id": "b5191674",
   "metadata": {},
   "outputs": [],
   "source": [
    "import psycopg2\n",
    "import pandas as pd"
   ]
  },
  {
   "cell_type": "code",
   "execution_count": 6,
   "id": "5ce34007",
   "metadata": {},
   "outputs": [],
   "source": [
    "import pyvo as vo"
   ]
  },
  {
   "cell_type": "code",
   "execution_count": 7,
   "id": "67834f20",
   "metadata": {},
   "outputs": [],
   "source": [
    "service = vo.dal.TAPService(\"http://localhost:8080/tap\")"
   ]
  },
  {
   "cell_type": "code",
   "execution_count": 50,
   "id": "7f4c1c58",
   "metadata": {},
   "outputs": [],
   "source": [
    "resultset = service.search(\"SELECT * FROM TAP_SCHEMA.tables WHERE schema_name='public'\")"
   ]
  },
  {
   "cell_type": "markdown",
   "id": "2c2abf23",
   "metadata": {},
   "source": [
    "## Executing SQL Queries via the connection\n",
    "\n",
    "Returning all observations from the database"
   ]
  },
  {
   "cell_type": "code",
   "execution_count": 152,
   "id": "50eaba2c",
   "metadata": {},
   "outputs": [],
   "source": [
    "resultset = service.search(\"SELECT * FROM Observation\")"
   ]
  },
  {
   "cell_type": "code",
   "execution_count": 156,
   "id": "6775c57b",
   "metadata": {},
   "outputs": [
    {
     "data": {
      "text/html": [
       "<div><i>Table length=26</i>\n",
       "<table id=\"table139852675789296\" class=\"table-striped table-bordered table-condensed\">\n",
       "<thead><tr><th>algorithm_id</th><th>collection</th><th>environment_id</th><th>id</th><th>instrument_id</th><th>intent</th><th>metareadgroups</th><th>metarelease</th><th>proposal_id</th><th>requirements_id</th><th>sequencenumber</th><th>target_id</th><th>targetposition_id</th><th>telescope_id</th><th>type</th><th>uri</th><th>uribucket</th></tr></thead>\n",
       "<thead><tr><th>int64</th><th>object</th><th>int64</th><th>object</th><th>int64</th><th>object</th><th>object</th><th>object</th><th>int64</th><th>int64</th><th>int32</th><th>int64</th><th>int64</th><th>int64</th><th>object</th><th>object</th><th>object</th></tr></thead>\n",
       "<tr><td>17</td><td>EMERLIN</td><td>--</td><td>fd0836eb-d95c-4e1b-8dc1-b753a2f57a57</td><td>--</td><td>SCIENCE</td><td></td><td></td><td>--</td><td>--</td><td>--</td><td>4</td><td>4</td><td>--</td><td></td><td>CY14205_C_001_20220901_005334+124136</td><td>20e</td></tr>\n",
       "<tr><td>1</td><td>EMERLIN</td><td>--</td><td>45e7d7ae-e771-40ca-bd6a-bd11a6d22331</td><td>1</td><td>SCIENCE</td><td></td><td></td><td>--</td><td>--</td><td>--</td><td>--</td><td>--</td><td>1</td><td></td><td>CY16204_C_001_20231117_Mk2</td><td>1ec</td></tr>\n",
       "<tr><td>2</td><td>EMERLIN</td><td>--</td><td>6e08aa0d-e869-4833-9765-f6aa21c308ec</td><td>2</td><td>SCIENCE</td><td></td><td></td><td>--</td><td>--</td><td>--</td><td>--</td><td>--</td><td>2</td><td></td><td>CY16204_C_001_20231117_Kn</td><td>dc0</td></tr>\n",
       "<tr><td>3</td><td>EMERLIN</td><td>--</td><td>47a4405f-3080-4aca-bd75-708528542ef3</td><td>3</td><td>SCIENCE</td><td></td><td></td><td>--</td><td>--</td><td>--</td><td>--</td><td>--</td><td>3</td><td></td><td>CY16204_C_001_20231117_De</td><td>6e4</td></tr>\n",
       "<tr><td>18</td><td>EMERLIN</td><td>--</td><td>e2a05a89-e89e-4e4a-91c2-fd901ed4eca4</td><td>--</td><td>SCIENCE</td><td></td><td></td><td>--</td><td>--</td><td>--</td><td>5</td><td>5</td><td>--</td><td></td><td>CY14205_C_001_20220901_0319+4130</td><td>b8a</td></tr>\n",
       "<tr><td>4</td><td>EMERLIN</td><td>--</td><td>ab867ede-2aeb-4409-a43a-421cff875c25</td><td>4</td><td>SCIENCE</td><td></td><td></td><td>--</td><td>--</td><td>--</td><td>--</td><td>--</td><td>4</td><td></td><td>CY16204_C_001_20231117_Pi</td><td>86f</td></tr>\n",
       "<tr><td>...</td><td>...</td><td>...</td><td>...</td><td>...</td><td>...</td><td>...</td><td>...</td><td>...</td><td>...</td><td>...</td><td>...</td><td>...</td><td>...</td><td>...</td><td>...</td><td>...</td></tr>\n",
       "<tr><td>15</td><td>EMERLIN</td><td>--</td><td>48766cfc-8f69-4ed6-9f5c-6b4826fb5dd8</td><td>11</td><td>SCIENCE</td><td></td><td></td><td>--</td><td>--</td><td>--</td><td>--</td><td>--</td><td>12</td><td></td><td>CY14205_C_001_20220901_Da</td><td>99d</td></tr>\n",
       "<tr><td>22</td><td>EMERLIN</td><td>--</td><td>e7a97248-e24e-40b8-9dc0-761b5821b6c5</td><td>--</td><td>SCIENCE</td><td></td><td></td><td>--</td><td>--</td><td>--</td><td>9</td><td>9</td><td>--</td><td></td><td>CY14205_C_001_20220901_0035+1438</td><td>628</td></tr>\n",
       "<tr><td>16</td><td>EMERLIN</td><td>--</td><td>f29c9c10-addf-4d13-81b6-4d391d8080d2</td><td>12</td><td>SCIENCE</td><td></td><td></td><td>--</td><td>--</td><td>--</td><td>--</td><td>--</td><td>13</td><td></td><td>CY14205_C_001_20220901_Cm</td><td>43c</td></tr>\n",
       "<tr><td>23</td><td>EMERLIN</td><td>--</td><td>46645a2f-b1df-4e5a-aef4-30ba00d1db1f</td><td>--</td><td>SCIENCE</td><td></td><td></td><td>--</td><td>--</td><td>--</td><td>10</td><td>10</td><td>--</td><td></td><td>CY14205_C_001_20220901_015950+002340</td><td>c99</td></tr>\n",
       "<tr><td>24</td><td>EMERLIN</td><td>--</td><td>4d7b8f31-2809-4fc5-a682-7fd8a68add0b</td><td>--</td><td>SCIENCE</td><td></td><td></td><td>--</td><td>--</td><td>--</td><td>11</td><td>11</td><td>--</td><td></td><td>CY14205_C_001_20220901_0055+1408</td><td>637</td></tr>\n",
       "<tr><td>25</td><td>EMERLIN</td><td>--</td><td>117bf4c3-129f-4a47-86c6-750a4ed29834</td><td>--</td><td>SCIENCE</td><td></td><td></td><td>--</td><td>--</td><td>--</td><td>12</td><td>12</td><td>--</td><td></td><td>CY14205_C_001_20220901_1407+2827</td><td>e86</td></tr>\n",
       "<tr><td>26</td><td>EMERLIN</td><td>--</td><td>d8f3c78b-edc3-417f-b1ac-a2bf9411e4ef</td><td>--</td><td>SCIENCE</td><td></td><td></td><td>--</td><td>--</td><td>--</td><td>--</td><td>--</td><td>14</td><td></td><td>CY14205_C_001_20220901</td><td>149</td></tr>\n",
       "</table></div>"
      ],
      "text/plain": [
       "<Table length=26>\n",
       "algorithm_id collection ...                 uri                  uribucket\n",
       "   int64       object   ...                object                  object \n",
       "------------ ---------- ... ------------------------------------ ---------\n",
       "          17    EMERLIN ... CY14205_C_001_20220901_005334+124136       20e\n",
       "           1    EMERLIN ...           CY16204_C_001_20231117_Mk2       1ec\n",
       "           2    EMERLIN ...            CY16204_C_001_20231117_Kn       dc0\n",
       "           3    EMERLIN ...            CY16204_C_001_20231117_De       6e4\n",
       "          18    EMERLIN ...     CY14205_C_001_20220901_0319+4130       b8a\n",
       "           4    EMERLIN ...            CY16204_C_001_20231117_Pi       86f\n",
       "         ...        ... ...                                  ...       ...\n",
       "          15    EMERLIN ...            CY14205_C_001_20220901_Da       99d\n",
       "          22    EMERLIN ...     CY14205_C_001_20220901_0035+1438       628\n",
       "          16    EMERLIN ...            CY14205_C_001_20220901_Cm       43c\n",
       "          23    EMERLIN ... CY14205_C_001_20220901_015950+002340       c99\n",
       "          24    EMERLIN ...     CY14205_C_001_20220901_0055+1408       637\n",
       "          25    EMERLIN ...     CY14205_C_001_20220901_1407+2827       e86\n",
       "          26    EMERLIN ...               CY14205_C_001_20220901       149"
      ]
     },
     "execution_count": 156,
     "metadata": {},
     "output_type": "execute_result"
    }
   ],
   "source": [
    "resultset.to_table()"
   ]
  },
  {
   "cell_type": "code",
   "execution_count": 157,
   "id": "b7518e10",
   "metadata": {},
   "outputs": [],
   "source": [
    "resultset = service.search(\"SELECT * FROM derivedobservation\")"
   ]
  },
  {
   "cell_type": "code",
   "execution_count": 158,
   "id": "7abc9593",
   "metadata": {},
   "outputs": [
    {
     "data": {
      "text/html": [
       "<div><i>Table length=2</i>\n",
       "<table id=\"table139852676146848\" class=\"table-striped table-bordered table-condensed\">\n",
       "<thead><tr><th>id</th><th>members</th></tr></thead>\n",
       "<thead><tr><th>object</th><th>object</th></tr></thead>\n",
       "<tr><td>d65aeffc-6dc2-40d3-a590-caba61d84613</td><td>CY16204_C_001_20231117_Cm;CY16204_C_001_20231117_Mk2;CY16204_C_001_20231117_1331+3030;CY16204_C_001_20231117_1407+2827;CY16204_C_001_20231117_Kn;CY16204_C_001_20231117_Pi;CY16204_C_001_20231117_De;CY16204_C_001_20231117_Da;CY16204_C_001_20231117_1415+1320</td></tr>\n",
       "<tr><td>d8f3c78b-edc3-417f-b1ac-a2bf9411e4ef</td><td>CY14205_C_001_20220901_0035+1438;CY14205_C_001_20220901_005334+124136;CY14205_C_001_20220901_Kn;CY14205_C_001_20220901_015950+002340;CY14205_C_001_20220901_1331+3030;CY14205_C_001_20220901_Cm;CY14205_C_001_20220901_0319+4130;CY14205_C_001_20220901_Mk2;CY14205_C_001_20220901_Da;CY14205_C_001_20220901_0157+0011;CY14205_C_001_20220901_De;CY14205_C_001_20220901_002913+131604;CY14205_C_001_20220901_1407+2827;CY14205_C_001_20220901_0055+1408;CY14205_C_001_20220901_Pi</td></tr>\n",
       "</table></div>"
      ],
      "text/plain": [
       "<Table length=2>\n",
       "                 id                  ...\n",
       "               object                ...\n",
       "------------------------------------ ...\n",
       "d65aeffc-6dc2-40d3-a590-caba61d84613 ...\n",
       "d8f3c78b-edc3-417f-b1ac-a2bf9411e4ef ..."
      ]
     },
     "execution_count": 158,
     "metadata": {},
     "output_type": "execute_result"
    }
   ],
   "source": [
    "resultset.to_table()"
   ]
  },
  {
   "cell_type": "code",
   "execution_count": 159,
   "id": "d8bedf8f",
   "metadata": {},
   "outputs": [],
   "source": [
    "derived_observation_id = resultset.to_table()['id'][0]"
   ]
  },
  {
   "cell_type": "markdown",
   "id": "5fae6720",
   "metadata": {},
   "source": [
    "## Use Cases for e-Merlin Metadata"
   ]
  },
  {
   "cell_type": "markdown",
   "id": "55f9641d",
   "metadata": {},
   "source": [
    "### Use Case 1 \n",
    "As an astronomer, I want to be able to browse the e-Merlin archive so that I can find data products that are suitable for my science goals.\n",
    "\n",
    "Observational metadata including: target (name, id, etc.), WCS information (RA/DEC), date/time of\n",
    "observation, observing frequency, spectral line data, baseline, resolution, beam, field of view, PI or researchers, Telescopes\n",
    "present, number of visits, Polarisation"
   ]
  },
  {
   "cell_type": "code",
   "execution_count": 358,
   "id": "2c046782",
   "metadata": {},
   "outputs": [],
   "source": [
    "resultset = service.search(\"\"\"\n",
    "SELECT t.*, i.* FROM Telescope t \n",
    "JOIN Observation o ON o.telescope_id = t.id \n",
    "JOIN Instrument i ON i.id = o.instrument_id\n",
    "WHERE EXISTS (\n",
    "    SELECT 1\n",
    "    FROM Derivedobservation d \n",
    "    WHERE d.id = '{}' AND d.members LIKE '%' || o.uri || '%'\n",
    "    )\n",
    "\n",
    ";\"\"\".format(derived_observation_id))\n",
    "# only returns location of sites, calculation for baseline is paused until issues with the values are resolved"
   ]
  },
  {
   "cell_type": "code",
   "execution_count": 359,
   "id": "2f810120",
   "metadata": {},
   "outputs": [
    {
     "data": {
      "text/html": [
       "<div><i>Table length=6</i>\n",
       "<table id=\"table139852657793584\" class=\"table-striped table-bordered table-condensed\">\n",
       "<thead><tr><th>geolocationx</th><th>geolocationy</th><th>geolocationz</th><th>id</th><th>keywords</th><th>name</th><th>trackingmode</th><th>id2</th><th>keywords2</th><th>name2</th></tr></thead>\n",
       "<thead><tr><th>float64</th><th>float64</th><th>float64</th><th>int64</th><th>object</th><th>object</th><th>object</th><th>int64</th><th>object</th><th>object</th></tr></thead>\n",
       "<tr><td>0.018163180067862095</td><td>-0.026508953212361644</td><td>-0.024171788669066677</td><td>1</td><td></td><td>e-MERLIN</td><td></td><td>1</td><td></td><td>Mk2</td></tr>\n",
       "<tr><td>-0.00844229087230352</td><td>0.04069186441719252</td><td>-0.03176831208560866</td><td>2</td><td></td><td>e-MERLIN</td><td></td><td>2</td><td></td><td>Kn</td></tr>\n",
       "<tr><td>-0.014581808067785246</td><td>0.025596742665565733</td><td>-0.02308715833180284</td><td>3</td><td></td><td>e-MERLIN</td><td></td><td>3</td><td></td><td>De</td></tr>\n",
       "<tr><td>0.012334199619778453</td><td>-0.03182568604765</td><td>-0.02562333464060841</td><td>4</td><td></td><td>e-MERLIN</td><td></td><td>4</td><td></td><td>Pi</td></tr>\n",
       "<tr><td>0.010207504870832346</td><td>0.03382407987219867</td><td>-0.02665123418525062</td><td>5</td><td></td><td>e-MERLIN</td><td></td><td>5</td><td></td><td>Da</td></tr>\n",
       "<tr><td>0.0005105876155187977</td><td>1.5140529300510745e-05</td><td>0.0003993721621628234</td><td>6</td><td></td><td>e-MERLIN</td><td></td><td>6</td><td></td><td>Cm</td></tr>\n",
       "</table></div>"
      ],
      "text/plain": [
       "<Table length=6>\n",
       "     geolocationx          geolocationy      ... keywords2 name2 \n",
       "       float64               float64         ...   object  object\n",
       "--------------------- ---------------------- ... --------- ------\n",
       " 0.018163180067862095  -0.026508953212361644 ...              Mk2\n",
       " -0.00844229087230352    0.04069186441719252 ...               Kn\n",
       "-0.014581808067785246   0.025596742665565733 ...               De\n",
       " 0.012334199619778453      -0.03182568604765 ...               Pi\n",
       " 0.010207504870832346    0.03382407987219867 ...               Da\n",
       "0.0005105876155187977 1.5140529300510745e-05 ...               Cm"
      ]
     },
     "execution_count": 359,
     "metadata": {},
     "output_type": "execute_result"
    }
   ],
   "source": [
    "resultset.to_table() # add determination of baseline from geolocation after checking it"
   ]
  },
  {
   "cell_type": "code",
   "execution_count": 135,
   "id": "85025e82",
   "metadata": {},
   "outputs": [],
   "source": [
    "resultset = service.search(\"\"\"\n",
    "SELECT t.name, p.* FROM Target t \n",
    "JOIN Observation o ON o.target_id = t.id \n",
    "JOIN point p ON t.id = p.id\n",
    "WHERE EXISTS (\n",
    "    SELECT 1\n",
    "    FROM Derivedobservation d \n",
    "    WHERE d.id = '{}' AND d.members LIKE '%' || o.uri || '%'\n",
    "    )\n",
    "\n",
    ";\"\"\".format(derived_observation_id))"
   ]
  },
  {
   "cell_type": "code",
   "execution_count": 136,
   "id": "3f50aa49",
   "metadata": {},
   "outputs": [
    {
     "data": {
      "text/html": [
       "<div><i>Table length=3</i>\n",
       "<table id=\"table139852679391168\" class=\"table-striped table-bordered table-condensed\">\n",
       "<thead><tr><th>name</th><th>cval1</th><th>cval2</th><th>id</th><th>polygon_id</th></tr></thead>\n",
       "<thead><tr><th>object</th><th>float64</th><th>float64</th><th>int64</th><th>int64</th></tr></thead>\n",
       "<tr><td>1331+3030</td><td>202.78453041666666</td><td>30.509155277777786</td><td>1</td><td>--</td></tr>\n",
       "<tr><td>1407+2827</td><td>211.751643375</td><td>28.454080527777776</td><td>2</td><td>--</td></tr>\n",
       "<tr><td>1415+1320</td><td>213.9950708333333</td><td>13.339920000000003</td><td>3</td><td>--</td></tr>\n",
       "</table></div>"
      ],
      "text/plain": [
       "<Table length=3>\n",
       "   name         cval1              cval2          id  polygon_id\n",
       "  object       float64            float64       int64   int64   \n",
       "--------- ------------------ ------------------ ----- ----------\n",
       "1331+3030 202.78453041666666 30.509155277777786     1         --\n",
       "1407+2827      211.751643375 28.454080527777776     2         --\n",
       "1415+1320  213.9950708333333 13.339920000000003     3         --"
      ]
     },
     "execution_count": 136,
     "metadata": {},
     "output_type": "execute_result"
    }
   ],
   "source": [
    "resultset.to_table()"
   ]
  },
  {
   "cell_type": "code",
   "execution_count": 150,
   "id": "d422af5a",
   "metadata": {},
   "outputs": [],
   "source": [
    "resultset = service.search(\"\"\"\n",
    "SELECT pl.*, t.bounds_upper, t.bounds_lower, e.bounds_upper, e.bounds_lower, p.states, pvn.project FROM Plane pl \n",
    "JOIN Observation o ON o.id = pl.observation_id \n",
    "JOIN time t ON pl.time_id = t.id\n",
    "JOIN energy e ON pl.energy_id = e.id\n",
    "JOIN polarization p ON pl.polarization_id = p.id\n",
    "JOIN provenance pvn ON pl.provenance_id = pvn.id\n",
    "WHERE EXISTS (\n",
    "    SELECT 1\n",
    "    FROM Derivedobservation d \n",
    "    WHERE d.id = '{}' AND d.members LIKE '%' || o.uri || '%'\n",
    "    )\n",
    ";\"\"\".format(derived_observation_id))"
   ]
  },
  {
   "cell_type": "code",
   "execution_count": 151,
   "id": "8c38da95",
   "metadata": {},
   "outputs": [
    {
     "data": {
      "text/html": [
       "<div><i>Table length=2</i>\n",
       "<table id=\"table139852671623568\" class=\"table-striped table-bordered table-condensed\">\n",
       "<thead><tr><th>calibrationlevel</th><th>custom_id</th><th>dataproducttype</th><th>datareadgroups</th><th>datarelease</th><th>energy_id</th><th>id</th><th>metareadgroups</th><th>metarelease</th><th>metrics_id</th><th>observable_id</th><th>observation_id</th><th>polarization_id</th><th>position_id</th><th>provenance_id</th><th>quality_id</th><th>time_id</th><th>uri</th><th>uv_id</th><th>bounds_upper</th><th>bounds_lower</th><th>bounds_upper2</th><th>bounds_lower2</th><th>states</th><th>project</th></tr></thead>\n",
       "<thead><tr><th>object</th><th>int64</th><th>object</th><th>object</th><th>object</th><th>int64</th><th>object</th><th>object</th><th>object</th><th>int64</th><th>int64</th><th>object</th><th>int64</th><th>int64</th><th>int64</th><th>int64</th><th>int64</th><th>object</th><th>int64</th><th>float64</th><th>float64</th><th>float64</th><th>float64</th><th>object</th><th>object</th></tr></thead>\n",
       "<tr><td></td><td>--</td><td></td><td></td><td>2023-11-17T10:45:05Z</td><td>1</td><td>a7483f68-c88b-4495-9315-d8c1a4599ea8</td><td></td><td></td><td>--</td><td>--</td><td>d65aeffc-6dc2-40d3-a590-caba61d84613</td><td>1</td><td>--</td><td>3</td><td>--</td><td>1</td><td>1415+1320</td><td>--</td><td>5206939798.0</td><td>5206939206.5</td><td>0.062236341706456304</td><td>0.056277915900131405</td><td>{RR,LL}</td><td>CY16204</td></tr>\n",
       "<tr><td></td><td>--</td><td>visibility</td><td></td><td>2023-11-17T10:45:05Z</td><td>2</td><td>f40ed4dd-9490-4561-b733-a934cc9849f4</td><td></td><td></td><td>--</td><td>--</td><td>d65aeffc-6dc2-40d3-a590-caba61d84613</td><td>2</td><td>--</td><td>4</td><td>--</td><td>2</td><td>CY16204_C_001_20231117_avg.ms</td><td>--</td><td>5206939798.0</td><td>5206934706.5</td><td>0.06224280244991176</td><td>0.056272634068512434</td><td>{RR,LL}</td><td>CY16204</td></tr>\n",
       "</table></div>"
      ],
      "text/plain": [
       "<Table length=2>\n",
       "calibrationlevel custom_id dataproducttype ...  states project\n",
       "     object        int64        object     ...  object  object\n",
       "---------------- --------- --------------- ... ------- -------\n",
       "                        --                 ... {RR,LL} CY16204\n",
       "                        --      visibility ... {RR,LL} CY16204"
      ]
     },
     "execution_count": 151,
     "metadata": {},
     "output_type": "execute_result"
    }
   ],
   "source": [
    "resultset.to_table()"
   ]
  },
  {
   "cell_type": "code",
   "execution_count": 165,
   "id": "6dfe3bc8",
   "metadata": {},
   "outputs": [],
   "source": [
    "resultset = service.search(\"\"\"\n",
    "SELECT pl.* FROM Plane pl\n",
    "WHERE pl.dataproducttype = 'spectrum'\n",
    "\"\"\")"
   ]
  },
  {
   "cell_type": "code",
   "execution_count": 166,
   "id": "4fb17d64",
   "metadata": {},
   "outputs": [
    {
     "data": {
      "text/html": [
       "<div><i>Table length=0</i>\n",
       "<table id=\"table139852675240576\" class=\"table-striped table-bordered table-condensed\">\n",
       "<thead><tr><th>calibrationlevel</th><th>custom_id</th><th>dataproducttype</th><th>datareadgroups</th><th>datarelease</th><th>energy_id</th><th>id</th><th>metareadgroups</th><th>metarelease</th><th>metrics_id</th><th>observable_id</th><th>observation_id</th><th>polarization_id</th><th>position_id</th><th>provenance_id</th><th>quality_id</th><th>time_id</th><th>uri</th><th>uv_id</th></tr></thead>\n",
       "<thead><tr><th>object</th><th>int64</th><th>object</th><th>object</th><th>object</th><th>int64</th><th>object</th><th>object</th><th>object</th><th>int64</th><th>int64</th><th>object</th><th>int64</th><th>int64</th><th>int64</th><th>int64</th><th>int64</th><th>object</th><th>int64</th></tr></thead>\n",
       "</table></div>"
      ],
      "text/plain": [
       "<Table length=0>\n",
       "calibrationlevel custom_id dataproducttype ... time_id  uri   uv_id\n",
       "     object        int64        object     ...  int64  object int64\n",
       "---------------- --------- --------------- ... ------- ------ -----"
      ]
     },
     "execution_count": 166,
     "metadata": {},
     "output_type": "execute_result"
    }
   ],
   "source": [
    "resultset.to_table()"
   ]
  },
  {
   "cell_type": "code",
   "execution_count": 174,
   "id": "4badf7bc",
   "metadata": {},
   "outputs": [],
   "source": [
    "resultset = service.search(\"\"\"\n",
    "SELECT pl.resolution, pl.resolutionbounds_lower, pl.resolutionbounds_upper FROM position pl\n",
    "\"\"\")"
   ]
  },
  {
   "cell_type": "code",
   "execution_count": 175,
   "id": "ebbeb740",
   "metadata": {},
   "outputs": [
    {
     "data": {
      "text/html": [
       "<div><i>Table length=0</i>\n",
       "<table id=\"table139852676148096\" class=\"table-striped table-bordered table-condensed\">\n",
       "<thead><tr><th>resolution</th><th>resolutionbounds_lower</th><th>resolutionbounds_upper</th></tr></thead>\n",
       "<thead><tr><th>float64</th><th>float64</th><th>float64</th></tr></thead>\n",
       "</table></div>"
      ],
      "text/plain": [
       "<Table length=0>\n",
       "resolution resolutionbounds_lower resolutionbounds_upper\n",
       " float64          float64                float64        \n",
       "---------- ---------------------- ----------------------"
      ]
     },
     "execution_count": 175,
     "metadata": {},
     "output_type": "execute_result"
    }
   ],
   "source": [
    "resultset.to_table()"
   ]
  },
  {
   "cell_type": "code",
   "execution_count": null,
   "id": "72584822",
   "metadata": {},
   "outputs": [],
   "source": [
    " ### These not currently included: beam, field of view (revisit spectrum and resolution and beam)"
   ]
  },
  {
   "cell_type": "markdown",
   "id": "b37cd56a",
   "metadata": {},
   "source": [
    "### Use Case 2 \n",
    "As an astronomer, I want browse the quality assessment information associated with the retrieved data products.\n",
    "\n",
    "Quality from the raw data table (perhaps not populated), quality in the processing (this page as a starting\n",
    "point for failed steps) Requested or predicted sensitivity, Telescopes scheduled, Comments on observing, other information\n",
    "used as indicators of quality e.g. UV plane"
   ]
  },
  {
   "cell_type": "markdown",
   "id": "5fbf1fb6",
   "metadata": {},
   "source": [
    "### Use Case 3\n",
    "As an astronomer, track the workflow history of a data product so that I can understand how it was generated by the Observatory.\n",
    "\n",
    "Pipeline version, input parameters, raw data identifier\n"
   ]
  },
  {
   "cell_type": "code",
   "execution_count": 186,
   "id": "e7bd37bb",
   "metadata": {},
   "outputs": [],
   "source": [
    "resultset = service.search(\"\"\"\n",
    "SELECT p.* FROM provenance p\n",
    "JOIN Plane pl ON pl.provenance_id = p.id \n",
    "JOIN Observation o ON o.id = pl.observation_id\n",
    "WHERE EXISTS (\n",
    "    SELECT 1\n",
    "    FROM Derivedobservation d \n",
    "    WHERE d.id = '{}' AND d.members LIKE '%' || o.uri || '%'\n",
    "    )\n",
    "\"\"\".format(derived_observation_id))"
   ]
  },
  {
   "cell_type": "code",
   "execution_count": 187,
   "id": "db4f4469",
   "metadata": {},
   "outputs": [
    {
     "data": {
      "text/html": [
       "<div><i>Table length=4</i>\n",
       "<table id=\"table139852673095232\" class=\"table-striped table-bordered table-condensed\">\n",
       "<thead><tr><th>id</th><th>inputs</th><th>keywords</th><th>lastexecuted</th><th>name</th><th>producer</th><th>project</th><th>reference</th><th>runid</th><th>version</th></tr></thead>\n",
       "<thead><tr><th>int64</th><th>object</th><th>object</th><th>object</th><th>object</th><th>object</th><th>object</th><th>object</th><th>object</th><th>object</th></tr></thead>\n",
       "<tr><td>2</td><td></td><td>Role pointing_calibrator</td><td></td><td>eMERLIN_CASA_pipeline</td><td></td><td></td><td></td><td>CY16204_C_001_20231117</td><td>v1.1.19</td></tr>\n",
       "<tr><td>3</td><td></td><td></td><td></td><td>eMERLIN_CASA_pipeline</td><td></td><td>CY16204</td><td></td><td>CY16204_C_001_20231117</td><td>v1.1.19</td></tr>\n",
       "<tr><td>4</td><td></td><td></td><td></td><td>eMERLIN_CASA_pipeline</td><td></td><td>CY16204</td><td></td><td>CY16204_C_001_20231117</td><td>v1.1.19</td></tr>\n",
       "<tr><td>1</td><td></td><td>Role flux_calibrator</td><td></td><td>eMERLIN_CASA_pipeline</td><td></td><td></td><td></td><td>CY16204_C_001_20231117</td><td>v1.1.19</td></tr>\n",
       "</table></div>"
      ],
      "text/plain": [
       "<Table length=4>\n",
       "  id  inputs         keywords         ...         runid          version\n",
       "int64 object          object          ...         object          object\n",
       "----- ------ ------------------------ ... ---------------------- -------\n",
       "    2        Role pointing_calibrator ... CY16204_C_001_20231117 v1.1.19\n",
       "    3                                 ... CY16204_C_001_20231117 v1.1.19\n",
       "    4                                 ... CY16204_C_001_20231117 v1.1.19\n",
       "    1            Role flux_calibrator ... CY16204_C_001_20231117 v1.1.19"
      ]
     },
     "execution_count": 187,
     "metadata": {},
     "output_type": "execute_result"
    }
   ],
   "source": [
    "resultset.to_table()"
   ]
  },
  {
   "cell_type": "markdown",
   "id": "c67cf5ed",
   "metadata": {},
   "source": [
    "### Use Case 4\n",
    "\n",
    "As an astronomer, I want to be able to find data that is closely linked to my dataset. For example, data\n",
    "that shares a project code, principle investigator, or was derived from the same set of raw data.\n",
    "\n",
    "Project code, PI, raw data identifier"
   ]
  },
  {
   "cell_type": "code",
   "execution_count": 189,
   "id": "cf901e5c",
   "metadata": {},
   "outputs": [],
   "source": [
    "resultset = service.search(\"\"\"\n",
    "SELECT p.project, p.producer, o.uri FROM provenance p\n",
    "JOIN Plane pl ON pl.provenance_id = p.id \n",
    "JOIN Observation o ON o.id = pl.observation_id\n",
    "WHERE EXISTS (\n",
    "    SELECT 1\n",
    "    FROM Derivedobservation d \n",
    "    WHERE d.id = '{}' AND d.members LIKE '%' || o.uri || '%'\n",
    "    )\n",
    "\"\"\".format(derived_observation_id))"
   ]
  },
  {
   "cell_type": "code",
   "execution_count": 190,
   "id": "77466ec6",
   "metadata": {},
   "outputs": [
    {
     "data": {
      "text/html": [
       "<div><i>Table length=4</i>\n",
       "<table id=\"table139852673026896\" class=\"table-striped table-bordered table-condensed\">\n",
       "<thead><tr><th>project</th><th>producer</th><th>uri</th></tr></thead>\n",
       "<thead><tr><th>object</th><th>object</th><th>object</th></tr></thead>\n",
       "<tr><td></td><td></td><td>CY16204_C_001_20231117</td></tr>\n",
       "<tr><td>CY16204</td><td></td><td>CY16204_C_001_20231117</td></tr>\n",
       "<tr><td>CY16204</td><td></td><td>CY16204_C_001_20231117</td></tr>\n",
       "<tr><td></td><td></td><td>CY16204_C_001_20231117</td></tr>\n",
       "</table></div>"
      ],
      "text/plain": [
       "<Table length=4>\n",
       "project producer          uri          \n",
       " object  object          object        \n",
       "------- -------- ----------------------\n",
       "                 CY16204_C_001_20231117\n",
       "CY16204          CY16204_C_001_20231117\n",
       "CY16204          CY16204_C_001_20231117\n",
       "                 CY16204_C_001_20231117"
      ]
     },
     "execution_count": 190,
     "metadata": {},
     "output_type": "execute_result"
    }
   ],
   "source": [
    "resultset.to_table()"
   ]
  },
  {
   "cell_type": "markdown",
   "id": "f6eaf76f",
   "metadata": {},
   "source": [
    "### Use Case 5\n",
    "As an astronomer, I want to be able to use geometric spatial searches for my target data (cone search etc.)\n",
    "\n",
    "PostgresSQL, WCS info, field of view"
   ]
  },
  {
   "cell_type": "code",
   "execution_count": null,
   "id": "edc4a58c",
   "metadata": {},
   "outputs": [],
   "source": [
    "resultset = vo.dal.conesearch(\"http://localhost:8080/tap\", )"
   ]
  },
  {
   "cell_type": "code",
   "execution_count": 227,
   "id": "1f41169b",
   "metadata": {},
   "outputs": [],
   "source": [
    "# SELECT o.uri, DISTANCE(202.65, 30.51, p.cval1, p.cval2) AS ang_sep\n",
    "\n",
    "resultset = service.search(\"\"\"\n",
    "SELECT o.uri, p.cval1, p.cval2 \n",
    "FROM point p\n",
    "JOIN targetposition tp ON tp.id = p.id\n",
    "JOIN observation o ON tp.id = o.targetposition_id\n",
    "WHERE p.cval1 > 202. AND p.cval1 < 203. AND p.cval2 > 30. AND p.cval2 < 31.\n",
    "\"\"\")"
   ]
  },
  {
   "cell_type": "code",
   "execution_count": 228,
   "id": "39563e6c",
   "metadata": {},
   "outputs": [
    {
     "data": {
      "text/html": [
       "<div><i>Table length=2</i>\n",
       "<table id=\"table139852661379024\" class=\"table-striped table-bordered table-condensed\">\n",
       "<thead><tr><th>uri</th><th>cval1</th><th>cval2</th></tr></thead>\n",
       "<thead><tr><th>object</th><th>float64</th><th>float64</th></tr></thead>\n",
       "<tr><td>CY16204_C_001_20231117_1331+3030</td><td>202.78453041666666</td><td>30.509155277777786</td></tr>\n",
       "<tr><td>CY14205_C_001_20220901_1331+3030</td><td>202.78453041666666</td><td>30.509155277777786</td></tr>\n",
       "</table></div>"
      ],
      "text/plain": [
       "<Table length=2>\n",
       "              uri                      cval1              cval2       \n",
       "             object                   float64            float64      \n",
       "-------------------------------- ------------------ ------------------\n",
       "CY16204_C_001_20231117_1331+3030 202.78453041666666 30.509155277777786\n",
       "CY14205_C_001_20220901_1331+3030 202.78453041666666 30.509155277777786"
      ]
     },
     "execution_count": 228,
     "metadata": {},
     "output_type": "execute_result"
    }
   ],
   "source": [
    "resultset.to_table()"
   ]
  },
  {
   "cell_type": "code",
   "execution_count": 230,
   "id": "efe10a69",
   "metadata": {},
   "outputs": [],
   "source": [
    "# SELECT o.uri, DISTANCE(202.65, 30.51, p.cval1, p.cval2) AS ang_sep\n",
    "\n",
    "# possible methods for cone search which are stated in the pyvo documentation but do not work \n",
    "\n",
    "# resultset = service.search(\"\"\"\n",
    "# SELECT o.uri, p.cval1, p.cval2 \n",
    "# FROM point p\n",
    "# JOIN targetposition tp ON tp.id = p.id\n",
    "# JOIN observation o ON tp.id = o.targetposition_id\n",
    "# WHERE DISTANCE(POINT('ICRS', 201.,30.) POINT('ICRS', 201.,30.))<0.01\n",
    "# \"\"\")\n",
    "\n",
    "# resultset = service.search(\"\"\"\n",
    "# SELECT o.uri, p.cval1, p.cval2 \n",
    "# FROM point p\n",
    "# JOIN targetposition tp ON tp.id = p.id\n",
    "# JOIN observation o ON tp.id = o.targetposition_id\n",
    "# WHERE CONTAINS(POINT('ICRS', 201.,30.) CIRCLE('ICRS', 201.,30.,0.05))=1\n",
    "# \"\"\")"
   ]
  },
  {
   "cell_type": "markdown",
   "id": "1b53653c",
   "metadata": {},
   "source": [
    "### Use Case 6 \n",
    "\n",
    "As an astronomer I want to be able to search for ancillary sources to my target data and discover their\n",
    "roles.\n",
    "\n",
    "Ancillary target names and roles"
   ]
  },
  {
   "cell_type": "code",
   "execution_count": 267,
   "id": "14a4dbd7",
   "metadata": {},
   "outputs": [],
   "source": [
    "resultset = service.search(\"\"\"\n",
    "SELECT p.observation_id, p.uri, pr.keywords FROM Plane p\n",
    "JOIN Provenance pr ON p.provenance_id = pr.id\n",
    "\"\"\")"
   ]
  },
  {
   "cell_type": "code",
   "execution_count": 268,
   "id": "350def03",
   "metadata": {},
   "outputs": [
    {
     "data": {
      "text/html": [
       "<div><i>Table length=14</i>\n",
       "<table id=\"table139852660844864\" class=\"table-striped table-bordered table-condensed\">\n",
       "<thead><tr><th>observation_id</th><th>uri</th><th>keywords</th></tr></thead>\n",
       "<thead><tr><th>object</th><th>object</th><th>object</th></tr></thead>\n",
       "<tr><td>d65aeffc-6dc2-40d3-a590-caba61d84613</td><td>1331+3030</td><td>Role flux_calibrator</td></tr>\n",
       "<tr><td>d65aeffc-6dc2-40d3-a590-caba61d84613</td><td>1407+2827</td><td>Role pointing_calibrator</td></tr>\n",
       "<tr><td>d65aeffc-6dc2-40d3-a590-caba61d84613</td><td>1415+1320</td><td></td></tr>\n",
       "<tr><td>d65aeffc-6dc2-40d3-a590-caba61d84613</td><td>CY16204_C_001_20231117_avg.ms</td><td></td></tr>\n",
       "<tr><td>d8f3c78b-edc3-417f-b1ac-a2bf9411e4ef</td><td>005334+124136</td><td></td></tr>\n",
       "<tr><td>d8f3c78b-edc3-417f-b1ac-a2bf9411e4ef</td><td>0319+4130</td><td>Role pointing_calibrator</td></tr>\n",
       "<tr><td>d8f3c78b-edc3-417f-b1ac-a2bf9411e4ef</td><td>0157+0011</td><td>Role phase_calibrator_2</td></tr>\n",
       "<tr><td>d8f3c78b-edc3-417f-b1ac-a2bf9411e4ef</td><td>002913+131604</td><td></td></tr>\n",
       "<tr><td>d8f3c78b-edc3-417f-b1ac-a2bf9411e4ef</td><td>1331+3030</td><td>Role flux_calibrator</td></tr>\n",
       "<tr><td>d8f3c78b-edc3-417f-b1ac-a2bf9411e4ef</td><td>0035+1438</td><td>Role phase_calibrator_0</td></tr>\n",
       "<tr><td>d8f3c78b-edc3-417f-b1ac-a2bf9411e4ef</td><td>015950+002340</td><td></td></tr>\n",
       "<tr><td>d8f3c78b-edc3-417f-b1ac-a2bf9411e4ef</td><td>0055+1408</td><td>Role phase_calibrator_1</td></tr>\n",
       "<tr><td>d8f3c78b-edc3-417f-b1ac-a2bf9411e4ef</td><td>1407+2827</td><td>Role band_pass_calibrator</td></tr>\n",
       "<tr><td>d8f3c78b-edc3-417f-b1ac-a2bf9411e4ef</td><td>CY14205_C_001_20220901_avg.ms</td><td></td></tr>\n",
       "</table></div>"
      ],
      "text/plain": [
       "<Table length=14>\n",
       "           observation_id            ...          keywords        \n",
       "               object                ...           object         \n",
       "------------------------------------ ... -------------------------\n",
       "d65aeffc-6dc2-40d3-a590-caba61d84613 ...      Role flux_calibrator\n",
       "d65aeffc-6dc2-40d3-a590-caba61d84613 ...  Role pointing_calibrator\n",
       "d65aeffc-6dc2-40d3-a590-caba61d84613 ...                          \n",
       "d65aeffc-6dc2-40d3-a590-caba61d84613 ...                          \n",
       "d8f3c78b-edc3-417f-b1ac-a2bf9411e4ef ...                          \n",
       "d8f3c78b-edc3-417f-b1ac-a2bf9411e4ef ...  Role pointing_calibrator\n",
       "d8f3c78b-edc3-417f-b1ac-a2bf9411e4ef ...   Role phase_calibrator_2\n",
       "d8f3c78b-edc3-417f-b1ac-a2bf9411e4ef ...                          \n",
       "d8f3c78b-edc3-417f-b1ac-a2bf9411e4ef ...      Role flux_calibrator\n",
       "d8f3c78b-edc3-417f-b1ac-a2bf9411e4ef ...   Role phase_calibrator_0\n",
       "d8f3c78b-edc3-417f-b1ac-a2bf9411e4ef ...                          \n",
       "d8f3c78b-edc3-417f-b1ac-a2bf9411e4ef ...   Role phase_calibrator_1\n",
       "d8f3c78b-edc3-417f-b1ac-a2bf9411e4ef ... Role band_pass_calibrator\n",
       "d8f3c78b-edc3-417f-b1ac-a2bf9411e4ef ...                          "
      ]
     },
     "execution_count": 268,
     "metadata": {},
     "output_type": "execute_result"
    }
   ],
   "source": [
    "resultset.to_table()"
   ]
  },
  {
   "cell_type": "markdown",
   "id": "7656b47c",
   "metadata": {},
   "source": [
    "### Use Case 7 \n",
    "\n",
    "As an operator I want to be able to re-compute any data product based upon the metadata.\n",
    "\n",
    "Pipeline used, versions, parameters, raw data access, raw data location, data product access, data product\n",
    "location (emerlin measurement set directory structure includes .ini file and casa logs), release date, runtime environment"
   ]
  },
  {
   "cell_type": "code",
   "execution_count": 292,
   "id": "2ea7e443",
   "metadata": {},
   "outputs": [],
   "source": [
    "# raw data access, raw data location, release date?\n",
    "\n",
    "resultset = service.search(\"\"\"\n",
    "\n",
    "SELECT o.uri, pr.name, pr.version, p.datarelease, a.uri, a.contenttype, a.contentrelease FROM Observation o \n",
    "JOIN Plane p ON o.id=p.observation_id\n",
    "JOIN Provenance pr ON pr.id = p.provenance_id\n",
    "JOIN Artifact a ON a.plane_id = p.id\n",
    "\"\"\")"
   ]
  },
  {
   "cell_type": "code",
   "execution_count": 293,
   "id": "e4961c22",
   "metadata": {},
   "outputs": [
    {
     "data": {
      "text/html": [
       "<div><i>Table length=102</i>\n",
       "<table id=\"table139852661042048\" class=\"table-striped table-bordered table-condensed\">\n",
       "<thead><tr><th>uri</th><th>name</th><th>version</th><th>datarelease</th><th>uri2</th><th>contenttype</th><th>contentrelease</th></tr></thead>\n",
       "<thead><tr><th>object</th><th>object</th><th>object</th><th>object</th><th>object</th><th>object</th><th>object</th></tr></thead>\n",
       "<tr><td>CY16204_C_001_20231117</td><td>eMERLIN_CASA_pipeline</td><td>v1.1.19</td><td></td><td>uri:CY16204_C_001_20231117_avg_4plot_1407+2827_data1.png</td><td>image/png</td><td></td></tr>\n",
       "<tr><td>CY16204_C_001_20231117</td><td>eMERLIN_CASA_pipeline</td><td>v1.1.19</td><td></td><td>uri:CY16204_C_001_20231117_avg_4plot_1331+3030_corrected0.png</td><td>image/png</td><td></td></tr>\n",
       "<tr><td>CY16204_C_001_20231117</td><td>eMERLIN_CASA_pipeline</td><td>v1.1.19</td><td></td><td>uri:CY16204_C_001_20231117_avg_4plot_1331+3030_corrected1.png</td><td>image/png</td><td></td></tr>\n",
       "<tr><td>CY16204_C_001_20231117</td><td>eMERLIN_CASA_pipeline</td><td>v1.1.19</td><td></td><td>uri:CY16204_C_001_20231117_avg_4plot_1331+3030_corrected3.png</td><td>image/png</td><td></td></tr>\n",
       "<tr><td>CY16204_C_001_20231117</td><td>eMERLIN_CASA_pipeline</td><td>v1.1.19</td><td></td><td>uri:CY16204_C_001_20231117_avg_4plot_1407+2827_corrected0.png</td><td>image/png</td><td></td></tr>\n",
       "<tr><td>CY16204_C_001_20231117</td><td>eMERLIN_CASA_pipeline</td><td>v1.1.19</td><td></td><td>uri:CY16204_C_001_20231117_avg_uvpltmodel_1407+2827.png</td><td>image/png</td><td></td></tr>\n",
       "<tr><td>...</td><td>...</td><td>...</td><td>...</td><td>...</td><td>...</td><td>...</td></tr>\n",
       "<tr><td>CY14205_C_001_20220901</td><td>eMERLIN_CASA_pipeline</td><td>v1.1.19</td><td></td><td>uri:CY14205_C_001_20220901_avg_4plot_1407+2827_corrected3.png</td><td>image/png</td><td></td></tr>\n",
       "<tr><td>CY14205_C_001_20220901</td><td>eMERLIN_CASA_pipeline</td><td>v1.1.19</td><td></td><td>uri:CY14205_C_001_20220901_avg_4plot_0319+4130_corrected0.png</td><td>image/png</td><td></td></tr>\n",
       "<tr><td>CY14205_C_001_20220901</td><td>eMERLIN_CASA_pipeline</td><td>v1.1.19</td><td></td><td>uri:CY14205_C_001_20220901_avg_4plot_0157+0011_data0.png</td><td>image/png</td><td></td></tr>\n",
       "<tr><td>CY14205_C_001_20220901</td><td>eMERLIN_CASA_pipeline</td><td>v1.1.19</td><td></td><td>uri:CY14205_C_001_20220901_avg_4plot_0035+1438_data1.png</td><td>image/png</td><td></td></tr>\n",
       "<tr><td>CY14205_C_001_20220901</td><td>eMERLIN_CASA_pipeline</td><td>v1.1.19</td><td></td><td>uri:CY14205_C_001_20220901_avg_uvcov_1407+2827.png</td><td>image/png</td><td></td></tr>\n",
       "<tr><td>CY14205_C_001_20220901</td><td>eMERLIN_CASA_pipeline</td><td>v1.1.19</td><td></td><td>uri:CY14205_C_001_20220901_avg_4plot_0157+0011_corrected3.png</td><td>image/png</td><td></td></tr>\n",
       "<tr><td>CY14205_C_001_20220901</td><td>eMERLIN_CASA_pipeline</td><td>v1.1.19</td><td></td><td>uri:CY14205_C_001_20220901_avg_4plot_1331+3030_data3.png</td><td>image/png</td><td></td></tr>\n",
       "</table></div>"
      ],
      "text/plain": [
       "<Table length=102>\n",
       "         uri                    name         ... contenttype contentrelease\n",
       "        object                 object        ...    object       object    \n",
       "---------------------- --------------------- ... ----------- --------------\n",
       "CY16204_C_001_20231117 eMERLIN_CASA_pipeline ...   image/png               \n",
       "CY16204_C_001_20231117 eMERLIN_CASA_pipeline ...   image/png               \n",
       "CY16204_C_001_20231117 eMERLIN_CASA_pipeline ...   image/png               \n",
       "CY16204_C_001_20231117 eMERLIN_CASA_pipeline ...   image/png               \n",
       "CY16204_C_001_20231117 eMERLIN_CASA_pipeline ...   image/png               \n",
       "CY16204_C_001_20231117 eMERLIN_CASA_pipeline ...   image/png               \n",
       "                   ...                   ... ...         ...            ...\n",
       "CY14205_C_001_20220901 eMERLIN_CASA_pipeline ...   image/png               \n",
       "CY14205_C_001_20220901 eMERLIN_CASA_pipeline ...   image/png               \n",
       "CY14205_C_001_20220901 eMERLIN_CASA_pipeline ...   image/png               \n",
       "CY14205_C_001_20220901 eMERLIN_CASA_pipeline ...   image/png               \n",
       "CY14205_C_001_20220901 eMERLIN_CASA_pipeline ...   image/png               \n",
       "CY14205_C_001_20220901 eMERLIN_CASA_pipeline ...   image/png               \n",
       "CY14205_C_001_20220901 eMERLIN_CASA_pipeline ...   image/png               "
      ]
     },
     "execution_count": 293,
     "metadata": {},
     "output_type": "execute_result"
    }
   ],
   "source": [
    "resultset.to_table()"
   ]
  },
  {
   "cell_type": "markdown",
   "id": "81d62c1b",
   "metadata": {},
   "source": [
    "### Use Case 8 \n",
    "\n",
    "As an operator I want to be able to determine if any given data product should be stored or re-computed\n",
    "on demand. \n",
    "\n",
    "Available resources (storage and compute), memory consumption of pipeline, process timings, data (physical)\n",
    "size, number of backups necessary, number of times data is accessed, raw data location/identifiers"
   ]
  },
  {
   "cell_type": "code",
   "execution_count": 298,
   "id": "77ce85b3",
   "metadata": {},
   "outputs": [],
   "source": [
    "resultset = service.search(\"\"\"\n",
    "SELECT pr.lastexecuted, a.contentlength, a.uri FROM Plane p\n",
    "JOIN Provenance pr ON pr.id = p.provenance_id\n",
    "JOIN Artifact a ON a.plane_id = p.id\n",
    "\"\"\")\n",
    "\n",
    "# not currently included: available resources, mem consumption, processing timing, backups, accesses"
   ]
  },
  {
   "cell_type": "code",
   "execution_count": 299,
   "id": "32084f0b",
   "metadata": {},
   "outputs": [
    {
     "data": {
      "text/html": [
       "<div><i>Table length=102</i>\n",
       "<table id=\"table139852659495792\" class=\"table-striped table-bordered table-condensed\">\n",
       "<thead><tr><th>lastexecuted</th><th>contentlength</th><th>uri</th></tr></thead>\n",
       "<thead><tr><th>object</th><th>int32</th><th>object</th></tr></thead>\n",
       "<tr><td></td><td>573923</td><td>uri:CY16204_C_001_20231117_avg_4plot_1407+2827_data1.png</td></tr>\n",
       "<tr><td></td><td>308239</td><td>uri:CY16204_C_001_20231117_avg_4plot_1331+3030_corrected0.png</td></tr>\n",
       "<tr><td></td><td>237693</td><td>uri:CY16204_C_001_20231117_avg_4plot_1331+3030_corrected1.png</td></tr>\n",
       "<tr><td></td><td>242288</td><td>uri:CY16204_C_001_20231117_avg_4plot_1331+3030_corrected3.png</td></tr>\n",
       "<tr><td></td><td>374433</td><td>uri:CY16204_C_001_20231117_avg_4plot_1407+2827_corrected0.png</td></tr>\n",
       "<tr><td></td><td>55698</td><td>uri:CY16204_C_001_20231117_avg_uvpltmodel_1407+2827.png</td></tr>\n",
       "<tr><td>...</td><td>...</td><td>...</td></tr>\n",
       "<tr><td></td><td>243624</td><td>uri:CY14205_C_001_20220901_avg_4plot_1407+2827_corrected3.png</td></tr>\n",
       "<tr><td></td><td>351805</td><td>uri:CY14205_C_001_20220901_avg_4plot_0319+4130_corrected0.png</td></tr>\n",
       "<tr><td></td><td>327745</td><td>uri:CY14205_C_001_20220901_avg_4plot_0157+0011_data0.png</td></tr>\n",
       "<tr><td></td><td>472040</td><td>uri:CY14205_C_001_20220901_avg_4plot_0035+1438_data1.png</td></tr>\n",
       "<tr><td></td><td>26389</td><td>uri:CY14205_C_001_20220901_avg_uvcov_1407+2827.png</td></tr>\n",
       "<tr><td></td><td>301963</td><td>uri:CY14205_C_001_20220901_avg_4plot_0157+0011_corrected3.png</td></tr>\n",
       "<tr><td></td><td>328496</td><td>uri:CY14205_C_001_20220901_avg_4plot_1331+3030_data3.png</td></tr>\n",
       "</table></div>"
      ],
      "text/plain": [
       "<Table length=102>\n",
       "lastexecuted ...                              uri                             \n",
       "   object    ...                             object                           \n",
       "------------ ... -------------------------------------------------------------\n",
       "             ...      uri:CY16204_C_001_20231117_avg_4plot_1407+2827_data1.png\n",
       "             ... uri:CY16204_C_001_20231117_avg_4plot_1331+3030_corrected0.png\n",
       "             ... uri:CY16204_C_001_20231117_avg_4plot_1331+3030_corrected1.png\n",
       "             ... uri:CY16204_C_001_20231117_avg_4plot_1331+3030_corrected3.png\n",
       "             ... uri:CY16204_C_001_20231117_avg_4plot_1407+2827_corrected0.png\n",
       "             ...       uri:CY16204_C_001_20231117_avg_uvpltmodel_1407+2827.png\n",
       "         ... ...                                                           ...\n",
       "             ... uri:CY14205_C_001_20220901_avg_4plot_1407+2827_corrected3.png\n",
       "             ... uri:CY14205_C_001_20220901_avg_4plot_0319+4130_corrected0.png\n",
       "             ...      uri:CY14205_C_001_20220901_avg_4plot_0157+0011_data0.png\n",
       "             ...      uri:CY14205_C_001_20220901_avg_4plot_0035+1438_data1.png\n",
       "             ...            uri:CY14205_C_001_20220901_avg_uvcov_1407+2827.png\n",
       "             ... uri:CY14205_C_001_20220901_avg_4plot_0157+0011_corrected3.png\n",
       "             ...      uri:CY14205_C_001_20220901_avg_4plot_1331+3030_data3.png"
      ]
     },
     "execution_count": 299,
     "metadata": {},
     "output_type": "execute_result"
    }
   ],
   "source": [
    "resultset.to_table()"
   ]
  },
  {
   "cell_type": "markdown",
   "id": "45039734",
   "metadata": {},
   "source": [
    "### Use Case 9 \n",
    "\n",
    "As an operator I want to be able to detect anomalies within the data processing or data itself.\n",
    "\n",
    "Quality metrics, parameters, processing time, memory consumption, identifiers, raw data links,"
   ]
  },
  {
   "cell_type": "code",
   "execution_count": 304,
   "id": "cf4a2492",
   "metadata": {},
   "outputs": [],
   "source": [
    "resultset = service.search(\"\"\"\n",
    "SELECT pr.lastexecuted, a.contentlength, a.uri FROM Plane p\n",
    "JOIN Provenance pr ON pr.id = p.provenance_id\n",
    "JOIN Artifact a ON a.plane_id = p.id\n",
    "\"\"\")\n",
    "\n",
    "# missing quality, parameters"
   ]
  },
  {
   "cell_type": "code",
   "execution_count": 305,
   "id": "8d535f5b",
   "metadata": {},
   "outputs": [
    {
     "data": {
      "text/html": [
       "<div><i>Table length=102</i>\n",
       "<table id=\"table139852659214896\" class=\"table-striped table-bordered table-condensed\">\n",
       "<thead><tr><th>lastexecuted</th><th>contentlength</th><th>uri</th></tr></thead>\n",
       "<thead><tr><th>object</th><th>int32</th><th>object</th></tr></thead>\n",
       "<tr><td></td><td>573923</td><td>uri:CY16204_C_001_20231117_avg_4plot_1407+2827_data1.png</td></tr>\n",
       "<tr><td></td><td>308239</td><td>uri:CY16204_C_001_20231117_avg_4plot_1331+3030_corrected0.png</td></tr>\n",
       "<tr><td></td><td>237693</td><td>uri:CY16204_C_001_20231117_avg_4plot_1331+3030_corrected1.png</td></tr>\n",
       "<tr><td></td><td>242288</td><td>uri:CY16204_C_001_20231117_avg_4plot_1331+3030_corrected3.png</td></tr>\n",
       "<tr><td></td><td>374433</td><td>uri:CY16204_C_001_20231117_avg_4plot_1407+2827_corrected0.png</td></tr>\n",
       "<tr><td></td><td>55698</td><td>uri:CY16204_C_001_20231117_avg_uvpltmodel_1407+2827.png</td></tr>\n",
       "<tr><td>...</td><td>...</td><td>...</td></tr>\n",
       "<tr><td></td><td>243624</td><td>uri:CY14205_C_001_20220901_avg_4plot_1407+2827_corrected3.png</td></tr>\n",
       "<tr><td></td><td>351805</td><td>uri:CY14205_C_001_20220901_avg_4plot_0319+4130_corrected0.png</td></tr>\n",
       "<tr><td></td><td>327745</td><td>uri:CY14205_C_001_20220901_avg_4plot_0157+0011_data0.png</td></tr>\n",
       "<tr><td></td><td>472040</td><td>uri:CY14205_C_001_20220901_avg_4plot_0035+1438_data1.png</td></tr>\n",
       "<tr><td></td><td>26389</td><td>uri:CY14205_C_001_20220901_avg_uvcov_1407+2827.png</td></tr>\n",
       "<tr><td></td><td>301963</td><td>uri:CY14205_C_001_20220901_avg_4plot_0157+0011_corrected3.png</td></tr>\n",
       "<tr><td></td><td>328496</td><td>uri:CY14205_C_001_20220901_avg_4plot_1331+3030_data3.png</td></tr>\n",
       "</table></div>"
      ],
      "text/plain": [
       "<Table length=102>\n",
       "lastexecuted ...                              uri                             \n",
       "   object    ...                             object                           \n",
       "------------ ... -------------------------------------------------------------\n",
       "             ...      uri:CY16204_C_001_20231117_avg_4plot_1407+2827_data1.png\n",
       "             ... uri:CY16204_C_001_20231117_avg_4plot_1331+3030_corrected0.png\n",
       "             ... uri:CY16204_C_001_20231117_avg_4plot_1331+3030_corrected1.png\n",
       "             ... uri:CY16204_C_001_20231117_avg_4plot_1331+3030_corrected3.png\n",
       "             ... uri:CY16204_C_001_20231117_avg_4plot_1407+2827_corrected0.png\n",
       "             ...       uri:CY16204_C_001_20231117_avg_uvpltmodel_1407+2827.png\n",
       "         ... ...                                                           ...\n",
       "             ... uri:CY14205_C_001_20220901_avg_4plot_1407+2827_corrected3.png\n",
       "             ... uri:CY14205_C_001_20220901_avg_4plot_0319+4130_corrected0.png\n",
       "             ...      uri:CY14205_C_001_20220901_avg_4plot_0157+0011_data0.png\n",
       "             ...      uri:CY14205_C_001_20220901_avg_4plot_0035+1438_data1.png\n",
       "             ...            uri:CY14205_C_001_20220901_avg_uvcov_1407+2827.png\n",
       "             ... uri:CY14205_C_001_20220901_avg_4plot_0157+0011_corrected3.png\n",
       "             ...      uri:CY14205_C_001_20220901_avg_4plot_1331+3030_data3.png"
      ]
     },
     "execution_count": 305,
     "metadata": {},
     "output_type": "execute_result"
    }
   ],
   "source": [
    "resultset.to_table()"
   ]
  },
  {
   "cell_type": "markdown",
   "id": "f68205fb",
   "metadata": {},
   "source": [
    "### Use Case 10\n",
    "\n",
    "As an operator I want to be able to determine if the needs of a proposal can be met by existing data products\n",
    "\n",
    "Observational metadata (date/time, location, field of view, polarisation, frequency, quality, etc.)"
   ]
  },
  {
   "cell_type": "code",
   "execution_count": 310,
   "id": "927be44c",
   "metadata": {},
   "outputs": [],
   "source": [
    "resultset = service.search(\"\"\"\n",
    "SELECT pl.*, t.bounds_upper, t.bounds_lower, e.bounds_upper, e.bounds_lower, p.states, pvn.project FROM Plane pl \n",
    "JOIN Observation o ON o.id = pl.observation_id \n",
    "JOIN time t ON pl.time_id = t.id\n",
    "JOIN energy e ON pl.energy_id = e.id\n",
    "JOIN polarization p ON pl.polarization_id = p.id\n",
    "JOIN provenance pvn ON pl.provenance_id = pvn.id\n",
    "WHERE EXISTS (\n",
    "    SELECT 1\n",
    "    FROM Derivedobservation d \n",
    "    WHERE d.id = '{}' AND d.members LIKE '%' || o.uri || '%'\n",
    "    )\n",
    ";\"\"\".format(derived_observation_id))"
   ]
  },
  {
   "cell_type": "code",
   "execution_count": 311,
   "id": "8b3f01c2",
   "metadata": {},
   "outputs": [
    {
     "data": {
      "text/html": [
       "<div><i>Table length=2</i>\n",
       "<table id=\"table139852658008608\" class=\"table-striped table-bordered table-condensed\">\n",
       "<thead><tr><th>calibrationlevel</th><th>custom_id</th><th>dataproducttype</th><th>datareadgroups</th><th>datarelease</th><th>energy_id</th><th>id</th><th>metareadgroups</th><th>metarelease</th><th>metrics_id</th><th>observable_id</th><th>observation_id</th><th>polarization_id</th><th>position_id</th><th>provenance_id</th><th>quality_id</th><th>time_id</th><th>uri</th><th>uv_id</th><th>bounds_upper</th><th>bounds_lower</th><th>bounds_upper2</th><th>bounds_lower2</th><th>states</th><th>project</th></tr></thead>\n",
       "<thead><tr><th>object</th><th>int64</th><th>object</th><th>object</th><th>object</th><th>int64</th><th>object</th><th>object</th><th>object</th><th>int64</th><th>int64</th><th>object</th><th>int64</th><th>int64</th><th>int64</th><th>int64</th><th>int64</th><th>object</th><th>int64</th><th>float64</th><th>float64</th><th>float64</th><th>float64</th><th>object</th><th>object</th></tr></thead>\n",
       "<tr><td></td><td>--</td><td></td><td></td><td>2023-11-17T10:45:05Z</td><td>1</td><td>a7483f68-c88b-4495-9315-d8c1a4599ea8</td><td></td><td></td><td>--</td><td>--</td><td>d65aeffc-6dc2-40d3-a590-caba61d84613</td><td>1</td><td>--</td><td>3</td><td>--</td><td>1</td><td>1415+1320</td><td>--</td><td>5206939798.0</td><td>5206939206.5</td><td>0.062236341706456304</td><td>0.056277915900131405</td><td>{RR,LL}</td><td>CY16204</td></tr>\n",
       "<tr><td></td><td>--</td><td>visibility</td><td></td><td>2023-11-17T10:45:05Z</td><td>2</td><td>f40ed4dd-9490-4561-b733-a934cc9849f4</td><td></td><td></td><td>--</td><td>--</td><td>d65aeffc-6dc2-40d3-a590-caba61d84613</td><td>2</td><td>--</td><td>4</td><td>--</td><td>2</td><td>CY16204_C_001_20231117_avg.ms</td><td>--</td><td>5206939798.0</td><td>5206934706.5</td><td>0.06224280244991176</td><td>0.056272634068512434</td><td>{RR,LL}</td><td>CY16204</td></tr>\n",
       "</table></div>"
      ],
      "text/plain": [
       "<Table length=2>\n",
       "calibrationlevel custom_id dataproducttype ...  states project\n",
       "     object        int64        object     ...  object  object\n",
       "---------------- --------- --------------- ... ------- -------\n",
       "                        --                 ... {RR,LL} CY16204\n",
       "                        --      visibility ... {RR,LL} CY16204"
      ]
     },
     "execution_count": 311,
     "metadata": {},
     "output_type": "execute_result"
    }
   ],
   "source": [
    "resultset.to_table()"
   ]
  },
  {
   "cell_type": "markdown",
   "id": "3dc82edb",
   "metadata": {},
   "source": [
    "### Use Case 11 \n",
    "\n",
    "As an operator, I want to be able to selectively determine when and to whom data should available\n",
    "\n",
    "Permissions status, time/date, project code, user information, agreements info (if they can be different),\n",
    "release date, meta release date"
   ]
  },
  {
   "cell_type": "code",
   "execution_count": 333,
   "id": "4e7e62aa",
   "metadata": {},
   "outputs": [],
   "source": [
    "resultset = service.search(\"\"\"\n",
    "SELECT pr.lastexecuted, a.uri, pr.project, p.datarelease, p.metarelease, o.metarelease FROM Plane p\n",
    "JOIN Provenance pr ON pr.id = p.provenance_id\n",
    "JOIN Artifact a ON a.plane_id = p.id\n",
    "JOIN Observation o ON o.id = p.observation_id\n",
    "\"\"\""
   ]
  },
  {
   "cell_type": "code",
   "execution_count": 334,
   "id": "6826870f",
   "metadata": {},
   "outputs": [
    {
     "data": {
      "text/html": [
       "<div><i>Table length=26</i>\n",
       "<table id=\"table139852657854928\" class=\"table-striped table-bordered table-condensed\">\n",
       "<thead><tr><th>lastexecuted</th><th>uri</th><th>project</th><th>datarelease</th><th>metarelease</th><th>metarelease2</th></tr></thead>\n",
       "<thead><tr><th>object</th><th>object</th><th>object</th><th>object</th><th>object</th><th>object</th></tr></thead>\n",
       "<tr><td></td><td>uri:CY16204_C_001_20231117_avg_4plot_1407+2827_data1.png</td><td></td><td></td><td></td><td></td></tr>\n",
       "<tr><td></td><td>uri:CY16204_C_001_20231117_avg_4plot_1331+3030_corrected0.png</td><td></td><td></td><td></td><td></td></tr>\n",
       "<tr><td></td><td>uri:CY16204_C_001_20231117_avg_4plot_1331+3030_corrected1.png</td><td></td><td></td><td></td><td></td></tr>\n",
       "<tr><td></td><td>uri:CY16204_C_001_20231117_avg_4plot_1331+3030_corrected3.png</td><td></td><td></td><td></td><td></td></tr>\n",
       "<tr><td></td><td>uri:CY16204_C_001_20231117_avg_4plot_1407+2827_corrected0.png</td><td></td><td></td><td></td><td></td></tr>\n",
       "<tr><td></td><td>uri:CY16204_C_001_20231117_avg_uvpltmodel_1407+2827.png</td><td></td><td></td><td></td><td></td></tr>\n",
       "<tr><td>...</td><td>...</td><td>...</td><td>...</td><td>...</td><td>...</td></tr>\n",
       "<tr><td></td><td>uri:CY16204_C_001_20231117_avg.ms</td><td>CY16204</td><td>2023-11-17T10:45:05Z</td><td></td><td></td></tr>\n",
       "<tr><td></td><td>uri:CY16204_C_001_20231117_avg_uvcov_1407+2827.png</td><td></td><td></td><td></td><td></td></tr>\n",
       "<tr><td></td><td>uri:CY16204_C_001_20231117_avg_uvplt_1407+2827.png</td><td></td><td></td><td></td><td></td></tr>\n",
       "<tr><td></td><td>uri:CY16204_C_001_20231117_avg_4plot_1407+2827_corrected3.png</td><td></td><td></td><td></td><td></td></tr>\n",
       "<tr><td></td><td>uri:CY16204_C_001_20231117_avg_uvplt_1331+3030.png</td><td></td><td></td><td></td><td></td></tr>\n",
       "<tr><td></td><td>uri:CY16204_C_001_20231117_avg_4plot_1331+3030_data3.png</td><td></td><td></td><td></td><td></td></tr>\n",
       "<tr><td></td><td>uri:CY16204_C_001_20231117_uvcov_1407+2827.png</td><td></td><td></td><td></td><td></td></tr>\n",
       "</table></div>"
      ],
      "text/plain": [
       "<Table length=26>\n",
       "lastexecuted ... metarelease2\n",
       "   object    ...    object   \n",
       "------------ ... ------------\n",
       "             ...             \n",
       "             ...             \n",
       "             ...             \n",
       "             ...             \n",
       "             ...             \n",
       "             ...             \n",
       "         ... ...          ...\n",
       "             ...             \n",
       "             ...             \n",
       "             ...             \n",
       "             ...             \n",
       "             ...             \n",
       "             ...             \n",
       "             ...             "
      ]
     },
     "execution_count": 334,
     "metadata": {},
     "output_type": "execute_result"
    }
   ],
   "source": [
    "resultset.to_table()"
   ]
  },
  {
   "cell_type": "markdown",
   "id": "ab86b51c",
   "metadata": {},
   "source": [
    "### Use Case 12\n",
    "\n",
    "As an operator, I want to be able to infer data quality from available metrics\n",
    "\n",
    "Resolution, weather, time/date, elevation, pipeline version/name/provenance, beam shape, uv coverage,\n",
    "max/min baseline length, est or actual sensitivity"
   ]
  },
  {
   "cell_type": "code",
   "execution_count": 340,
   "id": "9e02dc53",
   "metadata": {},
   "outputs": [],
   "source": [
    "resultset = service.search(\"\"\"\n",
    "SELECT o.id, t.bounds_lower, t.bounds_upper, pr.name, pr.version FROM Observation o \n",
    "JOIN Plane p ON o.id = p.observation_id\n",
    "JOIN time t ON t.id = p.time_id\n",
    "JOIN Provenance pr ON pr.id = provenance_id\n",
    "\"\"\")\n",
    "\n",
    "# time/date, pipeline name/version, baseline\n",
    "# add baseline query up top when completed"
   ]
  },
  {
   "cell_type": "code",
   "execution_count": 338,
   "id": "1280b90e",
   "metadata": {},
   "outputs": [
    {
     "data": {
      "text/html": [
       "<div><i>Table length=2</i>\n",
       "<table id=\"table139852657804768\" class=\"table-striped table-bordered table-condensed\">\n",
       "<thead><tr><th>id</th><th>bounds_lower</th><th>bounds_upper</th><th>name</th><th>version</th></tr></thead>\n",
       "<thead><tr><th>object</th><th>float64</th><th>float64</th><th>object</th><th>object</th></tr></thead>\n",
       "<tr><td>d65aeffc-6dc2-40d3-a590-caba61d84613</td><td>5206939206.5</td><td>5206939798.0</td><td>eMERLIN_CASA_pipeline</td><td>v1.1.19</td></tr>\n",
       "<tr><td>d65aeffc-6dc2-40d3-a590-caba61d84613</td><td>5206934706.5</td><td>5206939798.0</td><td>eMERLIN_CASA_pipeline</td><td>v1.1.19</td></tr>\n",
       "</table></div>"
      ],
      "text/plain": [
       "<Table length=2>\n",
       "                 id                  bounds_lower ... version\n",
       "               object                  float64    ...  object\n",
       "------------------------------------ ------------ ... -------\n",
       "d65aeffc-6dc2-40d3-a590-caba61d84613 5206939206.5 ... v1.1.19\n",
       "d65aeffc-6dc2-40d3-a590-caba61d84613 5206934706.5 ... v1.1.19"
      ]
     },
     "execution_count": 338,
     "metadata": {},
     "output_type": "execute_result"
    }
   ],
   "source": [
    "resultset.to_table()"
   ]
  },
  {
   "cell_type": "code",
   "execution_count": 354,
   "id": "4e68be50",
   "metadata": {},
   "outputs": [],
   "source": [
    "resultset = service.search(\"\"\"\n",
    "SELECT o.id, o.uri, t.geolocationx, t.geolocationy, t.geolocationz FROM Observation o\n",
    "JOIN Telescope t ON t.id = o.telescope_id\n",
    "WHERE EXISTS (\n",
    "    SELECT 1\n",
    "    FROM Derivedobservation d \n",
    "    WHERE d.id = '{}' AND d.members LIKE '%' || o.uri || '%'\n",
    "    )\n",
    "\"\"\".format(derived_observation_id))\n",
    "\n",
    "# only returns location of sites, calculation for baseline is paused until issues with the values are resolved"
   ]
  },
  {
   "cell_type": "code",
   "execution_count": 355,
   "id": "b02264b9",
   "metadata": {},
   "outputs": [
    {
     "data": {
      "text/html": [
       "<div><i>Table length=7</i>\n",
       "<table id=\"table139852657824624\" class=\"table-striped table-bordered table-condensed\">\n",
       "<thead><tr><th>id</th><th>uri</th><th>geolocationx</th><th>geolocationy</th><th>geolocationz</th></tr></thead>\n",
       "<thead><tr><th>object</th><th>object</th><th>float64</th><th>float64</th><th>float64</th></tr></thead>\n",
       "<tr><td>45e7d7ae-e771-40ca-bd6a-bd11a6d22331</td><td>CY16204_C_001_20231117_Mk2</td><td>0.018163180067862095</td><td>-0.026508953212361644</td><td>-0.024171788669066677</td></tr>\n",
       "<tr><td>6e08aa0d-e869-4833-9765-f6aa21c308ec</td><td>CY16204_C_001_20231117_Kn</td><td>-0.00844229087230352</td><td>0.04069186441719252</td><td>-0.03176831208560866</td></tr>\n",
       "<tr><td>47a4405f-3080-4aca-bd75-708528542ef3</td><td>CY16204_C_001_20231117_De</td><td>-0.014581808067785246</td><td>0.025596742665565733</td><td>-0.02308715833180284</td></tr>\n",
       "<tr><td>ab867ede-2aeb-4409-a43a-421cff875c25</td><td>CY16204_C_001_20231117_Pi</td><td>0.012334199619778453</td><td>-0.03182568604765</td><td>-0.02562333464060841</td></tr>\n",
       "<tr><td>3097a3c9-0328-4773-91fb-ba620e314630</td><td>CY16204_C_001_20231117_Da</td><td>0.010207504870832346</td><td>0.03382407987219867</td><td>-0.02665123418525062</td></tr>\n",
       "<tr><td>e38d1372-15a3-4731-a16f-c499dcfd201f</td><td>CY16204_C_001_20231117_Cm</td><td>0.0005105876155187977</td><td>1.5140529300510745e-05</td><td>0.0003993721621628234</td></tr>\n",
       "<tr><td>d65aeffc-6dc2-40d3-a590-caba61d84613</td><td>CY16204_C_001_20231117</td><td>--</td><td>--</td><td>--</td></tr>\n",
       "</table></div>"
      ],
      "text/plain": [
       "<Table length=7>\n",
       "                 id                  ...      geolocationz    \n",
       "               object                ...        float64       \n",
       "------------------------------------ ... ---------------------\n",
       "45e7d7ae-e771-40ca-bd6a-bd11a6d22331 ... -0.024171788669066677\n",
       "6e08aa0d-e869-4833-9765-f6aa21c308ec ...  -0.03176831208560866\n",
       "47a4405f-3080-4aca-bd75-708528542ef3 ...  -0.02308715833180284\n",
       "ab867ede-2aeb-4409-a43a-421cff875c25 ...  -0.02562333464060841\n",
       "3097a3c9-0328-4773-91fb-ba620e314630 ...  -0.02665123418525062\n",
       "e38d1372-15a3-4731-a16f-c499dcfd201f ... 0.0003993721621628234\n",
       "d65aeffc-6dc2-40d3-a590-caba61d84613 ...                    --"
      ]
     },
     "execution_count": 355,
     "metadata": {},
     "output_type": "execute_result"
    }
   ],
   "source": [
    "resultset.to_table()"
   ]
  },
  {
   "cell_type": "markdown",
   "id": "2399f313",
   "metadata": {},
   "source": [
    "### Use Case 13 \n",
    "\n",
    "As a computer, I want to be able to process observational data without human interaction.\n",
    "\n",
    "Raw data location/identifiers, pipeline info (location, version, available deployments), included anten-\n",
    "nas, correlator setup, calibrator choices, calibrator catalog, storage/compute resource availability, storage location, proposal database access, PI, target name, WCS, casa access"
   ]
  },
  {
   "cell_type": "code",
   "execution_count": 352,
   "id": "35df05da",
   "metadata": {},
   "outputs": [],
   "source": [
    "resultset = service.search(\"\"\"\n",
    "\n",
    "SELECT o.uri, pr.name, pr.version, p.datarelease, a.uri, a.contenttype, a.contentrelease, pr.project\n",
    "FROM Observation o \n",
    "JOIN Plane p ON o.id=p.observation_id\n",
    "JOIN Provenance pr ON pr.id = p.provenance_id\n",
    "JOIN Artifact a ON a.plane_id = p.id\n",
    "\"\"\")\n",
    "\n",
    "# artifact uri, pipeline name/version, antenna names (just make the query), calibrator roles + names, project code, \n",
    "# target name"
   ]
  },
  {
   "cell_type": "code",
   "execution_count": 353,
   "id": "2a6c605c",
   "metadata": {},
   "outputs": [
    {
     "data": {
      "text/html": [
       "<div><i>Table length=102</i>\n",
       "<table id=\"table139852657449520\" class=\"table-striped table-bordered table-condensed\">\n",
       "<thead><tr><th>uri</th><th>name</th><th>version</th><th>datarelease</th><th>uri2</th><th>contenttype</th><th>contentrelease</th><th>project</th></tr></thead>\n",
       "<thead><tr><th>object</th><th>object</th><th>object</th><th>object</th><th>object</th><th>object</th><th>object</th><th>object</th></tr></thead>\n",
       "<tr><td>CY16204_C_001_20231117</td><td>eMERLIN_CASA_pipeline</td><td>v1.1.19</td><td></td><td>uri:CY16204_C_001_20231117_avg_4plot_1407+2827_data1.png</td><td>image/png</td><td></td><td></td></tr>\n",
       "<tr><td>CY16204_C_001_20231117</td><td>eMERLIN_CASA_pipeline</td><td>v1.1.19</td><td></td><td>uri:CY16204_C_001_20231117_avg_4plot_1331+3030_corrected0.png</td><td>image/png</td><td></td><td></td></tr>\n",
       "<tr><td>CY16204_C_001_20231117</td><td>eMERLIN_CASA_pipeline</td><td>v1.1.19</td><td></td><td>uri:CY16204_C_001_20231117_avg_4plot_1331+3030_corrected1.png</td><td>image/png</td><td></td><td></td></tr>\n",
       "<tr><td>CY16204_C_001_20231117</td><td>eMERLIN_CASA_pipeline</td><td>v1.1.19</td><td></td><td>uri:CY16204_C_001_20231117_avg_4plot_1331+3030_corrected3.png</td><td>image/png</td><td></td><td></td></tr>\n",
       "<tr><td>CY16204_C_001_20231117</td><td>eMERLIN_CASA_pipeline</td><td>v1.1.19</td><td></td><td>uri:CY16204_C_001_20231117_avg_4plot_1407+2827_corrected0.png</td><td>image/png</td><td></td><td></td></tr>\n",
       "<tr><td>CY16204_C_001_20231117</td><td>eMERLIN_CASA_pipeline</td><td>v1.1.19</td><td></td><td>uri:CY16204_C_001_20231117_avg_uvpltmodel_1407+2827.png</td><td>image/png</td><td></td><td></td></tr>\n",
       "<tr><td>...</td><td>...</td><td>...</td><td>...</td><td>...</td><td>...</td><td>...</td><td>...</td></tr>\n",
       "<tr><td>CY14205_C_001_20220901</td><td>eMERLIN_CASA_pipeline</td><td>v1.1.19</td><td></td><td>uri:CY14205_C_001_20220901_avg_4plot_1407+2827_corrected3.png</td><td>image/png</td><td></td><td></td></tr>\n",
       "<tr><td>CY14205_C_001_20220901</td><td>eMERLIN_CASA_pipeline</td><td>v1.1.19</td><td></td><td>uri:CY14205_C_001_20220901_avg_4plot_0319+4130_corrected0.png</td><td>image/png</td><td></td><td></td></tr>\n",
       "<tr><td>CY14205_C_001_20220901</td><td>eMERLIN_CASA_pipeline</td><td>v1.1.19</td><td></td><td>uri:CY14205_C_001_20220901_avg_4plot_0157+0011_data0.png</td><td>image/png</td><td></td><td></td></tr>\n",
       "<tr><td>CY14205_C_001_20220901</td><td>eMERLIN_CASA_pipeline</td><td>v1.1.19</td><td></td><td>uri:CY14205_C_001_20220901_avg_4plot_0035+1438_data1.png</td><td>image/png</td><td></td><td></td></tr>\n",
       "<tr><td>CY14205_C_001_20220901</td><td>eMERLIN_CASA_pipeline</td><td>v1.1.19</td><td></td><td>uri:CY14205_C_001_20220901_avg_uvcov_1407+2827.png</td><td>image/png</td><td></td><td></td></tr>\n",
       "<tr><td>CY14205_C_001_20220901</td><td>eMERLIN_CASA_pipeline</td><td>v1.1.19</td><td></td><td>uri:CY14205_C_001_20220901_avg_4plot_0157+0011_corrected3.png</td><td>image/png</td><td></td><td></td></tr>\n",
       "<tr><td>CY14205_C_001_20220901</td><td>eMERLIN_CASA_pipeline</td><td>v1.1.19</td><td></td><td>uri:CY14205_C_001_20220901_avg_4plot_1331+3030_data3.png</td><td>image/png</td><td></td><td></td></tr>\n",
       "</table></div>"
      ],
      "text/plain": [
       "<Table length=102>\n",
       "         uri                    name         version ... contentrelease project\n",
       "        object                 object         object ...     object      object\n",
       "---------------------- --------------------- ------- ... -------------- -------\n",
       "CY16204_C_001_20231117 eMERLIN_CASA_pipeline v1.1.19 ...                       \n",
       "CY16204_C_001_20231117 eMERLIN_CASA_pipeline v1.1.19 ...                       \n",
       "CY16204_C_001_20231117 eMERLIN_CASA_pipeline v1.1.19 ...                       \n",
       "CY16204_C_001_20231117 eMERLIN_CASA_pipeline v1.1.19 ...                       \n",
       "CY16204_C_001_20231117 eMERLIN_CASA_pipeline v1.1.19 ...                       \n",
       "CY16204_C_001_20231117 eMERLIN_CASA_pipeline v1.1.19 ...                       \n",
       "                   ...                   ...     ... ...            ...     ...\n",
       "CY14205_C_001_20220901 eMERLIN_CASA_pipeline v1.1.19 ...                       \n",
       "CY14205_C_001_20220901 eMERLIN_CASA_pipeline v1.1.19 ...                       \n",
       "CY14205_C_001_20220901 eMERLIN_CASA_pipeline v1.1.19 ...                       \n",
       "CY14205_C_001_20220901 eMERLIN_CASA_pipeline v1.1.19 ...                       \n",
       "CY14205_C_001_20220901 eMERLIN_CASA_pipeline v1.1.19 ...                       \n",
       "CY14205_C_001_20220901 eMERLIN_CASA_pipeline v1.1.19 ...                       \n",
       "CY14205_C_001_20220901 eMERLIN_CASA_pipeline v1.1.19 ...                       "
      ]
     },
     "execution_count": 353,
     "metadata": {},
     "output_type": "execute_result"
    }
   ],
   "source": [
    "resultset.to_table()"
   ]
  },
  {
   "cell_type": "markdown",
   "id": "99ddf042",
   "metadata": {},
   "source": [
    "### Use Case 14\n",
    "\n",
    "As a computer, I want to be able to reprocess data products in the case of poor data quality or anoma-\n",
    "lous results.\n",
    "\n",
    "See use case 13, Raw data location/identifiers, pipeline info (location, version, available deployments), quality/success of data processing, information to create a baseline of expected results (possibly target name and identifiers/locations to associated data products themselves for comparison"
   ]
  },
  {
   "cell_type": "code",
   "execution_count": 318,
   "id": "0803853d",
   "metadata": {},
   "outputs": [],
   "source": [
    "resultset = service.search(\"\"\"\n",
    "\n",
    "SELECT o.uri, pr.name, pr.version, p.datarelease, a.uri, a.contenttype, a.contentrelease FROM Observation o \n",
    "JOIN Plane p ON o.id=p.observation_id\n",
    "JOIN Provenance pr ON pr.id = p.provenance_id\n",
    "JOIN Artifact a ON a.plane_id = p.id\n",
    "\"\"\")\n",
    "\n",
    "# not included - quality. Can add when it is in the db"
   ]
  },
  {
   "cell_type": "code",
   "execution_count": 319,
   "id": "83573efe",
   "metadata": {},
   "outputs": [
    {
     "data": {
      "text/html": [
       "<div><i>Table length=102</i>\n",
       "<table id=\"table139852657789392\" class=\"table-striped table-bordered table-condensed\">\n",
       "<thead><tr><th>uri</th><th>name</th><th>version</th><th>datarelease</th><th>uri2</th><th>contenttype</th><th>contentrelease</th></tr></thead>\n",
       "<thead><tr><th>object</th><th>object</th><th>object</th><th>object</th><th>object</th><th>object</th><th>object</th></tr></thead>\n",
       "<tr><td>CY16204_C_001_20231117</td><td>eMERLIN_CASA_pipeline</td><td>v1.1.19</td><td></td><td>uri:CY16204_C_001_20231117_avg_4plot_1407+2827_data1.png</td><td>image/png</td><td></td></tr>\n",
       "<tr><td>CY16204_C_001_20231117</td><td>eMERLIN_CASA_pipeline</td><td>v1.1.19</td><td></td><td>uri:CY16204_C_001_20231117_avg_4plot_1331+3030_corrected0.png</td><td>image/png</td><td></td></tr>\n",
       "<tr><td>CY16204_C_001_20231117</td><td>eMERLIN_CASA_pipeline</td><td>v1.1.19</td><td></td><td>uri:CY16204_C_001_20231117_avg_4plot_1331+3030_corrected1.png</td><td>image/png</td><td></td></tr>\n",
       "<tr><td>CY16204_C_001_20231117</td><td>eMERLIN_CASA_pipeline</td><td>v1.1.19</td><td></td><td>uri:CY16204_C_001_20231117_avg_4plot_1331+3030_corrected3.png</td><td>image/png</td><td></td></tr>\n",
       "<tr><td>CY16204_C_001_20231117</td><td>eMERLIN_CASA_pipeline</td><td>v1.1.19</td><td></td><td>uri:CY16204_C_001_20231117_avg_4plot_1407+2827_corrected0.png</td><td>image/png</td><td></td></tr>\n",
       "<tr><td>CY16204_C_001_20231117</td><td>eMERLIN_CASA_pipeline</td><td>v1.1.19</td><td></td><td>uri:CY16204_C_001_20231117_avg_uvpltmodel_1407+2827.png</td><td>image/png</td><td></td></tr>\n",
       "<tr><td>...</td><td>...</td><td>...</td><td>...</td><td>...</td><td>...</td><td>...</td></tr>\n",
       "<tr><td>CY14205_C_001_20220901</td><td>eMERLIN_CASA_pipeline</td><td>v1.1.19</td><td></td><td>uri:CY14205_C_001_20220901_avg_4plot_1407+2827_corrected3.png</td><td>image/png</td><td></td></tr>\n",
       "<tr><td>CY14205_C_001_20220901</td><td>eMERLIN_CASA_pipeline</td><td>v1.1.19</td><td></td><td>uri:CY14205_C_001_20220901_avg_4plot_0319+4130_corrected0.png</td><td>image/png</td><td></td></tr>\n",
       "<tr><td>CY14205_C_001_20220901</td><td>eMERLIN_CASA_pipeline</td><td>v1.1.19</td><td></td><td>uri:CY14205_C_001_20220901_avg_4plot_0157+0011_data0.png</td><td>image/png</td><td></td></tr>\n",
       "<tr><td>CY14205_C_001_20220901</td><td>eMERLIN_CASA_pipeline</td><td>v1.1.19</td><td></td><td>uri:CY14205_C_001_20220901_avg_4plot_0035+1438_data1.png</td><td>image/png</td><td></td></tr>\n",
       "<tr><td>CY14205_C_001_20220901</td><td>eMERLIN_CASA_pipeline</td><td>v1.1.19</td><td></td><td>uri:CY14205_C_001_20220901_avg_uvcov_1407+2827.png</td><td>image/png</td><td></td></tr>\n",
       "<tr><td>CY14205_C_001_20220901</td><td>eMERLIN_CASA_pipeline</td><td>v1.1.19</td><td></td><td>uri:CY14205_C_001_20220901_avg_4plot_0157+0011_corrected3.png</td><td>image/png</td><td></td></tr>\n",
       "<tr><td>CY14205_C_001_20220901</td><td>eMERLIN_CASA_pipeline</td><td>v1.1.19</td><td></td><td>uri:CY14205_C_001_20220901_avg_4plot_1331+3030_data3.png</td><td>image/png</td><td></td></tr>\n",
       "</table></div>"
      ],
      "text/plain": [
       "<Table length=102>\n",
       "         uri                    name         ... contenttype contentrelease\n",
       "        object                 object        ...    object       object    \n",
       "---------------------- --------------------- ... ----------- --------------\n",
       "CY16204_C_001_20231117 eMERLIN_CASA_pipeline ...   image/png               \n",
       "CY16204_C_001_20231117 eMERLIN_CASA_pipeline ...   image/png               \n",
       "CY16204_C_001_20231117 eMERLIN_CASA_pipeline ...   image/png               \n",
       "CY16204_C_001_20231117 eMERLIN_CASA_pipeline ...   image/png               \n",
       "CY16204_C_001_20231117 eMERLIN_CASA_pipeline ...   image/png               \n",
       "CY16204_C_001_20231117 eMERLIN_CASA_pipeline ...   image/png               \n",
       "                   ...                   ... ...         ...            ...\n",
       "CY14205_C_001_20220901 eMERLIN_CASA_pipeline ...   image/png               \n",
       "CY14205_C_001_20220901 eMERLIN_CASA_pipeline ...   image/png               \n",
       "CY14205_C_001_20220901 eMERLIN_CASA_pipeline ...   image/png               \n",
       "CY14205_C_001_20220901 eMERLIN_CASA_pipeline ...   image/png               \n",
       "CY14205_C_001_20220901 eMERLIN_CASA_pipeline ...   image/png               \n",
       "CY14205_C_001_20220901 eMERLIN_CASA_pipeline ...   image/png               \n",
       "CY14205_C_001_20220901 eMERLIN_CASA_pipeline ...   image/png               "
      ]
     },
     "execution_count": 319,
     "metadata": {},
     "output_type": "execute_result"
    }
   ],
   "source": [
    "resultset.to_table()"
   ]
  },
  {
   "cell_type": "markdown",
   "id": "242dc3b6",
   "metadata": {},
   "source": [
    "### Use Case 15\n",
    "\n",
    "As a computer, I want to prevent proprietary science data products and certain metadata from being ac-\n",
    "cessed by unauthorised users, and allow public data to be authorised and publicly searchable by any users.\n",
    "\n",
    "Release date, ObsID/observation identifier/projectID, PI name, authentication credentials, public/proprietary\n",
    "flag"
   ]
  },
  {
   "cell_type": "code",
   "execution_count": 346,
   "id": "356c7d58",
   "metadata": {},
   "outputs": [],
   "source": [
    "resultset = service.search(\"\"\"\n",
    "SELECT pr.lastexecuted, a.uri, pr.project, p.datarelease, p.metarelease, o.metarelease, o.intent FROM Plane p\n",
    "JOIN Provenance pr ON pr.id = p.provenance_id\n",
    "JOIN Artifact a ON a.plane_id = p.id\n",
    "JOIN Observation o ON o.id = p.observation_id\n",
    "\"\"\")"
   ]
  },
  {
   "cell_type": "code",
   "execution_count": 347,
   "id": "d5379cc9",
   "metadata": {},
   "outputs": [
    {
     "data": {
      "text/html": [
       "<div><i>Table length=102</i>\n",
       "<table id=\"table139852658853968\" class=\"table-striped table-bordered table-condensed\">\n",
       "<thead><tr><th>lastexecuted</th><th>uri</th><th>project</th><th>datarelease</th><th>metarelease</th><th>metarelease2</th><th>intent</th></tr></thead>\n",
       "<thead><tr><th>object</th><th>object</th><th>object</th><th>object</th><th>object</th><th>object</th><th>object</th></tr></thead>\n",
       "<tr><td></td><td>uri:CY16204_C_001_20231117_avg_4plot_1407+2827_data1.png</td><td></td><td></td><td></td><td></td><td>SCIENCE</td></tr>\n",
       "<tr><td></td><td>uri:CY16204_C_001_20231117_avg_4plot_1331+3030_corrected0.png</td><td></td><td></td><td></td><td></td><td>SCIENCE</td></tr>\n",
       "<tr><td></td><td>uri:CY16204_C_001_20231117_avg_4plot_1331+3030_corrected1.png</td><td></td><td></td><td></td><td></td><td>SCIENCE</td></tr>\n",
       "<tr><td></td><td>uri:CY16204_C_001_20231117_avg_4plot_1331+3030_corrected3.png</td><td></td><td></td><td></td><td></td><td>SCIENCE</td></tr>\n",
       "<tr><td></td><td>uri:CY16204_C_001_20231117_avg_4plot_1407+2827_corrected0.png</td><td></td><td></td><td></td><td></td><td>SCIENCE</td></tr>\n",
       "<tr><td></td><td>uri:CY16204_C_001_20231117_avg_uvpltmodel_1407+2827.png</td><td></td><td></td><td></td><td></td><td>SCIENCE</td></tr>\n",
       "<tr><td>...</td><td>...</td><td>...</td><td>...</td><td>...</td><td>...</td><td>...</td></tr>\n",
       "<tr><td></td><td>uri:CY14205_C_001_20220901_avg_4plot_1407+2827_corrected3.png</td><td></td><td></td><td></td><td></td><td>SCIENCE</td></tr>\n",
       "<tr><td></td><td>uri:CY14205_C_001_20220901_avg_4plot_0319+4130_corrected0.png</td><td></td><td></td><td></td><td></td><td>SCIENCE</td></tr>\n",
       "<tr><td></td><td>uri:CY14205_C_001_20220901_avg_4plot_0157+0011_data0.png</td><td></td><td></td><td></td><td></td><td>SCIENCE</td></tr>\n",
       "<tr><td></td><td>uri:CY14205_C_001_20220901_avg_4plot_0035+1438_data1.png</td><td></td><td></td><td></td><td></td><td>SCIENCE</td></tr>\n",
       "<tr><td></td><td>uri:CY14205_C_001_20220901_avg_uvcov_1407+2827.png</td><td></td><td></td><td></td><td></td><td>SCIENCE</td></tr>\n",
       "<tr><td></td><td>uri:CY14205_C_001_20220901_avg_4plot_0157+0011_corrected3.png</td><td></td><td></td><td></td><td></td><td>SCIENCE</td></tr>\n",
       "<tr><td></td><td>uri:CY14205_C_001_20220901_avg_4plot_1331+3030_data3.png</td><td></td><td></td><td></td><td></td><td>SCIENCE</td></tr>\n",
       "</table></div>"
      ],
      "text/plain": [
       "<Table length=102>\n",
       "lastexecuted ...  intent\n",
       "   object    ...  object\n",
       "------------ ... -------\n",
       "             ... SCIENCE\n",
       "             ... SCIENCE\n",
       "             ... SCIENCE\n",
       "             ... SCIENCE\n",
       "             ... SCIENCE\n",
       "             ... SCIENCE\n",
       "         ... ...     ...\n",
       "             ... SCIENCE\n",
       "             ... SCIENCE\n",
       "             ... SCIENCE\n",
       "             ... SCIENCE\n",
       "             ... SCIENCE\n",
       "             ... SCIENCE\n",
       "             ... SCIENCE"
      ]
     },
     "execution_count": 347,
     "metadata": {},
     "output_type": "execute_result"
    }
   ],
   "source": [
    "resultset.to_table()"
   ]
  },
  {
   "cell_type": "markdown",
   "id": "f5c95908",
   "metadata": {},
   "source": [
    "### Use Case 16\n",
    "\n",
    "As a computer, I want to notice new data products and ingest them into a database.\n",
    "\n",
    "ObsID/run/date file path component query on database, code to check for new products, code to generate\n",
    "metadata to populate db tables"
   ]
  },
  {
   "cell_type": "code",
   "execution_count": 348,
   "id": "931cd887",
   "metadata": {},
   "outputs": [],
   "source": [
    "resultset = service.search(\"\"\"\n",
    "SELECT pr.lastexecuted, a.uri, pr.project, p.datarelease FROM Plane p\n",
    "JOIN Provenance pr ON pr.id = p.provenance_id\n",
    "JOIN Artifact a ON a.plane_id = p.id\n",
    "JOIN Observation o ON o.id = p.observation_id\n",
    "\"\"\")"
   ]
  },
  {
   "cell_type": "code",
   "execution_count": 349,
   "id": "538a1809",
   "metadata": {},
   "outputs": [
    {
     "data": {
      "text/html": [
       "<div><i>Table length=102</i>\n",
       "<table id=\"table139852657908176\" class=\"table-striped table-bordered table-condensed\">\n",
       "<thead><tr><th>lastexecuted</th><th>uri</th><th>project</th><th>datarelease</th></tr></thead>\n",
       "<thead><tr><th>object</th><th>object</th><th>object</th><th>object</th></tr></thead>\n",
       "<tr><td></td><td>uri:CY16204_C_001_20231117_avg_4plot_1407+2827_data1.png</td><td></td><td></td></tr>\n",
       "<tr><td></td><td>uri:CY16204_C_001_20231117_avg_4plot_1331+3030_corrected0.png</td><td></td><td></td></tr>\n",
       "<tr><td></td><td>uri:CY16204_C_001_20231117_avg_4plot_1331+3030_corrected1.png</td><td></td><td></td></tr>\n",
       "<tr><td></td><td>uri:CY16204_C_001_20231117_avg_4plot_1331+3030_corrected3.png</td><td></td><td></td></tr>\n",
       "<tr><td></td><td>uri:CY16204_C_001_20231117_avg_4plot_1407+2827_corrected0.png</td><td></td><td></td></tr>\n",
       "<tr><td></td><td>uri:CY16204_C_001_20231117_avg_uvpltmodel_1407+2827.png</td><td></td><td></td></tr>\n",
       "<tr><td>...</td><td>...</td><td>...</td><td>...</td></tr>\n",
       "<tr><td></td><td>uri:CY14205_C_001_20220901_avg_4plot_1407+2827_corrected3.png</td><td></td><td></td></tr>\n",
       "<tr><td></td><td>uri:CY14205_C_001_20220901_avg_4plot_0319+4130_corrected0.png</td><td></td><td></td></tr>\n",
       "<tr><td></td><td>uri:CY14205_C_001_20220901_avg_4plot_0157+0011_data0.png</td><td></td><td></td></tr>\n",
       "<tr><td></td><td>uri:CY14205_C_001_20220901_avg_4plot_0035+1438_data1.png</td><td></td><td></td></tr>\n",
       "<tr><td></td><td>uri:CY14205_C_001_20220901_avg_uvcov_1407+2827.png</td><td></td><td></td></tr>\n",
       "<tr><td></td><td>uri:CY14205_C_001_20220901_avg_4plot_0157+0011_corrected3.png</td><td></td><td></td></tr>\n",
       "<tr><td></td><td>uri:CY14205_C_001_20220901_avg_4plot_1331+3030_data3.png</td><td></td><td></td></tr>\n",
       "</table></div>"
      ],
      "text/plain": [
       "<Table length=102>\n",
       "lastexecuted ... datarelease\n",
       "   object    ...    object  \n",
       "------------ ... -----------\n",
       "             ...            \n",
       "             ...            \n",
       "             ...            \n",
       "             ...            \n",
       "             ...            \n",
       "             ...            \n",
       "         ... ...         ...\n",
       "             ...            \n",
       "             ...            \n",
       "             ...            \n",
       "             ...            \n",
       "             ...            \n",
       "             ...            \n",
       "             ...            "
      ]
     },
     "execution_count": 349,
     "metadata": {},
     "output_type": "execute_result"
    }
   ],
   "source": [
    "resultset.to_table()"
   ]
  },
  {
   "cell_type": "code",
   "execution_count": null,
   "id": "6095732f",
   "metadata": {},
   "outputs": [],
   "source": []
  }
 ],
 "metadata": {
  "kernelspec": {
   "display_name": "postgres",
   "language": "python",
   "name": "postgres"
  },
  "language_info": {
   "codemirror_mode": {
    "name": "ipython",
    "version": 3
   },
   "file_extension": ".py",
   "mimetype": "text/x-python",
   "name": "python",
   "nbconvert_exporter": "python",
   "pygments_lexer": "ipython3",
   "version": "3.8.10"
  }
 },
 "nbformat": 4,
 "nbformat_minor": 5
}
