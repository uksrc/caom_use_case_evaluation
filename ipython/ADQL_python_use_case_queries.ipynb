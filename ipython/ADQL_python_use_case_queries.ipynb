{
 "cells": [
  {
   "cell_type": "markdown",
   "id": "0dd70659",
   "metadata": {},
   "source": [
    "# Use Case Evaluation"
   ]
  },
  {
   "cell_type": "markdown",
   "id": "de3d0735",
   "metadata": {},
   "source": [
    "## Connecting to the CAOM postgres database"
   ]
  },
  {
   "cell_type": "code",
   "execution_count": 1,
   "id": "2953438b",
   "metadata": {},
   "outputs": [],
   "source": [
    "import psycopg2\n",
    "import pandas as pd"
   ]
  },
  {
   "cell_type": "code",
   "execution_count": 2,
   "id": "acf076b3",
   "metadata": {},
   "outputs": [],
   "source": [
    "import pyvo as vo"
   ]
  },
  {
   "cell_type": "code",
   "execution_count": 5,
   "id": "4a1c0c46",
   "metadata": {},
   "outputs": [],
   "source": [
    "service = vo.dal.TAPService(\"http://localhost:8080/tap\")"
   ]
  },
  {
   "cell_type": "code",
   "execution_count": 6,
   "id": "9a668691",
   "metadata": {},
   "outputs": [],
   "source": [
    "resultset = service.search(\"SELECT * FROM TAP_SCHEMA.tables WHERE schema_name='public'\")"
   ]
  },
  {
   "cell_type": "code",
   "execution_count": 14,
   "id": "492f3971",
   "metadata": {},
   "outputs": [
    {
     "data": {
      "text/plain": [
       "range(1, 16)"
      ]
     },
     "execution_count": 14,
     "metadata": {},
     "output_type": "execute_result"
    }
   ],
   "source": [
    "range(1,16)"
   ]
  },
  {
   "cell_type": "code",
   "execution_count": 16,
   "id": "3c4cfeb9",
   "metadata": {},
   "outputs": [
    {
     "name": "stdout",
     "output_type": "stream",
     "text": [
      "1\n",
      "2\n",
      "3\n",
      "4\n",
      "5\n",
      "6\n",
      "7\n",
      "8\n",
      "9\n",
      "10\n",
      "11\n",
      "12\n",
      "13\n",
      "14\n",
      "15\n",
      "16\n"
     ]
    }
   ],
   "source": [
    "for x in range(1,17):\n",
    "    print(x)"
   ]
  },
  {
   "cell_type": "markdown",
   "id": "72d4d71f",
   "metadata": {},
   "source": [
    "## Executing SQL Queries via the connection\n",
    "\n",
    "Returning all observations from the database"
   ]
  },
  {
   "cell_type": "code",
   "execution_count": 9,
   "id": "1c8391ce",
   "metadata": {},
   "outputs": [],
   "source": [
    "resultset = service.search(\"SELECT * FROM Observation\")"
   ]
  },
  {
   "cell_type": "code",
   "execution_count": 10,
   "id": "c22134a1",
   "metadata": {},
   "outputs": [
    {
     "data": {
      "text/html": [
       "<div><i>Table length=16</i>\n",
       "<table id=\"table140608673621472\" class=\"table-striped table-bordered table-condensed\">\n",
       "<thead><tr><th>algorithm_id</th><th>collection</th><th>environment_id</th><th>id</th><th>instrument_id</th><th>intent</th><th>metareadgroups</th><th>metarelease</th><th>proposal_id</th><th>requirements_id</th><th>sequencenumber</th><th>target_id</th><th>targetposition_id</th><th>telescope_id</th><th>type</th><th>uri</th><th>uribucket</th></tr></thead>\n",
       "<thead><tr><th>int64</th><th>object</th><th>int64</th><th>object</th><th>int64</th><th>object</th><th>object</th><th>object</th><th>int64</th><th>int64</th><th>int32</th><th>int64</th><th>int64</th><th>int64</th><th>object</th><th>object</th><th>object</th></tr></thead>\n",
       "<tr><td>1</td><td>EMERLIN</td><td>--</td><td>ae24354f-5e66-4d47-9ed9-410876332ff2</td><td>1</td><td>SCIENCE</td><td></td><td></td><td>--</td><td>--</td><td>--</td><td>--</td><td>--</td><td>1</td><td></td><td>CY14205_C_001_20220901_Mk2</td><td>6e8</td></tr>\n",
       "<tr><td>2</td><td>EMERLIN</td><td>--</td><td>eec0b688-7383-4e19-ba68-b29409cb40dc</td><td>2</td><td>SCIENCE</td><td></td><td></td><td>--</td><td>--</td><td>--</td><td>--</td><td>--</td><td>2</td><td></td><td>CY14205_C_001_20220901_Kn</td><td>abc</td></tr>\n",
       "<tr><td>3</td><td>EMERLIN</td><td>--</td><td>7f038b21-eb45-47cd-a73b-dcf9d333b7e0</td><td>3</td><td>SCIENCE</td><td></td><td></td><td>--</td><td>--</td><td>--</td><td>--</td><td>--</td><td>3</td><td></td><td>CY14205_C_001_20220901_De</td><td>22a</td></tr>\n",
       "<tr><td>4</td><td>EMERLIN</td><td>--</td><td>62c37eb8-39a9-4e4c-a6fb-30d2f86be38e</td><td>4</td><td>SCIENCE</td><td></td><td></td><td>--</td><td>--</td><td>--</td><td>--</td><td>--</td><td>4</td><td></td><td>CY14205_C_001_20220901_Pi</td><td>d5d</td></tr>\n",
       "<tr><td>5</td><td>EMERLIN</td><td>--</td><td>56bfc1d0-4634-4149-b3dc-b8ee1d15f28f</td><td>5</td><td>SCIENCE</td><td></td><td></td><td>--</td><td>--</td><td>--</td><td>--</td><td>--</td><td>5</td><td></td><td>CY14205_C_001_20220901_Da</td><td>99d</td></tr>\n",
       "<tr><td>6</td><td>EMERLIN</td><td>--</td><td>e2ef63eb-89b0-4b25-bfaa-16ca3dcd4c3f</td><td>6</td><td>SCIENCE</td><td></td><td></td><td>--</td><td>--</td><td>--</td><td>--</td><td>--</td><td>6</td><td></td><td>CY14205_C_001_20220901_Cm</td><td>43c</td></tr>\n",
       "<tr><td>...</td><td>...</td><td>...</td><td>...</td><td>...</td><td>...</td><td>...</td><td>...</td><td>...</td><td>...</td><td>...</td><td>...</td><td>...</td><td>...</td><td>...</td><td>...</td><td>...</td></tr>\n",
       "<tr><td>10</td><td>EMERLIN</td><td>--</td><td>a053ed1b-5ddb-466c-accc-76d28a4821f1</td><td>--</td><td>SCIENCE</td><td></td><td></td><td>--</td><td>--</td><td>--</td><td>4</td><td>4</td><td>--</td><td></td><td>CY14205_C_001_20220901_002913+131604</td><td>caa</td></tr>\n",
       "<tr><td>11</td><td>EMERLIN</td><td>--</td><td>a685d4d0-cf87-465b-b179-e1277063f303</td><td>--</td><td>SCIENCE</td><td></td><td></td><td>--</td><td>--</td><td>--</td><td>5</td><td>5</td><td>--</td><td></td><td>CY14205_C_001_20220901_1331+3030</td><td>fd9</td></tr>\n",
       "<tr><td>12</td><td>EMERLIN</td><td>--</td><td>81fbd5c1-c3e4-466e-824e-d892e836f3f6</td><td>--</td><td>SCIENCE</td><td></td><td></td><td>--</td><td>--</td><td>--</td><td>6</td><td>6</td><td>--</td><td></td><td>CY14205_C_001_20220901_0035+1438</td><td>628</td></tr>\n",
       "<tr><td>13</td><td>EMERLIN</td><td>--</td><td>25b329d3-be81-4427-8071-795513bc9ef9</td><td>--</td><td>SCIENCE</td><td></td><td></td><td>--</td><td>--</td><td>--</td><td>7</td><td>7</td><td>--</td><td></td><td>CY14205_C_001_20220901_015950+002340</td><td>c99</td></tr>\n",
       "<tr><td>14</td><td>EMERLIN</td><td>--</td><td>cab2900d-4ca6-4db0-bb58-3ace4fc7a65f</td><td>--</td><td>SCIENCE</td><td></td><td></td><td>--</td><td>--</td><td>--</td><td>8</td><td>8</td><td>--</td><td></td><td>CY14205_C_001_20220901_0055+1408</td><td>637</td></tr>\n",
       "<tr><td>15</td><td>EMERLIN</td><td>--</td><td>13629c78-dee3-472c-8301-25d907ae9510</td><td>--</td><td>SCIENCE</td><td></td><td></td><td>--</td><td>--</td><td>--</td><td>9</td><td>9</td><td>--</td><td></td><td>CY14205_C_001_20220901_1407+2827</td><td>e86</td></tr>\n",
       "<tr><td>16</td><td>EMERLIN</td><td>--</td><td>41b2eb7b-9811-4cfe-bfa8-5b48c83ae500</td><td>--</td><td>SCIENCE</td><td></td><td></td><td>--</td><td>--</td><td>--</td><td>--</td><td>--</td><td>7</td><td></td><td>CY14205_C_001_20220901</td><td>149</td></tr>\n",
       "</table></div>"
      ],
      "text/plain": [
       "<Table length=16>\n",
       "algorithm_id collection ...                 uri                  uribucket\n",
       "   int64       object   ...                object                  object \n",
       "------------ ---------- ... ------------------------------------ ---------\n",
       "           1    EMERLIN ...           CY14205_C_001_20220901_Mk2       6e8\n",
       "           2    EMERLIN ...            CY14205_C_001_20220901_Kn       abc\n",
       "           3    EMERLIN ...            CY14205_C_001_20220901_De       22a\n",
       "           4    EMERLIN ...            CY14205_C_001_20220901_Pi       d5d\n",
       "           5    EMERLIN ...            CY14205_C_001_20220901_Da       99d\n",
       "           6    EMERLIN ...            CY14205_C_001_20220901_Cm       43c\n",
       "         ...        ... ...                                  ...       ...\n",
       "          10    EMERLIN ... CY14205_C_001_20220901_002913+131604       caa\n",
       "          11    EMERLIN ...     CY14205_C_001_20220901_1331+3030       fd9\n",
       "          12    EMERLIN ...     CY14205_C_001_20220901_0035+1438       628\n",
       "          13    EMERLIN ... CY14205_C_001_20220901_015950+002340       c99\n",
       "          14    EMERLIN ...     CY14205_C_001_20220901_0055+1408       637\n",
       "          15    EMERLIN ...     CY14205_C_001_20220901_1407+2827       e86\n",
       "          16    EMERLIN ...               CY14205_C_001_20220901       149"
      ]
     },
     "execution_count": 10,
     "metadata": {},
     "output_type": "execute_result"
    }
   ],
   "source": [
    "resultset.to_table()"
   ]
  },
  {
   "cell_type": "code",
   "execution_count": 11,
   "id": "141e0d0b",
   "metadata": {},
   "outputs": [
    {
     "data": {
      "text/plain": [
       "16"
      ]
     },
     "execution_count": 11,
     "metadata": {},
     "output_type": "execute_result"
    }
   ],
   "source": [
    "len(resultset.to_table())"
   ]
  },
  {
   "cell_type": "code",
   "execution_count": 157,
   "id": "973754d8",
   "metadata": {},
   "outputs": [],
   "source": [
    "resultset = service.search(\"SELECT * FROM derivedobservation\")"
   ]
  },
  {
   "cell_type": "code",
   "execution_count": 158,
   "id": "c45ac528",
   "metadata": {},
   "outputs": [
    {
     "data": {
      "text/html": [
       "<div><i>Table length=2</i>\n",
       "<table id=\"table139852676146848\" class=\"table-striped table-bordered table-condensed\">\n",
       "<thead><tr><th>id</th><th>members</th></tr></thead>\n",
       "<thead><tr><th>object</th><th>object</th></tr></thead>\n",
       "<tr><td>d65aeffc-6dc2-40d3-a590-caba61d84613</td><td>CY16204_C_001_20231117_Cm;CY16204_C_001_20231117_Mk2;CY16204_C_001_20231117_1331+3030;CY16204_C_001_20231117_1407+2827;CY16204_C_001_20231117_Kn;CY16204_C_001_20231117_Pi;CY16204_C_001_20231117_De;CY16204_C_001_20231117_Da;CY16204_C_001_20231117_1415+1320</td></tr>\n",
       "<tr><td>d8f3c78b-edc3-417f-b1ac-a2bf9411e4ef</td><td>CY14205_C_001_20220901_0035+1438;CY14205_C_001_20220901_005334+124136;CY14205_C_001_20220901_Kn;CY14205_C_001_20220901_015950+002340;CY14205_C_001_20220901_1331+3030;CY14205_C_001_20220901_Cm;CY14205_C_001_20220901_0319+4130;CY14205_C_001_20220901_Mk2;CY14205_C_001_20220901_Da;CY14205_C_001_20220901_0157+0011;CY14205_C_001_20220901_De;CY14205_C_001_20220901_002913+131604;CY14205_C_001_20220901_1407+2827;CY14205_C_001_20220901_0055+1408;CY14205_C_001_20220901_Pi</td></tr>\n",
       "</table></div>"
      ],
      "text/plain": [
       "<Table length=2>\n",
       "                 id                  ...\n",
       "               object                ...\n",
       "------------------------------------ ...\n",
       "d65aeffc-6dc2-40d3-a590-caba61d84613 ...\n",
       "d8f3c78b-edc3-417f-b1ac-a2bf9411e4ef ..."
      ]
     },
     "execution_count": 158,
     "metadata": {},
     "output_type": "execute_result"
    }
   ],
   "source": [
    "resultset.to_table()"
   ]
  },
  {
   "cell_type": "code",
   "execution_count": 159,
   "id": "bb9b6736",
   "metadata": {},
   "outputs": [],
   "source": [
    "derived_observation_id = resultset.to_table()['id'][0]"
   ]
  },
  {
   "cell_type": "markdown",
   "id": "5d1b0a45",
   "metadata": {},
   "source": [
    "## Use Cases for e-Merlin Metadata"
   ]
  },
  {
   "cell_type": "markdown",
   "id": "37813f01",
   "metadata": {},
   "source": [
    "### Use Case 1 \n",
    "As an astronomer, I want to be able to browse the e-Merlin archive so that I can find data products that are suitable for my science goals.\n",
    "\n",
    "Observational metadata including: target (name, id, etc.), WCS information (RA/DEC), date/time of\n",
    "observation, observing frequency, spectral line data, baseline, resolution, beam, field of view, PI or researchers, Telescopes\n",
    "present, number of visits, Polarisation"
   ]
  },
  {
   "cell_type": "code",
   "execution_count": 358,
   "id": "4fb8ca21",
   "metadata": {},
   "outputs": [],
   "source": [
    "resultset = service.search(\"\"\"\n",
    "SELECT t.*, i.* FROM Telescope t \n",
    "JOIN Observation o ON o.telescope_id = t.id \n",
    "JOIN Instrument i ON i.id = o.instrument_id\n",
    "WHERE EXISTS (\n",
    "    SELECT 1\n",
    "    FROM Derivedobservation d \n",
    "    WHERE d.id = '{}' AND d.members LIKE '%' || o.uri || '%'\n",
    "    )\n",
    "\n",
    ";\"\"\".format(derived_observation_id))\n",
    "# only returns location of sites, calculation for baseline is paused until issues with the values are resolved"
   ]
  },
  {
   "cell_type": "code",
   "execution_count": 359,
   "id": "961584dc",
   "metadata": {},
   "outputs": [
    {
     "data": {
      "text/html": [
       "<div><i>Table length=6</i>\n",
       "<table id=\"table139852657793584\" class=\"table-striped table-bordered table-condensed\">\n",
       "<thead><tr><th>geolocationx</th><th>geolocationy</th><th>geolocationz</th><th>id</th><th>keywords</th><th>name</th><th>trackingmode</th><th>id2</th><th>keywords2</th><th>name2</th></tr></thead>\n",
       "<thead><tr><th>float64</th><th>float64</th><th>float64</th><th>int64</th><th>object</th><th>object</th><th>object</th><th>int64</th><th>object</th><th>object</th></tr></thead>\n",
       "<tr><td>0.018163180067862095</td><td>-0.026508953212361644</td><td>-0.024171788669066677</td><td>1</td><td></td><td>e-MERLIN</td><td></td><td>1</td><td></td><td>Mk2</td></tr>\n",
       "<tr><td>-0.00844229087230352</td><td>0.04069186441719252</td><td>-0.03176831208560866</td><td>2</td><td></td><td>e-MERLIN</td><td></td><td>2</td><td></td><td>Kn</td></tr>\n",
       "<tr><td>-0.014581808067785246</td><td>0.025596742665565733</td><td>-0.02308715833180284</td><td>3</td><td></td><td>e-MERLIN</td><td></td><td>3</td><td></td><td>De</td></tr>\n",
       "<tr><td>0.012334199619778453</td><td>-0.03182568604765</td><td>-0.02562333464060841</td><td>4</td><td></td><td>e-MERLIN</td><td></td><td>4</td><td></td><td>Pi</td></tr>\n",
       "<tr><td>0.010207504870832346</td><td>0.03382407987219867</td><td>-0.02665123418525062</td><td>5</td><td></td><td>e-MERLIN</td><td></td><td>5</td><td></td><td>Da</td></tr>\n",
       "<tr><td>0.0005105876155187977</td><td>1.5140529300510745e-05</td><td>0.0003993721621628234</td><td>6</td><td></td><td>e-MERLIN</td><td></td><td>6</td><td></td><td>Cm</td></tr>\n",
       "</table></div>"
      ],
      "text/plain": [
       "<Table length=6>\n",
       "     geolocationx          geolocationy      ... keywords2 name2 \n",
       "       float64               float64         ...   object  object\n",
       "--------------------- ---------------------- ... --------- ------\n",
       " 0.018163180067862095  -0.026508953212361644 ...              Mk2\n",
       " -0.00844229087230352    0.04069186441719252 ...               Kn\n",
       "-0.014581808067785246   0.025596742665565733 ...               De\n",
       " 0.012334199619778453      -0.03182568604765 ...               Pi\n",
       " 0.010207504870832346    0.03382407987219867 ...               Da\n",
       "0.0005105876155187977 1.5140529300510745e-05 ...               Cm"
      ]
     },
     "execution_count": 359,
     "metadata": {},
     "output_type": "execute_result"
    }
   ],
   "source": [
    "resultset.to_table() # add determination of baseline from geolocation after checking it"
   ]
  },
  {
   "cell_type": "code",
   "execution_count": 135,
   "id": "95e0f9a8",
   "metadata": {},
   "outputs": [],
   "source": [
    "resultset = service.search(\"\"\"\n",
    "SELECT t.name, p.* FROM Target t \n",
    "JOIN Observation o ON o.target_id = t.id \n",
    "JOIN point p ON t.id = p.id\n",
    "WHERE EXISTS (\n",
    "    SELECT 1\n",
    "    FROM Derivedobservation d \n",
    "    WHERE d.id = '{}' AND d.members LIKE '%' || o.uri || '%'\n",
    "    )\n",
    "\n",
    ";\"\"\".format(derived_observation_id))"
   ]
  },
  {
   "cell_type": "code",
   "execution_count": 136,
   "id": "1f137a94",
   "metadata": {},
   "outputs": [
    {
     "data": {
      "text/html": [
       "<div><i>Table length=3</i>\n",
       "<table id=\"table139852679391168\" class=\"table-striped table-bordered table-condensed\">\n",
       "<thead><tr><th>name</th><th>cval1</th><th>cval2</th><th>id</th><th>polygon_id</th></tr></thead>\n",
       "<thead><tr><th>object</th><th>float64</th><th>float64</th><th>int64</th><th>int64</th></tr></thead>\n",
       "<tr><td>1331+3030</td><td>202.78453041666666</td><td>30.509155277777786</td><td>1</td><td>--</td></tr>\n",
       "<tr><td>1407+2827</td><td>211.751643375</td><td>28.454080527777776</td><td>2</td><td>--</td></tr>\n",
       "<tr><td>1415+1320</td><td>213.9950708333333</td><td>13.339920000000003</td><td>3</td><td>--</td></tr>\n",
       "</table></div>"
      ],
      "text/plain": [
       "<Table length=3>\n",
       "   name         cval1              cval2          id  polygon_id\n",
       "  object       float64            float64       int64   int64   \n",
       "--------- ------------------ ------------------ ----- ----------\n",
       "1331+3030 202.78453041666666 30.509155277777786     1         --\n",
       "1407+2827      211.751643375 28.454080527777776     2         --\n",
       "1415+1320  213.9950708333333 13.339920000000003     3         --"
      ]
     },
     "execution_count": 136,
     "metadata": {},
     "output_type": "execute_result"
    }
   ],
   "source": [
    "resultset.to_table()"
   ]
  },
  {
   "cell_type": "code",
   "execution_count": 150,
   "id": "0ccc5884",
   "metadata": {},
   "outputs": [],
   "source": [
    "resultset = service.search(\"\"\"\n",
    "SELECT pl.*, t.bounds_upper, t.bounds_lower, e.bounds_upper, e.bounds_lower, p.states, pvn.project FROM Plane pl \n",
    "JOIN Observation o ON o.id = pl.observation_id \n",
    "JOIN time t ON pl.time_id = t.id\n",
    "JOIN energy e ON pl.energy_id = e.id\n",
    "JOIN polarization p ON pl.polarization_id = p.id\n",
    "JOIN provenance pvn ON pl.provenance_id = pvn.id\n",
    "WHERE EXISTS (\n",
    "    SELECT 1\n",
    "    FROM Derivedobservation d \n",
    "    WHERE d.id = '{}' AND d.members LIKE '%' || o.uri || '%'\n",
    "    )\n",
    ";\"\"\".format(derived_observation_id))"
   ]
  },
  {
   "cell_type": "code",
   "execution_count": 151,
   "id": "15051234",
   "metadata": {},
   "outputs": [
    {
     "data": {
      "text/html": [
       "<div><i>Table length=2</i>\n",
       "<table id=\"table139852671623568\" class=\"table-striped table-bordered table-condensed\">\n",
       "<thead><tr><th>calibrationlevel</th><th>custom_id</th><th>dataproducttype</th><th>datareadgroups</th><th>datarelease</th><th>energy_id</th><th>id</th><th>metareadgroups</th><th>metarelease</th><th>metrics_id</th><th>observable_id</th><th>observation_id</th><th>polarization_id</th><th>position_id</th><th>provenance_id</th><th>quality_id</th><th>time_id</th><th>uri</th><th>uv_id</th><th>bounds_upper</th><th>bounds_lower</th><th>bounds_upper2</th><th>bounds_lower2</th><th>states</th><th>project</th></tr></thead>\n",
       "<thead><tr><th>object</th><th>int64</th><th>object</th><th>object</th><th>object</th><th>int64</th><th>object</th><th>object</th><th>object</th><th>int64</th><th>int64</th><th>object</th><th>int64</th><th>int64</th><th>int64</th><th>int64</th><th>int64</th><th>object</th><th>int64</th><th>float64</th><th>float64</th><th>float64</th><th>float64</th><th>object</th><th>object</th></tr></thead>\n",
       "<tr><td></td><td>--</td><td></td><td></td><td>2023-11-17T10:45:05Z</td><td>1</td><td>a7483f68-c88b-4495-9315-d8c1a4599ea8</td><td></td><td></td><td>--</td><td>--</td><td>d65aeffc-6dc2-40d3-a590-caba61d84613</td><td>1</td><td>--</td><td>3</td><td>--</td><td>1</td><td>1415+1320</td><td>--</td><td>5206939798.0</td><td>5206939206.5</td><td>0.062236341706456304</td><td>0.056277915900131405</td><td>{RR,LL}</td><td>CY16204</td></tr>\n",
       "<tr><td></td><td>--</td><td>visibility</td><td></td><td>2023-11-17T10:45:05Z</td><td>2</td><td>f40ed4dd-9490-4561-b733-a934cc9849f4</td><td></td><td></td><td>--</td><td>--</td><td>d65aeffc-6dc2-40d3-a590-caba61d84613</td><td>2</td><td>--</td><td>4</td><td>--</td><td>2</td><td>CY16204_C_001_20231117_avg.ms</td><td>--</td><td>5206939798.0</td><td>5206934706.5</td><td>0.06224280244991176</td><td>0.056272634068512434</td><td>{RR,LL}</td><td>CY16204</td></tr>\n",
       "</table></div>"
      ],
      "text/plain": [
       "<Table length=2>\n",
       "calibrationlevel custom_id dataproducttype ...  states project\n",
       "     object        int64        object     ...  object  object\n",
       "---------------- --------- --------------- ... ------- -------\n",
       "                        --                 ... {RR,LL} CY16204\n",
       "                        --      visibility ... {RR,LL} CY16204"
      ]
     },
     "execution_count": 151,
     "metadata": {},
     "output_type": "execute_result"
    }
   ],
   "source": [
    "resultset.to_table()"
   ]
  },
  {
   "cell_type": "code",
   "execution_count": 165,
   "id": "a9355e28",
   "metadata": {},
   "outputs": [],
   "source": [
    "resultset = service.search(\"\"\"\n",
    "SELECT pl.* FROM Plane pl\n",
    "WHERE pl.dataproducttype = 'spectrum'\n",
    "\"\"\")"
   ]
  },
  {
   "cell_type": "code",
   "execution_count": 166,
   "id": "7150b353",
   "metadata": {},
   "outputs": [
    {
     "data": {
      "text/html": [
       "<div><i>Table length=0</i>\n",
       "<table id=\"table139852675240576\" class=\"table-striped table-bordered table-condensed\">\n",
       "<thead><tr><th>calibrationlevel</th><th>custom_id</th><th>dataproducttype</th><th>datareadgroups</th><th>datarelease</th><th>energy_id</th><th>id</th><th>metareadgroups</th><th>metarelease</th><th>metrics_id</th><th>observable_id</th><th>observation_id</th><th>polarization_id</th><th>position_id</th><th>provenance_id</th><th>quality_id</th><th>time_id</th><th>uri</th><th>uv_id</th></tr></thead>\n",
       "<thead><tr><th>object</th><th>int64</th><th>object</th><th>object</th><th>object</th><th>int64</th><th>object</th><th>object</th><th>object</th><th>int64</th><th>int64</th><th>object</th><th>int64</th><th>int64</th><th>int64</th><th>int64</th><th>int64</th><th>object</th><th>int64</th></tr></thead>\n",
       "</table></div>"
      ],
      "text/plain": [
       "<Table length=0>\n",
       "calibrationlevel custom_id dataproducttype ... time_id  uri   uv_id\n",
       "     object        int64        object     ...  int64  object int64\n",
       "---------------- --------- --------------- ... ------- ------ -----"
      ]
     },
     "execution_count": 166,
     "metadata": {},
     "output_type": "execute_result"
    }
   ],
   "source": [
    "resultset.to_table()"
   ]
  },
  {
   "cell_type": "code",
   "execution_count": 174,
   "id": "5317f9dd",
   "metadata": {},
   "outputs": [],
   "source": [
    "resultset = service.search(\"\"\"\n",
    "SELECT pl.resolution, pl.resolutionbounds_lower, pl.resolutionbounds_upper FROM position pl\n",
    "\"\"\")"
   ]
  },
  {
   "cell_type": "code",
   "execution_count": 175,
   "id": "6560a2e5",
   "metadata": {},
   "outputs": [
    {
     "data": {
      "text/html": [
       "<div><i>Table length=0</i>\n",
       "<table id=\"table139852676148096\" class=\"table-striped table-bordered table-condensed\">\n",
       "<thead><tr><th>resolution</th><th>resolutionbounds_lower</th><th>resolutionbounds_upper</th></tr></thead>\n",
       "<thead><tr><th>float64</th><th>float64</th><th>float64</th></tr></thead>\n",
       "</table></div>"
      ],
      "text/plain": [
       "<Table length=0>\n",
       "resolution resolutionbounds_lower resolutionbounds_upper\n",
       " float64          float64                float64        \n",
       "---------- ---------------------- ----------------------"
      ]
     },
     "execution_count": 175,
     "metadata": {},
     "output_type": "execute_result"
    }
   ],
   "source": [
    "resultset.to_table()"
   ]
  },
  {
   "cell_type": "code",
   "execution_count": null,
   "id": "c0289beb",
   "metadata": {},
   "outputs": [],
   "source": [
    " ### These not currently included: beam, field of view (revisit spectrum and resolution and beam)"
   ]
  },
  {
   "cell_type": "markdown",
   "id": "fbd9f38b",
   "metadata": {},
   "source": [
    "### Use Case 2 \n",
    "As an astronomer, I want browse the quality assessment information associated with the retrieved data products.\n",
    "\n",
    "Quality from the raw data table (perhaps not populated), quality in the processing (this page as a starting\n",
    "point for failed steps) Requested or predicted sensitivity, Telescopes scheduled, Comments on observing, other information\n",
    "used as indicators of quality e.g. UV plane"
   ]
  },
  {
   "cell_type": "markdown",
   "id": "b7af72f8",
   "metadata": {},
   "source": [
    "### Use Case 3\n",
    "As an astronomer, track the workflow history of a data product so that I can understand how it was generated by the Observatory.\n",
    "\n",
    "Pipeline version, input parameters, raw data identifier\n"
   ]
  },
  {
   "cell_type": "code",
   "execution_count": 186,
   "id": "c7305ee4",
   "metadata": {},
   "outputs": [],
   "source": [
    "resultset = service.search(\"\"\"\n",
    "SELECT p.* FROM provenance p\n",
    "JOIN Plane pl ON pl.provenance_id = p.id \n",
    "JOIN Observation o ON o.id = pl.observation_id\n",
    "WHERE EXISTS (\n",
    "    SELECT 1\n",
    "    FROM Derivedobservation d \n",
    "    WHERE d.id = '{}' AND d.members LIKE '%' || o.uri || '%'\n",
    "    )\n",
    "\"\"\".format(derived_observation_id))"
   ]
  },
  {
   "cell_type": "code",
   "execution_count": 187,
   "id": "58ccd9a0",
   "metadata": {},
   "outputs": [
    {
     "data": {
      "text/html": [
       "<div><i>Table length=4</i>\n",
       "<table id=\"table139852673095232\" class=\"table-striped table-bordered table-condensed\">\n",
       "<thead><tr><th>id</th><th>inputs</th><th>keywords</th><th>lastexecuted</th><th>name</th><th>producer</th><th>project</th><th>reference</th><th>runid</th><th>version</th></tr></thead>\n",
       "<thead><tr><th>int64</th><th>object</th><th>object</th><th>object</th><th>object</th><th>object</th><th>object</th><th>object</th><th>object</th><th>object</th></tr></thead>\n",
       "<tr><td>2</td><td></td><td>Role pointing_calibrator</td><td></td><td>eMERLIN_CASA_pipeline</td><td></td><td></td><td></td><td>CY16204_C_001_20231117</td><td>v1.1.19</td></tr>\n",
       "<tr><td>3</td><td></td><td></td><td></td><td>eMERLIN_CASA_pipeline</td><td></td><td>CY16204</td><td></td><td>CY16204_C_001_20231117</td><td>v1.1.19</td></tr>\n",
       "<tr><td>4</td><td></td><td></td><td></td><td>eMERLIN_CASA_pipeline</td><td></td><td>CY16204</td><td></td><td>CY16204_C_001_20231117</td><td>v1.1.19</td></tr>\n",
       "<tr><td>1</td><td></td><td>Role flux_calibrator</td><td></td><td>eMERLIN_CASA_pipeline</td><td></td><td></td><td></td><td>CY16204_C_001_20231117</td><td>v1.1.19</td></tr>\n",
       "</table></div>"
      ],
      "text/plain": [
       "<Table length=4>\n",
       "  id  inputs         keywords         ...         runid          version\n",
       "int64 object          object          ...         object          object\n",
       "----- ------ ------------------------ ... ---------------------- -------\n",
       "    2        Role pointing_calibrator ... CY16204_C_001_20231117 v1.1.19\n",
       "    3                                 ... CY16204_C_001_20231117 v1.1.19\n",
       "    4                                 ... CY16204_C_001_20231117 v1.1.19\n",
       "    1            Role flux_calibrator ... CY16204_C_001_20231117 v1.1.19"
      ]
     },
     "execution_count": 187,
     "metadata": {},
     "output_type": "execute_result"
    }
   ],
   "source": [
    "resultset.to_table()"
   ]
  },
  {
   "cell_type": "markdown",
   "id": "4f70f56f",
   "metadata": {},
   "source": [
    "### Use Case 4\n",
    "\n",
    "As an astronomer, I want to be able to find data that is closely linked to my dataset. For example, data\n",
    "that shares a project code, principle investigator, or was derived from the same set of raw data.\n",
    "\n",
    "Project code, PI, raw data identifier"
   ]
  },
  {
   "cell_type": "code",
   "execution_count": 189,
   "id": "394f8204",
   "metadata": {},
   "outputs": [],
   "source": [
    "resultset = service.search(\"\"\"\n",
    "SELECT p.project, p.producer, o.uri FROM provenance p\n",
    "JOIN Plane pl ON pl.provenance_id = p.id \n",
    "JOIN Observation o ON o.id = pl.observation_id\n",
    "WHERE EXISTS (\n",
    "    SELECT 1\n",
    "    FROM Derivedobservation d \n",
    "    WHERE d.id = '{}' AND d.members LIKE '%' || o.uri || '%'\n",
    "    )\n",
    "\"\"\".format(derived_observation_id))"
   ]
  },
  {
   "cell_type": "code",
   "execution_count": 190,
   "id": "1d69d34e",
   "metadata": {},
   "outputs": [
    {
     "data": {
      "text/html": [
       "<div><i>Table length=4</i>\n",
       "<table id=\"table139852673026896\" class=\"table-striped table-bordered table-condensed\">\n",
       "<thead><tr><th>project</th><th>producer</th><th>uri</th></tr></thead>\n",
       "<thead><tr><th>object</th><th>object</th><th>object</th></tr></thead>\n",
       "<tr><td></td><td></td><td>CY16204_C_001_20231117</td></tr>\n",
       "<tr><td>CY16204</td><td></td><td>CY16204_C_001_20231117</td></tr>\n",
       "<tr><td>CY16204</td><td></td><td>CY16204_C_001_20231117</td></tr>\n",
       "<tr><td></td><td></td><td>CY16204_C_001_20231117</td></tr>\n",
       "</table></div>"
      ],
      "text/plain": [
       "<Table length=4>\n",
       "project producer          uri          \n",
       " object  object          object        \n",
       "------- -------- ----------------------\n",
       "                 CY16204_C_001_20231117\n",
       "CY16204          CY16204_C_001_20231117\n",
       "CY16204          CY16204_C_001_20231117\n",
       "                 CY16204_C_001_20231117"
      ]
     },
     "execution_count": 190,
     "metadata": {},
     "output_type": "execute_result"
    }
   ],
   "source": [
    "resultset.to_table()"
   ]
  },
  {
   "cell_type": "markdown",
   "id": "a0bdb4bd",
   "metadata": {},
   "source": [
    "### Use Case 5\n",
    "As an astronomer, I want to be able to use geometric spatial searches for my target data (cone search etc.)\n",
    "\n",
    "PostgresSQL, WCS info, field of view"
   ]
  },
  {
   "cell_type": "code",
   "execution_count": null,
   "id": "aad3b9f7",
   "metadata": {},
   "outputs": [],
   "source": [
    "resultset = vo.dal.conesearch(\"http://localhost:8080/tap\", )"
   ]
  },
  {
   "cell_type": "code",
   "execution_count": 17,
   "id": "b53b670f",
   "metadata": {},
   "outputs": [],
   "source": [
    "# SELECT o.uri, DISTANCE(202.65, 30.51, p.cval1, p.cval2) AS ang_sep\n",
    "\n",
    "resultset = service.search(\"\"\"\n",
    "SELECT o.uri, p.cval1, p.cval2 \n",
    "FROM point p\n",
    "JOIN targetposition tp ON tp.id = p.id\n",
    "JOIN observation o ON tp.id = o.targetposition_id\n",
    "WHERE p.cval1 > 202. AND p.cval1 < 203. AND p.cval2 > 30. AND p.cval2 < 31.\n",
    "\"\"\")"
   ]
  },
  {
   "cell_type": "code",
   "execution_count": 18,
   "id": "9214a9e1",
   "metadata": {},
   "outputs": [
    {
     "data": {
      "text/html": [
       "<div><i>Table length=1</i>\n",
       "<table id=\"table140608669908704\" class=\"table-striped table-bordered table-condensed\">\n",
       "<thead><tr><th>uri</th><th>cval1</th><th>cval2</th></tr></thead>\n",
       "<thead><tr><th>object</th><th>float64</th><th>float64</th></tr></thead>\n",
       "<tr><td>CY14205_C_001_20220901_1331+3030</td><td>202.78453041666666</td><td>30.509155277777786</td></tr>\n",
       "</table></div>"
      ],
      "text/plain": [
       "<Table length=1>\n",
       "              uri                      cval1              cval2       \n",
       "             object                   float64            float64      \n",
       "-------------------------------- ------------------ ------------------\n",
       "CY14205_C_001_20220901_1331+3030 202.78453041666666 30.509155277777786"
      ]
     },
     "execution_count": 18,
     "metadata": {},
     "output_type": "execute_result"
    }
   ],
   "source": [
    "resultset.to_table()"
   ]
  },
  {
   "cell_type": "code",
   "execution_count": 230,
   "id": "a0e43695",
   "metadata": {},
   "outputs": [],
   "source": [
    "# SELECT o.uri, DISTANCE(202.65, 30.51, p.cval1, p.cval2) AS ang_sep\n",
    "\n",
    "# possible methods for cone search which are stated in the pyvo documentation but do not work \n",
    "\n",
    "# resultset = service.search(\"\"\"\n",
    "# SELECT o.uri, p.cval1, p.cval2 \n",
    "# FROM point p\n",
    "# JOIN targetposition tp ON tp.id = p.id\n",
    "# JOIN observation o ON tp.id = o.targetposition_id\n",
    "# WHERE DISTANCE(POINT('ICRS', 201.,30.) POINT('ICRS', 201.,30.))<0.01\n",
    "# \"\"\")\n",
    "\n",
    "# resultset = service.search(\"\"\"\n",
    "# SELECT o.uri, p.cval1, p.cval2 \n",
    "# FROM point p\n",
    "# JOIN targetposition tp ON tp.id = p.id\n",
    "# JOIN observation o ON tp.id = o.targetposition_id\n",
    "# WHERE CONTAINS(POINT('ICRS', 201.,30.) CIRCLE('ICRS', 201.,30.,0.05))=1\n",
    "# \"\"\")"
   ]
  },
  {
   "cell_type": "markdown",
   "id": "6b656f49",
   "metadata": {},
   "source": [
    "### Use Case 6 \n",
    "\n",
    "As an astronomer I want to be able to search for ancillary sources to my target data and discover their\n",
    "roles.\n",
    "\n",
    "Ancillary target names and roles"
   ]
  },
  {
   "cell_type": "code",
   "execution_count": 267,
   "id": "3a24fc56",
   "metadata": {},
   "outputs": [],
   "source": [
    "resultset = service.search(\"\"\"\n",
    "SELECT p.observation_id, p.uri, pr.keywords FROM Plane p\n",
    "JOIN Provenance pr ON p.provenance_id = pr.id\n",
    "\"\"\")"
   ]
  },
  {
   "cell_type": "code",
   "execution_count": 268,
   "id": "c959a5a4",
   "metadata": {},
   "outputs": [
    {
     "data": {
      "text/html": [
       "<div><i>Table length=14</i>\n",
       "<table id=\"table139852660844864\" class=\"table-striped table-bordered table-condensed\">\n",
       "<thead><tr><th>observation_id</th><th>uri</th><th>keywords</th></tr></thead>\n",
       "<thead><tr><th>object</th><th>object</th><th>object</th></tr></thead>\n",
       "<tr><td>d65aeffc-6dc2-40d3-a590-caba61d84613</td><td>1331+3030</td><td>Role flux_calibrator</td></tr>\n",
       "<tr><td>d65aeffc-6dc2-40d3-a590-caba61d84613</td><td>1407+2827</td><td>Role pointing_calibrator</td></tr>\n",
       "<tr><td>d65aeffc-6dc2-40d3-a590-caba61d84613</td><td>1415+1320</td><td></td></tr>\n",
       "<tr><td>d65aeffc-6dc2-40d3-a590-caba61d84613</td><td>CY16204_C_001_20231117_avg.ms</td><td></td></tr>\n",
       "<tr><td>d8f3c78b-edc3-417f-b1ac-a2bf9411e4ef</td><td>005334+124136</td><td></td></tr>\n",
       "<tr><td>d8f3c78b-edc3-417f-b1ac-a2bf9411e4ef</td><td>0319+4130</td><td>Role pointing_calibrator</td></tr>\n",
       "<tr><td>d8f3c78b-edc3-417f-b1ac-a2bf9411e4ef</td><td>0157+0011</td><td>Role phase_calibrator_2</td></tr>\n",
       "<tr><td>d8f3c78b-edc3-417f-b1ac-a2bf9411e4ef</td><td>002913+131604</td><td></td></tr>\n",
       "<tr><td>d8f3c78b-edc3-417f-b1ac-a2bf9411e4ef</td><td>1331+3030</td><td>Role flux_calibrator</td></tr>\n",
       "<tr><td>d8f3c78b-edc3-417f-b1ac-a2bf9411e4ef</td><td>0035+1438</td><td>Role phase_calibrator_0</td></tr>\n",
       "<tr><td>d8f3c78b-edc3-417f-b1ac-a2bf9411e4ef</td><td>015950+002340</td><td></td></tr>\n",
       "<tr><td>d8f3c78b-edc3-417f-b1ac-a2bf9411e4ef</td><td>0055+1408</td><td>Role phase_calibrator_1</td></tr>\n",
       "<tr><td>d8f3c78b-edc3-417f-b1ac-a2bf9411e4ef</td><td>1407+2827</td><td>Role band_pass_calibrator</td></tr>\n",
       "<tr><td>d8f3c78b-edc3-417f-b1ac-a2bf9411e4ef</td><td>CY14205_C_001_20220901_avg.ms</td><td></td></tr>\n",
       "</table></div>"
      ],
      "text/plain": [
       "<Table length=14>\n",
       "           observation_id            ...          keywords        \n",
       "               object                ...           object         \n",
       "------------------------------------ ... -------------------------\n",
       "d65aeffc-6dc2-40d3-a590-caba61d84613 ...      Role flux_calibrator\n",
       "d65aeffc-6dc2-40d3-a590-caba61d84613 ...  Role pointing_calibrator\n",
       "d65aeffc-6dc2-40d3-a590-caba61d84613 ...                          \n",
       "d65aeffc-6dc2-40d3-a590-caba61d84613 ...                          \n",
       "d8f3c78b-edc3-417f-b1ac-a2bf9411e4ef ...                          \n",
       "d8f3c78b-edc3-417f-b1ac-a2bf9411e4ef ...  Role pointing_calibrator\n",
       "d8f3c78b-edc3-417f-b1ac-a2bf9411e4ef ...   Role phase_calibrator_2\n",
       "d8f3c78b-edc3-417f-b1ac-a2bf9411e4ef ...                          \n",
       "d8f3c78b-edc3-417f-b1ac-a2bf9411e4ef ...      Role flux_calibrator\n",
       "d8f3c78b-edc3-417f-b1ac-a2bf9411e4ef ...   Role phase_calibrator_0\n",
       "d8f3c78b-edc3-417f-b1ac-a2bf9411e4ef ...                          \n",
       "d8f3c78b-edc3-417f-b1ac-a2bf9411e4ef ...   Role phase_calibrator_1\n",
       "d8f3c78b-edc3-417f-b1ac-a2bf9411e4ef ... Role band_pass_calibrator\n",
       "d8f3c78b-edc3-417f-b1ac-a2bf9411e4ef ...                          "
      ]
     },
     "execution_count": 268,
     "metadata": {},
     "output_type": "execute_result"
    }
   ],
   "source": [
    "resultset.to_table()"
   ]
  },
  {
   "cell_type": "markdown",
   "id": "bbc215fa",
   "metadata": {},
   "source": [
    "### Use Case 7 \n",
    "\n",
    "As an operator I want to be able to re-compute any data product based upon the metadata.\n",
    "\n",
    "Pipeline used, versions, parameters, raw data access, raw data location, data product access, data product\n",
    "location (emerlin measurement set directory structure includes .ini file and casa logs), release date, runtime environment"
   ]
  },
  {
   "cell_type": "code",
   "execution_count": 292,
   "id": "312de41b",
   "metadata": {},
   "outputs": [],
   "source": [
    "# raw data access, raw data location, release date?\n",
    "\n",
    "resultset = service.search(\"\"\"\n",
    "\n",
    "SELECT o.uri, pr.name, pr.version, p.datarelease, a.uri, a.contenttype, a.contentrelease FROM Observation o \n",
    "JOIN Plane p ON o.id=p.observation_id\n",
    "JOIN Provenance pr ON pr.id = p.provenance_id\n",
    "JOIN Artifact a ON a.plane_id = p.id\n",
    "\"\"\")"
   ]
  },
  {
   "cell_type": "code",
   "execution_count": 293,
   "id": "4e4ac9fd",
   "metadata": {},
   "outputs": [
    {
     "data": {
      "text/html": [
       "<div><i>Table length=102</i>\n",
       "<table id=\"table139852661042048\" class=\"table-striped table-bordered table-condensed\">\n",
       "<thead><tr><th>uri</th><th>name</th><th>version</th><th>datarelease</th><th>uri2</th><th>contenttype</th><th>contentrelease</th></tr></thead>\n",
       "<thead><tr><th>object</th><th>object</th><th>object</th><th>object</th><th>object</th><th>object</th><th>object</th></tr></thead>\n",
       "<tr><td>CY16204_C_001_20231117</td><td>eMERLIN_CASA_pipeline</td><td>v1.1.19</td><td></td><td>uri:CY16204_C_001_20231117_avg_4plot_1407+2827_data1.png</td><td>image/png</td><td></td></tr>\n",
       "<tr><td>CY16204_C_001_20231117</td><td>eMERLIN_CASA_pipeline</td><td>v1.1.19</td><td></td><td>uri:CY16204_C_001_20231117_avg_4plot_1331+3030_corrected0.png</td><td>image/png</td><td></td></tr>\n",
       "<tr><td>CY16204_C_001_20231117</td><td>eMERLIN_CASA_pipeline</td><td>v1.1.19</td><td></td><td>uri:CY16204_C_001_20231117_avg_4plot_1331+3030_corrected1.png</td><td>image/png</td><td></td></tr>\n",
       "<tr><td>CY16204_C_001_20231117</td><td>eMERLIN_CASA_pipeline</td><td>v1.1.19</td><td></td><td>uri:CY16204_C_001_20231117_avg_4plot_1331+3030_corrected3.png</td><td>image/png</td><td></td></tr>\n",
       "<tr><td>CY16204_C_001_20231117</td><td>eMERLIN_CASA_pipeline</td><td>v1.1.19</td><td></td><td>uri:CY16204_C_001_20231117_avg_4plot_1407+2827_corrected0.png</td><td>image/png</td><td></td></tr>\n",
       "<tr><td>CY16204_C_001_20231117</td><td>eMERLIN_CASA_pipeline</td><td>v1.1.19</td><td></td><td>uri:CY16204_C_001_20231117_avg_uvpltmodel_1407+2827.png</td><td>image/png</td><td></td></tr>\n",
       "<tr><td>...</td><td>...</td><td>...</td><td>...</td><td>...</td><td>...</td><td>...</td></tr>\n",
       "<tr><td>CY14205_C_001_20220901</td><td>eMERLIN_CASA_pipeline</td><td>v1.1.19</td><td></td><td>uri:CY14205_C_001_20220901_avg_4plot_1407+2827_corrected3.png</td><td>image/png</td><td></td></tr>\n",
       "<tr><td>CY14205_C_001_20220901</td><td>eMERLIN_CASA_pipeline</td><td>v1.1.19</td><td></td><td>uri:CY14205_C_001_20220901_avg_4plot_0319+4130_corrected0.png</td><td>image/png</td><td></td></tr>\n",
       "<tr><td>CY14205_C_001_20220901</td><td>eMERLIN_CASA_pipeline</td><td>v1.1.19</td><td></td><td>uri:CY14205_C_001_20220901_avg_4plot_0157+0011_data0.png</td><td>image/png</td><td></td></tr>\n",
       "<tr><td>CY14205_C_001_20220901</td><td>eMERLIN_CASA_pipeline</td><td>v1.1.19</td><td></td><td>uri:CY14205_C_001_20220901_avg_4plot_0035+1438_data1.png</td><td>image/png</td><td></td></tr>\n",
       "<tr><td>CY14205_C_001_20220901</td><td>eMERLIN_CASA_pipeline</td><td>v1.1.19</td><td></td><td>uri:CY14205_C_001_20220901_avg_uvcov_1407+2827.png</td><td>image/png</td><td></td></tr>\n",
       "<tr><td>CY14205_C_001_20220901</td><td>eMERLIN_CASA_pipeline</td><td>v1.1.19</td><td></td><td>uri:CY14205_C_001_20220901_avg_4plot_0157+0011_corrected3.png</td><td>image/png</td><td></td></tr>\n",
       "<tr><td>CY14205_C_001_20220901</td><td>eMERLIN_CASA_pipeline</td><td>v1.1.19</td><td></td><td>uri:CY14205_C_001_20220901_avg_4plot_1331+3030_data3.png</td><td>image/png</td><td></td></tr>\n",
       "</table></div>"
      ],
      "text/plain": [
       "<Table length=102>\n",
       "         uri                    name         ... contenttype contentrelease\n",
       "        object                 object        ...    object       object    \n",
       "---------------------- --------------------- ... ----------- --------------\n",
       "CY16204_C_001_20231117 eMERLIN_CASA_pipeline ...   image/png               \n",
       "CY16204_C_001_20231117 eMERLIN_CASA_pipeline ...   image/png               \n",
       "CY16204_C_001_20231117 eMERLIN_CASA_pipeline ...   image/png               \n",
       "CY16204_C_001_20231117 eMERLIN_CASA_pipeline ...   image/png               \n",
       "CY16204_C_001_20231117 eMERLIN_CASA_pipeline ...   image/png               \n",
       "CY16204_C_001_20231117 eMERLIN_CASA_pipeline ...   image/png               \n",
       "                   ...                   ... ...         ...            ...\n",
       "CY14205_C_001_20220901 eMERLIN_CASA_pipeline ...   image/png               \n",
       "CY14205_C_001_20220901 eMERLIN_CASA_pipeline ...   image/png               \n",
       "CY14205_C_001_20220901 eMERLIN_CASA_pipeline ...   image/png               \n",
       "CY14205_C_001_20220901 eMERLIN_CASA_pipeline ...   image/png               \n",
       "CY14205_C_001_20220901 eMERLIN_CASA_pipeline ...   image/png               \n",
       "CY14205_C_001_20220901 eMERLIN_CASA_pipeline ...   image/png               \n",
       "CY14205_C_001_20220901 eMERLIN_CASA_pipeline ...   image/png               "
      ]
     },
     "execution_count": 293,
     "metadata": {},
     "output_type": "execute_result"
    }
   ],
   "source": [
    "resultset.to_table()"
   ]
  },
  {
   "cell_type": "markdown",
   "id": "9d1fc92b",
   "metadata": {},
   "source": [
    "### Use Case 8 \n",
    "\n",
    "As an operator I want to be able to determine if any given data product should be stored or re-computed\n",
    "on demand. \n",
    "\n",
    "Available resources (storage and compute), memory consumption of pipeline, process timings, data (physical)\n",
    "size, number of backups necessary, number of times data is accessed, raw data location/identifiers"
   ]
  },
  {
   "cell_type": "code",
   "execution_count": 298,
   "id": "6ecbbd20",
   "metadata": {},
   "outputs": [],
   "source": [
    "resultset = service.search(\"\"\"\n",
    "SELECT pr.lastexecuted, a.contentlength, a.uri FROM Plane p\n",
    "JOIN Provenance pr ON pr.id = p.provenance_id\n",
    "JOIN Artifact a ON a.plane_id = p.id\n",
    "\"\"\")\n",
    "\n",
    "# not currently included: available resources, mem consumption, processing timing, backups, accesses"
   ]
  },
  {
   "cell_type": "code",
   "execution_count": 299,
   "id": "a22ff45e",
   "metadata": {},
   "outputs": [
    {
     "data": {
      "text/html": [
       "<div><i>Table length=102</i>\n",
       "<table id=\"table139852659495792\" class=\"table-striped table-bordered table-condensed\">\n",
       "<thead><tr><th>lastexecuted</th><th>contentlength</th><th>uri</th></tr></thead>\n",
       "<thead><tr><th>object</th><th>int32</th><th>object</th></tr></thead>\n",
       "<tr><td></td><td>573923</td><td>uri:CY16204_C_001_20231117_avg_4plot_1407+2827_data1.png</td></tr>\n",
       "<tr><td></td><td>308239</td><td>uri:CY16204_C_001_20231117_avg_4plot_1331+3030_corrected0.png</td></tr>\n",
       "<tr><td></td><td>237693</td><td>uri:CY16204_C_001_20231117_avg_4plot_1331+3030_corrected1.png</td></tr>\n",
       "<tr><td></td><td>242288</td><td>uri:CY16204_C_001_20231117_avg_4plot_1331+3030_corrected3.png</td></tr>\n",
       "<tr><td></td><td>374433</td><td>uri:CY16204_C_001_20231117_avg_4plot_1407+2827_corrected0.png</td></tr>\n",
       "<tr><td></td><td>55698</td><td>uri:CY16204_C_001_20231117_avg_uvpltmodel_1407+2827.png</td></tr>\n",
       "<tr><td>...</td><td>...</td><td>...</td></tr>\n",
       "<tr><td></td><td>243624</td><td>uri:CY14205_C_001_20220901_avg_4plot_1407+2827_corrected3.png</td></tr>\n",
       "<tr><td></td><td>351805</td><td>uri:CY14205_C_001_20220901_avg_4plot_0319+4130_corrected0.png</td></tr>\n",
       "<tr><td></td><td>327745</td><td>uri:CY14205_C_001_20220901_avg_4plot_0157+0011_data0.png</td></tr>\n",
       "<tr><td></td><td>472040</td><td>uri:CY14205_C_001_20220901_avg_4plot_0035+1438_data1.png</td></tr>\n",
       "<tr><td></td><td>26389</td><td>uri:CY14205_C_001_20220901_avg_uvcov_1407+2827.png</td></tr>\n",
       "<tr><td></td><td>301963</td><td>uri:CY14205_C_001_20220901_avg_4plot_0157+0011_corrected3.png</td></tr>\n",
       "<tr><td></td><td>328496</td><td>uri:CY14205_C_001_20220901_avg_4plot_1331+3030_data3.png</td></tr>\n",
       "</table></div>"
      ],
      "text/plain": [
       "<Table length=102>\n",
       "lastexecuted ...                              uri                             \n",
       "   object    ...                             object                           \n",
       "------------ ... -------------------------------------------------------------\n",
       "             ...      uri:CY16204_C_001_20231117_avg_4plot_1407+2827_data1.png\n",
       "             ... uri:CY16204_C_001_20231117_avg_4plot_1331+3030_corrected0.png\n",
       "             ... uri:CY16204_C_001_20231117_avg_4plot_1331+3030_corrected1.png\n",
       "             ... uri:CY16204_C_001_20231117_avg_4plot_1331+3030_corrected3.png\n",
       "             ... uri:CY16204_C_001_20231117_avg_4plot_1407+2827_corrected0.png\n",
       "             ...       uri:CY16204_C_001_20231117_avg_uvpltmodel_1407+2827.png\n",
       "         ... ...                                                           ...\n",
       "             ... uri:CY14205_C_001_20220901_avg_4plot_1407+2827_corrected3.png\n",
       "             ... uri:CY14205_C_001_20220901_avg_4plot_0319+4130_corrected0.png\n",
       "             ...      uri:CY14205_C_001_20220901_avg_4plot_0157+0011_data0.png\n",
       "             ...      uri:CY14205_C_001_20220901_avg_4plot_0035+1438_data1.png\n",
       "             ...            uri:CY14205_C_001_20220901_avg_uvcov_1407+2827.png\n",
       "             ... uri:CY14205_C_001_20220901_avg_4plot_0157+0011_corrected3.png\n",
       "             ...      uri:CY14205_C_001_20220901_avg_4plot_1331+3030_data3.png"
      ]
     },
     "execution_count": 299,
     "metadata": {},
     "output_type": "execute_result"
    }
   ],
   "source": [
    "resultset.to_table()"
   ]
  },
  {
   "cell_type": "markdown",
   "id": "ef473a85",
   "metadata": {},
   "source": [
    "### Use Case 9 \n",
    "\n",
    "As an operator I want to be able to detect anomalies within the data processing or data itself.\n",
    "\n",
    "Quality metrics, parameters, processing time, memory consumption, identifiers, raw data links,"
   ]
  },
  {
   "cell_type": "code",
   "execution_count": 304,
   "id": "c41fa9f7",
   "metadata": {},
   "outputs": [],
   "source": [
    "resultset = service.search(\"\"\"\n",
    "SELECT pr.lastexecuted, a.contentlength, a.uri FROM Plane p\n",
    "JOIN Provenance pr ON pr.id = p.provenance_id\n",
    "JOIN Artifact a ON a.plane_id = p.id\n",
    "\"\"\")\n",
    "\n",
    "# missing quality, parameters"
   ]
  },
  {
   "cell_type": "code",
   "execution_count": 305,
   "id": "e31b47e7",
   "metadata": {},
   "outputs": [
    {
     "data": {
      "text/html": [
       "<div><i>Table length=102</i>\n",
       "<table id=\"table139852659214896\" class=\"table-striped table-bordered table-condensed\">\n",
       "<thead><tr><th>lastexecuted</th><th>contentlength</th><th>uri</th></tr></thead>\n",
       "<thead><tr><th>object</th><th>int32</th><th>object</th></tr></thead>\n",
       "<tr><td></td><td>573923</td><td>uri:CY16204_C_001_20231117_avg_4plot_1407+2827_data1.png</td></tr>\n",
       "<tr><td></td><td>308239</td><td>uri:CY16204_C_001_20231117_avg_4plot_1331+3030_corrected0.png</td></tr>\n",
       "<tr><td></td><td>237693</td><td>uri:CY16204_C_001_20231117_avg_4plot_1331+3030_corrected1.png</td></tr>\n",
       "<tr><td></td><td>242288</td><td>uri:CY16204_C_001_20231117_avg_4plot_1331+3030_corrected3.png</td></tr>\n",
       "<tr><td></td><td>374433</td><td>uri:CY16204_C_001_20231117_avg_4plot_1407+2827_corrected0.png</td></tr>\n",
       "<tr><td></td><td>55698</td><td>uri:CY16204_C_001_20231117_avg_uvpltmodel_1407+2827.png</td></tr>\n",
       "<tr><td>...</td><td>...</td><td>...</td></tr>\n",
       "<tr><td></td><td>243624</td><td>uri:CY14205_C_001_20220901_avg_4plot_1407+2827_corrected3.png</td></tr>\n",
       "<tr><td></td><td>351805</td><td>uri:CY14205_C_001_20220901_avg_4plot_0319+4130_corrected0.png</td></tr>\n",
       "<tr><td></td><td>327745</td><td>uri:CY14205_C_001_20220901_avg_4plot_0157+0011_data0.png</td></tr>\n",
       "<tr><td></td><td>472040</td><td>uri:CY14205_C_001_20220901_avg_4plot_0035+1438_data1.png</td></tr>\n",
       "<tr><td></td><td>26389</td><td>uri:CY14205_C_001_20220901_avg_uvcov_1407+2827.png</td></tr>\n",
       "<tr><td></td><td>301963</td><td>uri:CY14205_C_001_20220901_avg_4plot_0157+0011_corrected3.png</td></tr>\n",
       "<tr><td></td><td>328496</td><td>uri:CY14205_C_001_20220901_avg_4plot_1331+3030_data3.png</td></tr>\n",
       "</table></div>"
      ],
      "text/plain": [
       "<Table length=102>\n",
       "lastexecuted ...                              uri                             \n",
       "   object    ...                             object                           \n",
       "------------ ... -------------------------------------------------------------\n",
       "             ...      uri:CY16204_C_001_20231117_avg_4plot_1407+2827_data1.png\n",
       "             ... uri:CY16204_C_001_20231117_avg_4plot_1331+3030_corrected0.png\n",
       "             ... uri:CY16204_C_001_20231117_avg_4plot_1331+3030_corrected1.png\n",
       "             ... uri:CY16204_C_001_20231117_avg_4plot_1331+3030_corrected3.png\n",
       "             ... uri:CY16204_C_001_20231117_avg_4plot_1407+2827_corrected0.png\n",
       "             ...       uri:CY16204_C_001_20231117_avg_uvpltmodel_1407+2827.png\n",
       "         ... ...                                                           ...\n",
       "             ... uri:CY14205_C_001_20220901_avg_4plot_1407+2827_corrected3.png\n",
       "             ... uri:CY14205_C_001_20220901_avg_4plot_0319+4130_corrected0.png\n",
       "             ...      uri:CY14205_C_001_20220901_avg_4plot_0157+0011_data0.png\n",
       "             ...      uri:CY14205_C_001_20220901_avg_4plot_0035+1438_data1.png\n",
       "             ...            uri:CY14205_C_001_20220901_avg_uvcov_1407+2827.png\n",
       "             ... uri:CY14205_C_001_20220901_avg_4plot_0157+0011_corrected3.png\n",
       "             ...      uri:CY14205_C_001_20220901_avg_4plot_1331+3030_data3.png"
      ]
     },
     "execution_count": 305,
     "metadata": {},
     "output_type": "execute_result"
    }
   ],
   "source": [
    "resultset.to_table()"
   ]
  },
  {
   "cell_type": "markdown",
   "id": "9d7a16eb",
   "metadata": {},
   "source": [
    "### Use Case 10\n",
    "\n",
    "As an operator I want to be able to determine if the needs of a proposal can be met by existing data products\n",
    "\n",
    "Observational metadata (date/time, location, field of view, polarisation, frequency, quality, etc.)"
   ]
  },
  {
   "cell_type": "code",
   "execution_count": 310,
   "id": "fa2538ad",
   "metadata": {},
   "outputs": [],
   "source": [
    "resultset = service.search(\"\"\"\n",
    "SELECT pl.*, t.bounds_upper, t.bounds_lower, e.bounds_upper, e.bounds_lower, p.states, pvn.project FROM Plane pl \n",
    "JOIN Observation o ON o.id = pl.observation_id \n",
    "JOIN time t ON pl.time_id = t.id\n",
    "JOIN energy e ON pl.energy_id = e.id\n",
    "JOIN polarization p ON pl.polarization_id = p.id\n",
    "JOIN provenance pvn ON pl.provenance_id = pvn.id\n",
    "WHERE EXISTS (\n",
    "    SELECT 1\n",
    "    FROM Derivedobservation d \n",
    "    WHERE d.id = '{}' AND d.members LIKE '%' || o.uri || '%'\n",
    "    )\n",
    ";\"\"\".format(derived_observation_id))"
   ]
  },
  {
   "cell_type": "code",
   "execution_count": 311,
   "id": "b41e7ba7",
   "metadata": {},
   "outputs": [
    {
     "data": {
      "text/html": [
       "<div><i>Table length=2</i>\n",
       "<table id=\"table139852658008608\" class=\"table-striped table-bordered table-condensed\">\n",
       "<thead><tr><th>calibrationlevel</th><th>custom_id</th><th>dataproducttype</th><th>datareadgroups</th><th>datarelease</th><th>energy_id</th><th>id</th><th>metareadgroups</th><th>metarelease</th><th>metrics_id</th><th>observable_id</th><th>observation_id</th><th>polarization_id</th><th>position_id</th><th>provenance_id</th><th>quality_id</th><th>time_id</th><th>uri</th><th>uv_id</th><th>bounds_upper</th><th>bounds_lower</th><th>bounds_upper2</th><th>bounds_lower2</th><th>states</th><th>project</th></tr></thead>\n",
       "<thead><tr><th>object</th><th>int64</th><th>object</th><th>object</th><th>object</th><th>int64</th><th>object</th><th>object</th><th>object</th><th>int64</th><th>int64</th><th>object</th><th>int64</th><th>int64</th><th>int64</th><th>int64</th><th>int64</th><th>object</th><th>int64</th><th>float64</th><th>float64</th><th>float64</th><th>float64</th><th>object</th><th>object</th></tr></thead>\n",
       "<tr><td></td><td>--</td><td></td><td></td><td>2023-11-17T10:45:05Z</td><td>1</td><td>a7483f68-c88b-4495-9315-d8c1a4599ea8</td><td></td><td></td><td>--</td><td>--</td><td>d65aeffc-6dc2-40d3-a590-caba61d84613</td><td>1</td><td>--</td><td>3</td><td>--</td><td>1</td><td>1415+1320</td><td>--</td><td>5206939798.0</td><td>5206939206.5</td><td>0.062236341706456304</td><td>0.056277915900131405</td><td>{RR,LL}</td><td>CY16204</td></tr>\n",
       "<tr><td></td><td>--</td><td>visibility</td><td></td><td>2023-11-17T10:45:05Z</td><td>2</td><td>f40ed4dd-9490-4561-b733-a934cc9849f4</td><td></td><td></td><td>--</td><td>--</td><td>d65aeffc-6dc2-40d3-a590-caba61d84613</td><td>2</td><td>--</td><td>4</td><td>--</td><td>2</td><td>CY16204_C_001_20231117_avg.ms</td><td>--</td><td>5206939798.0</td><td>5206934706.5</td><td>0.06224280244991176</td><td>0.056272634068512434</td><td>{RR,LL}</td><td>CY16204</td></tr>\n",
       "</table></div>"
      ],
      "text/plain": [
       "<Table length=2>\n",
       "calibrationlevel custom_id dataproducttype ...  states project\n",
       "     object        int64        object     ...  object  object\n",
       "---------------- --------- --------------- ... ------- -------\n",
       "                        --                 ... {RR,LL} CY16204\n",
       "                        --      visibility ... {RR,LL} CY16204"
      ]
     },
     "execution_count": 311,
     "metadata": {},
     "output_type": "execute_result"
    }
   ],
   "source": [
    "resultset.to_table()"
   ]
  },
  {
   "cell_type": "markdown",
   "id": "4dc4e4c5",
   "metadata": {},
   "source": [
    "### Use Case 11 \n",
    "\n",
    "As an operator, I want to be able to selectively determine when and to whom data should available\n",
    "\n",
    "Permissions status, time/date, project code, user information, agreements info (if they can be different),\n",
    "release date, meta release date"
   ]
  },
  {
   "cell_type": "code",
   "execution_count": 333,
   "id": "aca30380",
   "metadata": {},
   "outputs": [],
   "source": [
    "resultset = service.search(\"\"\"\n",
    "SELECT pr.lastexecuted, a.uri, pr.project, p.datarelease, p.metarelease, o.metarelease FROM Plane p\n",
    "JOIN Provenance pr ON pr.id = p.provenance_id\n",
    "JOIN Artifact a ON a.plane_id = p.id\n",
    "JOIN Observation o ON o.id = p.observation_id\n",
    "\"\"\""
   ]
  },
  {
   "cell_type": "code",
   "execution_count": 334,
   "id": "0188715b",
   "metadata": {},
   "outputs": [
    {
     "data": {
      "text/html": [
       "<div><i>Table length=26</i>\n",
       "<table id=\"table139852657854928\" class=\"table-striped table-bordered table-condensed\">\n",
       "<thead><tr><th>lastexecuted</th><th>uri</th><th>project</th><th>datarelease</th><th>metarelease</th><th>metarelease2</th></tr></thead>\n",
       "<thead><tr><th>object</th><th>object</th><th>object</th><th>object</th><th>object</th><th>object</th></tr></thead>\n",
       "<tr><td></td><td>uri:CY16204_C_001_20231117_avg_4plot_1407+2827_data1.png</td><td></td><td></td><td></td><td></td></tr>\n",
       "<tr><td></td><td>uri:CY16204_C_001_20231117_avg_4plot_1331+3030_corrected0.png</td><td></td><td></td><td></td><td></td></tr>\n",
       "<tr><td></td><td>uri:CY16204_C_001_20231117_avg_4plot_1331+3030_corrected1.png</td><td></td><td></td><td></td><td></td></tr>\n",
       "<tr><td></td><td>uri:CY16204_C_001_20231117_avg_4plot_1331+3030_corrected3.png</td><td></td><td></td><td></td><td></td></tr>\n",
       "<tr><td></td><td>uri:CY16204_C_001_20231117_avg_4plot_1407+2827_corrected0.png</td><td></td><td></td><td></td><td></td></tr>\n",
       "<tr><td></td><td>uri:CY16204_C_001_20231117_avg_uvpltmodel_1407+2827.png</td><td></td><td></td><td></td><td></td></tr>\n",
       "<tr><td>...</td><td>...</td><td>...</td><td>...</td><td>...</td><td>...</td></tr>\n",
       "<tr><td></td><td>uri:CY16204_C_001_20231117_avg.ms</td><td>CY16204</td><td>2023-11-17T10:45:05Z</td><td></td><td></td></tr>\n",
       "<tr><td></td><td>uri:CY16204_C_001_20231117_avg_uvcov_1407+2827.png</td><td></td><td></td><td></td><td></td></tr>\n",
       "<tr><td></td><td>uri:CY16204_C_001_20231117_avg_uvplt_1407+2827.png</td><td></td><td></td><td></td><td></td></tr>\n",
       "<tr><td></td><td>uri:CY16204_C_001_20231117_avg_4plot_1407+2827_corrected3.png</td><td></td><td></td><td></td><td></td></tr>\n",
       "<tr><td></td><td>uri:CY16204_C_001_20231117_avg_uvplt_1331+3030.png</td><td></td><td></td><td></td><td></td></tr>\n",
       "<tr><td></td><td>uri:CY16204_C_001_20231117_avg_4plot_1331+3030_data3.png</td><td></td><td></td><td></td><td></td></tr>\n",
       "<tr><td></td><td>uri:CY16204_C_001_20231117_uvcov_1407+2827.png</td><td></td><td></td><td></td><td></td></tr>\n",
       "</table></div>"
      ],
      "text/plain": [
       "<Table length=26>\n",
       "lastexecuted ... metarelease2\n",
       "   object    ...    object   \n",
       "------------ ... ------------\n",
       "             ...             \n",
       "             ...             \n",
       "             ...             \n",
       "             ...             \n",
       "             ...             \n",
       "             ...             \n",
       "         ... ...          ...\n",
       "             ...             \n",
       "             ...             \n",
       "             ...             \n",
       "             ...             \n",
       "             ...             \n",
       "             ...             \n",
       "             ...             "
      ]
     },
     "execution_count": 334,
     "metadata": {},
     "output_type": "execute_result"
    }
   ],
   "source": [
    "resultset.to_table()"
   ]
  },
  {
   "cell_type": "markdown",
   "id": "21da2c65",
   "metadata": {},
   "source": [
    "### Use Case 12\n",
    "\n",
    "As an operator, I want to be able to infer data quality from available metrics\n",
    "\n",
    "Resolution, weather, time/date, elevation, pipeline version/name/provenance, beam shape, uv coverage,\n",
    "max/min baseline length, est or actual sensitivity"
   ]
  },
  {
   "cell_type": "code",
   "execution_count": 340,
   "id": "8ac9a988",
   "metadata": {},
   "outputs": [],
   "source": [
    "resultset = service.search(\"\"\"\n",
    "SELECT o.id, t.bounds_lower, t.bounds_upper, pr.name, pr.version FROM Observation o \n",
    "JOIN Plane p ON o.id = p.observation_id\n",
    "JOIN time t ON t.id = p.time_id\n",
    "JOIN Provenance pr ON pr.id = provenance_id\n",
    "\"\"\")\n",
    "\n",
    "# time/date, pipeline name/version, baseline\n",
    "# add baseline query up top when completed"
   ]
  },
  {
   "cell_type": "code",
   "execution_count": 338,
   "id": "48f66080",
   "metadata": {},
   "outputs": [
    {
     "data": {
      "text/html": [
       "<div><i>Table length=2</i>\n",
       "<table id=\"table139852657804768\" class=\"table-striped table-bordered table-condensed\">\n",
       "<thead><tr><th>id</th><th>bounds_lower</th><th>bounds_upper</th><th>name</th><th>version</th></tr></thead>\n",
       "<thead><tr><th>object</th><th>float64</th><th>float64</th><th>object</th><th>object</th></tr></thead>\n",
       "<tr><td>d65aeffc-6dc2-40d3-a590-caba61d84613</td><td>5206939206.5</td><td>5206939798.0</td><td>eMERLIN_CASA_pipeline</td><td>v1.1.19</td></tr>\n",
       "<tr><td>d65aeffc-6dc2-40d3-a590-caba61d84613</td><td>5206934706.5</td><td>5206939798.0</td><td>eMERLIN_CASA_pipeline</td><td>v1.1.19</td></tr>\n",
       "</table></div>"
      ],
      "text/plain": [
       "<Table length=2>\n",
       "                 id                  bounds_lower ... version\n",
       "               object                  float64    ...  object\n",
       "------------------------------------ ------------ ... -------\n",
       "d65aeffc-6dc2-40d3-a590-caba61d84613 5206939206.5 ... v1.1.19\n",
       "d65aeffc-6dc2-40d3-a590-caba61d84613 5206934706.5 ... v1.1.19"
      ]
     },
     "execution_count": 338,
     "metadata": {},
     "output_type": "execute_result"
    }
   ],
   "source": [
    "resultset.to_table()"
   ]
  },
  {
   "cell_type": "code",
   "execution_count": 362,
   "id": "814adbef",
   "metadata": {},
   "outputs": [],
   "source": [
    "resultset = service.search(\"\"\"\n",
    "SELECT o.id, o.uri, t.geolocationx, t.geolocationy, t.geolocationz, i.name FROM Observation o\n",
    "JOIN Telescope t ON t.id = o.telescope_id\n",
    "JOIN Instrument i ON i.id = o.instrument_id\n",
    "WHERE EXISTS (\n",
    "    SELECT 1\n",
    "    FROM Derivedobservation d \n",
    "    WHERE d.id = '{}' AND d.members LIKE '%' || o.uri || '%'\n",
    "    )\n",
    "\"\"\".format(derived_observation_id))\n",
    "\n",
    "# only returns location of sites, calculation for baseline is paused until issues with the values are resolved"
   ]
  },
  {
   "cell_type": "code",
   "execution_count": 363,
   "id": "575ec908",
   "metadata": {},
   "outputs": [
    {
     "data": {
      "text/html": [
       "<div><i>Table length=6</i>\n",
       "<table id=\"table139852657871360\" class=\"table-striped table-bordered table-condensed\">\n",
       "<thead><tr><th>id</th><th>uri</th><th>geolocationx</th><th>geolocationy</th><th>geolocationz</th><th>name</th></tr></thead>\n",
       "<thead><tr><th>object</th><th>object</th><th>float64</th><th>float64</th><th>float64</th><th>object</th></tr></thead>\n",
       "<tr><td>45e7d7ae-e771-40ca-bd6a-bd11a6d22331</td><td>CY16204_C_001_20231117_Mk2</td><td>0.018163180067862095</td><td>-0.026508953212361644</td><td>-0.024171788669066677</td><td>Mk2</td></tr>\n",
       "<tr><td>6e08aa0d-e869-4833-9765-f6aa21c308ec</td><td>CY16204_C_001_20231117_Kn</td><td>-0.00844229087230352</td><td>0.04069186441719252</td><td>-0.03176831208560866</td><td>Kn</td></tr>\n",
       "<tr><td>47a4405f-3080-4aca-bd75-708528542ef3</td><td>CY16204_C_001_20231117_De</td><td>-0.014581808067785246</td><td>0.025596742665565733</td><td>-0.02308715833180284</td><td>De</td></tr>\n",
       "<tr><td>ab867ede-2aeb-4409-a43a-421cff875c25</td><td>CY16204_C_001_20231117_Pi</td><td>0.012334199619778453</td><td>-0.03182568604765</td><td>-0.02562333464060841</td><td>Pi</td></tr>\n",
       "<tr><td>3097a3c9-0328-4773-91fb-ba620e314630</td><td>CY16204_C_001_20231117_Da</td><td>0.010207504870832346</td><td>0.03382407987219867</td><td>-0.02665123418525062</td><td>Da</td></tr>\n",
       "<tr><td>e38d1372-15a3-4731-a16f-c499dcfd201f</td><td>CY16204_C_001_20231117_Cm</td><td>0.0005105876155187977</td><td>1.5140529300510745e-05</td><td>0.0003993721621628234</td><td>Cm</td></tr>\n",
       "</table></div>"
      ],
      "text/plain": [
       "<Table length=6>\n",
       "                 id                             uri             ...  name \n",
       "               object                          object           ... object\n",
       "------------------------------------ -------------------------- ... ------\n",
       "45e7d7ae-e771-40ca-bd6a-bd11a6d22331 CY16204_C_001_20231117_Mk2 ...    Mk2\n",
       "6e08aa0d-e869-4833-9765-f6aa21c308ec  CY16204_C_001_20231117_Kn ...     Kn\n",
       "47a4405f-3080-4aca-bd75-708528542ef3  CY16204_C_001_20231117_De ...     De\n",
       "ab867ede-2aeb-4409-a43a-421cff875c25  CY16204_C_001_20231117_Pi ...     Pi\n",
       "3097a3c9-0328-4773-91fb-ba620e314630  CY16204_C_001_20231117_Da ...     Da\n",
       "e38d1372-15a3-4731-a16f-c499dcfd201f  CY16204_C_001_20231117_Cm ...     Cm"
      ]
     },
     "execution_count": 363,
     "metadata": {},
     "output_type": "execute_result"
    }
   ],
   "source": [
    "resultset.to_table()"
   ]
  },
  {
   "cell_type": "markdown",
   "id": "8405727f",
   "metadata": {},
   "source": [
    "### Use Case 13 \n",
    "\n",
    "As a computer, I want to be able to process observational data without human interaction.\n",
    "\n",
    "Raw data location/identifiers, pipeline info (location, version, available deployments), included anten-\n",
    "nas, correlator setup, calibrator choices, calibrator catalog, storage/compute resource availability, storage location, proposal database access, PI, target name, WCS, casa access"
   ]
  },
  {
   "cell_type": "code",
   "execution_count": 352,
   "id": "9642c530",
   "metadata": {},
   "outputs": [],
   "source": [
    "resultset = service.search(\"\"\"\n",
    "SELECT o.uri, pr.name, pr.version, p.datarelease, a.uri, a.contenttype, a.contentrelease, pr.project\n",
    "FROM Observation o \n",
    "JOIN Plane p ON o.id=p.observation_id\n",
    "JOIN Provenance pr ON pr.id = p.provenance_id\n",
    "JOIN Artifact a ON a.plane_id = p.id\n",
    "\"\"\")\n",
    "\n",
    "# artifact uri, pipeline name/version, antenna names (just make the query), calibrator roles + names, project code, \n",
    "# target name"
   ]
  },
  {
   "cell_type": "code",
   "execution_count": 353,
   "id": "75f4d8a5",
   "metadata": {},
   "outputs": [
    {
     "data": {
      "text/html": [
       "<div><i>Table length=102</i>\n",
       "<table id=\"table139852657449520\" class=\"table-striped table-bordered table-condensed\">\n",
       "<thead><tr><th>uri</th><th>name</th><th>version</th><th>datarelease</th><th>uri2</th><th>contenttype</th><th>contentrelease</th><th>project</th></tr></thead>\n",
       "<thead><tr><th>object</th><th>object</th><th>object</th><th>object</th><th>object</th><th>object</th><th>object</th><th>object</th></tr></thead>\n",
       "<tr><td>CY16204_C_001_20231117</td><td>eMERLIN_CASA_pipeline</td><td>v1.1.19</td><td></td><td>uri:CY16204_C_001_20231117_avg_4plot_1407+2827_data1.png</td><td>image/png</td><td></td><td></td></tr>\n",
       "<tr><td>CY16204_C_001_20231117</td><td>eMERLIN_CASA_pipeline</td><td>v1.1.19</td><td></td><td>uri:CY16204_C_001_20231117_avg_4plot_1331+3030_corrected0.png</td><td>image/png</td><td></td><td></td></tr>\n",
       "<tr><td>CY16204_C_001_20231117</td><td>eMERLIN_CASA_pipeline</td><td>v1.1.19</td><td></td><td>uri:CY16204_C_001_20231117_avg_4plot_1331+3030_corrected1.png</td><td>image/png</td><td></td><td></td></tr>\n",
       "<tr><td>CY16204_C_001_20231117</td><td>eMERLIN_CASA_pipeline</td><td>v1.1.19</td><td></td><td>uri:CY16204_C_001_20231117_avg_4plot_1331+3030_corrected3.png</td><td>image/png</td><td></td><td></td></tr>\n",
       "<tr><td>CY16204_C_001_20231117</td><td>eMERLIN_CASA_pipeline</td><td>v1.1.19</td><td></td><td>uri:CY16204_C_001_20231117_avg_4plot_1407+2827_corrected0.png</td><td>image/png</td><td></td><td></td></tr>\n",
       "<tr><td>CY16204_C_001_20231117</td><td>eMERLIN_CASA_pipeline</td><td>v1.1.19</td><td></td><td>uri:CY16204_C_001_20231117_avg_uvpltmodel_1407+2827.png</td><td>image/png</td><td></td><td></td></tr>\n",
       "<tr><td>...</td><td>...</td><td>...</td><td>...</td><td>...</td><td>...</td><td>...</td><td>...</td></tr>\n",
       "<tr><td>CY14205_C_001_20220901</td><td>eMERLIN_CASA_pipeline</td><td>v1.1.19</td><td></td><td>uri:CY14205_C_001_20220901_avg_4plot_1407+2827_corrected3.png</td><td>image/png</td><td></td><td></td></tr>\n",
       "<tr><td>CY14205_C_001_20220901</td><td>eMERLIN_CASA_pipeline</td><td>v1.1.19</td><td></td><td>uri:CY14205_C_001_20220901_avg_4plot_0319+4130_corrected0.png</td><td>image/png</td><td></td><td></td></tr>\n",
       "<tr><td>CY14205_C_001_20220901</td><td>eMERLIN_CASA_pipeline</td><td>v1.1.19</td><td></td><td>uri:CY14205_C_001_20220901_avg_4plot_0157+0011_data0.png</td><td>image/png</td><td></td><td></td></tr>\n",
       "<tr><td>CY14205_C_001_20220901</td><td>eMERLIN_CASA_pipeline</td><td>v1.1.19</td><td></td><td>uri:CY14205_C_001_20220901_avg_4plot_0035+1438_data1.png</td><td>image/png</td><td></td><td></td></tr>\n",
       "<tr><td>CY14205_C_001_20220901</td><td>eMERLIN_CASA_pipeline</td><td>v1.1.19</td><td></td><td>uri:CY14205_C_001_20220901_avg_uvcov_1407+2827.png</td><td>image/png</td><td></td><td></td></tr>\n",
       "<tr><td>CY14205_C_001_20220901</td><td>eMERLIN_CASA_pipeline</td><td>v1.1.19</td><td></td><td>uri:CY14205_C_001_20220901_avg_4plot_0157+0011_corrected3.png</td><td>image/png</td><td></td><td></td></tr>\n",
       "<tr><td>CY14205_C_001_20220901</td><td>eMERLIN_CASA_pipeline</td><td>v1.1.19</td><td></td><td>uri:CY14205_C_001_20220901_avg_4plot_1331+3030_data3.png</td><td>image/png</td><td></td><td></td></tr>\n",
       "</table></div>"
      ],
      "text/plain": [
       "<Table length=102>\n",
       "         uri                    name         version ... contentrelease project\n",
       "        object                 object         object ...     object      object\n",
       "---------------------- --------------------- ------- ... -------------- -------\n",
       "CY16204_C_001_20231117 eMERLIN_CASA_pipeline v1.1.19 ...                       \n",
       "CY16204_C_001_20231117 eMERLIN_CASA_pipeline v1.1.19 ...                       \n",
       "CY16204_C_001_20231117 eMERLIN_CASA_pipeline v1.1.19 ...                       \n",
       "CY16204_C_001_20231117 eMERLIN_CASA_pipeline v1.1.19 ...                       \n",
       "CY16204_C_001_20231117 eMERLIN_CASA_pipeline v1.1.19 ...                       \n",
       "CY16204_C_001_20231117 eMERLIN_CASA_pipeline v1.1.19 ...                       \n",
       "                   ...                   ...     ... ...            ...     ...\n",
       "CY14205_C_001_20220901 eMERLIN_CASA_pipeline v1.1.19 ...                       \n",
       "CY14205_C_001_20220901 eMERLIN_CASA_pipeline v1.1.19 ...                       \n",
       "CY14205_C_001_20220901 eMERLIN_CASA_pipeline v1.1.19 ...                       \n",
       "CY14205_C_001_20220901 eMERLIN_CASA_pipeline v1.1.19 ...                       \n",
       "CY14205_C_001_20220901 eMERLIN_CASA_pipeline v1.1.19 ...                       \n",
       "CY14205_C_001_20220901 eMERLIN_CASA_pipeline v1.1.19 ...                       \n",
       "CY14205_C_001_20220901 eMERLIN_CASA_pipeline v1.1.19 ...                       "
      ]
     },
     "execution_count": 353,
     "metadata": {},
     "output_type": "execute_result"
    }
   ],
   "source": [
    "resultset.to_table()"
   ]
  },
  {
   "cell_type": "markdown",
   "id": "0466c4d6",
   "metadata": {},
   "source": [
    "### Use Case 14\n",
    "\n",
    "As a computer, I want to be able to reprocess data products in the case of poor data quality or anoma-\n",
    "lous results.\n",
    "\n",
    "See use case 13, Raw data location/identifiers, pipeline info (location, version, available deployments), quality/success of data processing, information to create a baseline of expected results (possibly target name and identifiers/locations to associated data products themselves for comparison"
   ]
  },
  {
   "cell_type": "code",
   "execution_count": 318,
   "id": "c142998a",
   "metadata": {},
   "outputs": [],
   "source": [
    "resultset = service.search(\"\"\"\n",
    "SELECT o.uri, pr.name, pr.version, p.datarelease, a.uri, a.contenttype, a.contentrelease FROM Observation o \n",
    "JOIN Plane p ON o.id=p.observation_id\n",
    "JOIN Provenance pr ON pr.id = p.provenance_id\n",
    "JOIN Artifact a ON a.plane_id = p.id\n",
    "\"\"\")\n",
    "\n",
    "# not included - quality. Can add when it is in the db"
   ]
  },
  {
   "cell_type": "code",
   "execution_count": 319,
   "id": "33807b20",
   "metadata": {},
   "outputs": [
    {
     "data": {
      "text/html": [
       "<div><i>Table length=102</i>\n",
       "<table id=\"table139852657789392\" class=\"table-striped table-bordered table-condensed\">\n",
       "<thead><tr><th>uri</th><th>name</th><th>version</th><th>datarelease</th><th>uri2</th><th>contenttype</th><th>contentrelease</th></tr></thead>\n",
       "<thead><tr><th>object</th><th>object</th><th>object</th><th>object</th><th>object</th><th>object</th><th>object</th></tr></thead>\n",
       "<tr><td>CY16204_C_001_20231117</td><td>eMERLIN_CASA_pipeline</td><td>v1.1.19</td><td></td><td>uri:CY16204_C_001_20231117_avg_4plot_1407+2827_data1.png</td><td>image/png</td><td></td></tr>\n",
       "<tr><td>CY16204_C_001_20231117</td><td>eMERLIN_CASA_pipeline</td><td>v1.1.19</td><td></td><td>uri:CY16204_C_001_20231117_avg_4plot_1331+3030_corrected0.png</td><td>image/png</td><td></td></tr>\n",
       "<tr><td>CY16204_C_001_20231117</td><td>eMERLIN_CASA_pipeline</td><td>v1.1.19</td><td></td><td>uri:CY16204_C_001_20231117_avg_4plot_1331+3030_corrected1.png</td><td>image/png</td><td></td></tr>\n",
       "<tr><td>CY16204_C_001_20231117</td><td>eMERLIN_CASA_pipeline</td><td>v1.1.19</td><td></td><td>uri:CY16204_C_001_20231117_avg_4plot_1331+3030_corrected3.png</td><td>image/png</td><td></td></tr>\n",
       "<tr><td>CY16204_C_001_20231117</td><td>eMERLIN_CASA_pipeline</td><td>v1.1.19</td><td></td><td>uri:CY16204_C_001_20231117_avg_4plot_1407+2827_corrected0.png</td><td>image/png</td><td></td></tr>\n",
       "<tr><td>CY16204_C_001_20231117</td><td>eMERLIN_CASA_pipeline</td><td>v1.1.19</td><td></td><td>uri:CY16204_C_001_20231117_avg_uvpltmodel_1407+2827.png</td><td>image/png</td><td></td></tr>\n",
       "<tr><td>...</td><td>...</td><td>...</td><td>...</td><td>...</td><td>...</td><td>...</td></tr>\n",
       "<tr><td>CY14205_C_001_20220901</td><td>eMERLIN_CASA_pipeline</td><td>v1.1.19</td><td></td><td>uri:CY14205_C_001_20220901_avg_4plot_1407+2827_corrected3.png</td><td>image/png</td><td></td></tr>\n",
       "<tr><td>CY14205_C_001_20220901</td><td>eMERLIN_CASA_pipeline</td><td>v1.1.19</td><td></td><td>uri:CY14205_C_001_20220901_avg_4plot_0319+4130_corrected0.png</td><td>image/png</td><td></td></tr>\n",
       "<tr><td>CY14205_C_001_20220901</td><td>eMERLIN_CASA_pipeline</td><td>v1.1.19</td><td></td><td>uri:CY14205_C_001_20220901_avg_4plot_0157+0011_data0.png</td><td>image/png</td><td></td></tr>\n",
       "<tr><td>CY14205_C_001_20220901</td><td>eMERLIN_CASA_pipeline</td><td>v1.1.19</td><td></td><td>uri:CY14205_C_001_20220901_avg_4plot_0035+1438_data1.png</td><td>image/png</td><td></td></tr>\n",
       "<tr><td>CY14205_C_001_20220901</td><td>eMERLIN_CASA_pipeline</td><td>v1.1.19</td><td></td><td>uri:CY14205_C_001_20220901_avg_uvcov_1407+2827.png</td><td>image/png</td><td></td></tr>\n",
       "<tr><td>CY14205_C_001_20220901</td><td>eMERLIN_CASA_pipeline</td><td>v1.1.19</td><td></td><td>uri:CY14205_C_001_20220901_avg_4plot_0157+0011_corrected3.png</td><td>image/png</td><td></td></tr>\n",
       "<tr><td>CY14205_C_001_20220901</td><td>eMERLIN_CASA_pipeline</td><td>v1.1.19</td><td></td><td>uri:CY14205_C_001_20220901_avg_4plot_1331+3030_data3.png</td><td>image/png</td><td></td></tr>\n",
       "</table></div>"
      ],
      "text/plain": [
       "<Table length=102>\n",
       "         uri                    name         ... contenttype contentrelease\n",
       "        object                 object        ...    object       object    \n",
       "---------------------- --------------------- ... ----------- --------------\n",
       "CY16204_C_001_20231117 eMERLIN_CASA_pipeline ...   image/png               \n",
       "CY16204_C_001_20231117 eMERLIN_CASA_pipeline ...   image/png               \n",
       "CY16204_C_001_20231117 eMERLIN_CASA_pipeline ...   image/png               \n",
       "CY16204_C_001_20231117 eMERLIN_CASA_pipeline ...   image/png               \n",
       "CY16204_C_001_20231117 eMERLIN_CASA_pipeline ...   image/png               \n",
       "CY16204_C_001_20231117 eMERLIN_CASA_pipeline ...   image/png               \n",
       "                   ...                   ... ...         ...            ...\n",
       "CY14205_C_001_20220901 eMERLIN_CASA_pipeline ...   image/png               \n",
       "CY14205_C_001_20220901 eMERLIN_CASA_pipeline ...   image/png               \n",
       "CY14205_C_001_20220901 eMERLIN_CASA_pipeline ...   image/png               \n",
       "CY14205_C_001_20220901 eMERLIN_CASA_pipeline ...   image/png               \n",
       "CY14205_C_001_20220901 eMERLIN_CASA_pipeline ...   image/png               \n",
       "CY14205_C_001_20220901 eMERLIN_CASA_pipeline ...   image/png               \n",
       "CY14205_C_001_20220901 eMERLIN_CASA_pipeline ...   image/png               "
      ]
     },
     "execution_count": 319,
     "metadata": {},
     "output_type": "execute_result"
    }
   ],
   "source": [
    "resultset.to_table()"
   ]
  },
  {
   "cell_type": "markdown",
   "id": "eb57450f",
   "metadata": {},
   "source": [
    "### Use Case 15\n",
    "\n",
    "As a computer, I want to prevent proprietary science data products and certain metadata from being ac-\n",
    "cessed by unauthorised users, and allow public data to be authorised and publicly searchable by any users.\n",
    "\n",
    "Release date, ObsID/observation identifier/projectID, PI name, authentication credentials, public/proprietary\n",
    "flag"
   ]
  },
  {
   "cell_type": "code",
   "execution_count": 346,
   "id": "e647eaf9",
   "metadata": {},
   "outputs": [],
   "source": [
    "resultset = service.search(\"\"\"\n",
    "SELECT pr.lastexecuted, a.uri, pr.project, p.datarelease, p.metarelease, o.metarelease, o.intent FROM Plane p\n",
    "JOIN Provenance pr ON pr.id = p.provenance_id\n",
    "JOIN Artifact a ON a.plane_id = p.id\n",
    "JOIN Observation o ON o.id = p.observation_id\n",
    "\"\"\")"
   ]
  },
  {
   "cell_type": "code",
   "execution_count": 347,
   "id": "0bc0678a",
   "metadata": {},
   "outputs": [
    {
     "data": {
      "text/html": [
       "<div><i>Table length=102</i>\n",
       "<table id=\"table139852658853968\" class=\"table-striped table-bordered table-condensed\">\n",
       "<thead><tr><th>lastexecuted</th><th>uri</th><th>project</th><th>datarelease</th><th>metarelease</th><th>metarelease2</th><th>intent</th></tr></thead>\n",
       "<thead><tr><th>object</th><th>object</th><th>object</th><th>object</th><th>object</th><th>object</th><th>object</th></tr></thead>\n",
       "<tr><td></td><td>uri:CY16204_C_001_20231117_avg_4plot_1407+2827_data1.png</td><td></td><td></td><td></td><td></td><td>SCIENCE</td></tr>\n",
       "<tr><td></td><td>uri:CY16204_C_001_20231117_avg_4plot_1331+3030_corrected0.png</td><td></td><td></td><td></td><td></td><td>SCIENCE</td></tr>\n",
       "<tr><td></td><td>uri:CY16204_C_001_20231117_avg_4plot_1331+3030_corrected1.png</td><td></td><td></td><td></td><td></td><td>SCIENCE</td></tr>\n",
       "<tr><td></td><td>uri:CY16204_C_001_20231117_avg_4plot_1331+3030_corrected3.png</td><td></td><td></td><td></td><td></td><td>SCIENCE</td></tr>\n",
       "<tr><td></td><td>uri:CY16204_C_001_20231117_avg_4plot_1407+2827_corrected0.png</td><td></td><td></td><td></td><td></td><td>SCIENCE</td></tr>\n",
       "<tr><td></td><td>uri:CY16204_C_001_20231117_avg_uvpltmodel_1407+2827.png</td><td></td><td></td><td></td><td></td><td>SCIENCE</td></tr>\n",
       "<tr><td>...</td><td>...</td><td>...</td><td>...</td><td>...</td><td>...</td><td>...</td></tr>\n",
       "<tr><td></td><td>uri:CY14205_C_001_20220901_avg_4plot_1407+2827_corrected3.png</td><td></td><td></td><td></td><td></td><td>SCIENCE</td></tr>\n",
       "<tr><td></td><td>uri:CY14205_C_001_20220901_avg_4plot_0319+4130_corrected0.png</td><td></td><td></td><td></td><td></td><td>SCIENCE</td></tr>\n",
       "<tr><td></td><td>uri:CY14205_C_001_20220901_avg_4plot_0157+0011_data0.png</td><td></td><td></td><td></td><td></td><td>SCIENCE</td></tr>\n",
       "<tr><td></td><td>uri:CY14205_C_001_20220901_avg_4plot_0035+1438_data1.png</td><td></td><td></td><td></td><td></td><td>SCIENCE</td></tr>\n",
       "<tr><td></td><td>uri:CY14205_C_001_20220901_avg_uvcov_1407+2827.png</td><td></td><td></td><td></td><td></td><td>SCIENCE</td></tr>\n",
       "<tr><td></td><td>uri:CY14205_C_001_20220901_avg_4plot_0157+0011_corrected3.png</td><td></td><td></td><td></td><td></td><td>SCIENCE</td></tr>\n",
       "<tr><td></td><td>uri:CY14205_C_001_20220901_avg_4plot_1331+3030_data3.png</td><td></td><td></td><td></td><td></td><td>SCIENCE</td></tr>\n",
       "</table></div>"
      ],
      "text/plain": [
       "<Table length=102>\n",
       "lastexecuted ...  intent\n",
       "   object    ...  object\n",
       "------------ ... -------\n",
       "             ... SCIENCE\n",
       "             ... SCIENCE\n",
       "             ... SCIENCE\n",
       "             ... SCIENCE\n",
       "             ... SCIENCE\n",
       "             ... SCIENCE\n",
       "         ... ...     ...\n",
       "             ... SCIENCE\n",
       "             ... SCIENCE\n",
       "             ... SCIENCE\n",
       "             ... SCIENCE\n",
       "             ... SCIENCE\n",
       "             ... SCIENCE\n",
       "             ... SCIENCE"
      ]
     },
     "execution_count": 347,
     "metadata": {},
     "output_type": "execute_result"
    }
   ],
   "source": [
    "resultset.to_table()"
   ]
  },
  {
   "cell_type": "markdown",
   "id": "290f1b5e",
   "metadata": {},
   "source": [
    "### Use Case 16\n",
    "\n",
    "As a computer, I want to notice new data products and ingest them into a database.\n",
    "\n",
    "ObsID/run/date file path component query on database, code to check for new products, code to generate\n",
    "metadata to populate db tables"
   ]
  },
  {
   "cell_type": "code",
   "execution_count": 348,
   "id": "b7870f3f",
   "metadata": {},
   "outputs": [],
   "source": [
    "resultset = service.search(\"\"\"\n",
    "SELECT pr.lastexecuted, a.uri, pr.project, p.datarelease FROM Plane p\n",
    "JOIN Provenance pr ON pr.id = p.provenance_id\n",
    "JOIN Artifact a ON a.plane_id = p.id\n",
    "JOIN Observation o ON o.id = p.observation_id\n",
    "\"\"\")"
   ]
  },
  {
   "cell_type": "code",
   "execution_count": 349,
   "id": "6c3f9d22",
   "metadata": {},
   "outputs": [
    {
     "data": {
      "text/html": [
       "<div><i>Table length=102</i>\n",
       "<table id=\"table139852657908176\" class=\"table-striped table-bordered table-condensed\">\n",
       "<thead><tr><th>lastexecuted</th><th>uri</th><th>project</th><th>datarelease</th></tr></thead>\n",
       "<thead><tr><th>object</th><th>object</th><th>object</th><th>object</th></tr></thead>\n",
       "<tr><td></td><td>uri:CY16204_C_001_20231117_avg_4plot_1407+2827_data1.png</td><td></td><td></td></tr>\n",
       "<tr><td></td><td>uri:CY16204_C_001_20231117_avg_4plot_1331+3030_corrected0.png</td><td></td><td></td></tr>\n",
       "<tr><td></td><td>uri:CY16204_C_001_20231117_avg_4plot_1331+3030_corrected1.png</td><td></td><td></td></tr>\n",
       "<tr><td></td><td>uri:CY16204_C_001_20231117_avg_4plot_1331+3030_corrected3.png</td><td></td><td></td></tr>\n",
       "<tr><td></td><td>uri:CY16204_C_001_20231117_avg_4plot_1407+2827_corrected0.png</td><td></td><td></td></tr>\n",
       "<tr><td></td><td>uri:CY16204_C_001_20231117_avg_uvpltmodel_1407+2827.png</td><td></td><td></td></tr>\n",
       "<tr><td>...</td><td>...</td><td>...</td><td>...</td></tr>\n",
       "<tr><td></td><td>uri:CY14205_C_001_20220901_avg_4plot_1407+2827_corrected3.png</td><td></td><td></td></tr>\n",
       "<tr><td></td><td>uri:CY14205_C_001_20220901_avg_4plot_0319+4130_corrected0.png</td><td></td><td></td></tr>\n",
       "<tr><td></td><td>uri:CY14205_C_001_20220901_avg_4plot_0157+0011_data0.png</td><td></td><td></td></tr>\n",
       "<tr><td></td><td>uri:CY14205_C_001_20220901_avg_4plot_0035+1438_data1.png</td><td></td><td></td></tr>\n",
       "<tr><td></td><td>uri:CY14205_C_001_20220901_avg_uvcov_1407+2827.png</td><td></td><td></td></tr>\n",
       "<tr><td></td><td>uri:CY14205_C_001_20220901_avg_4plot_0157+0011_corrected3.png</td><td></td><td></td></tr>\n",
       "<tr><td></td><td>uri:CY14205_C_001_20220901_avg_4plot_1331+3030_data3.png</td><td></td><td></td></tr>\n",
       "</table></div>"
      ],
      "text/plain": [
       "<Table length=102>\n",
       "lastexecuted ... datarelease\n",
       "   object    ...    object  \n",
       "------------ ... -----------\n",
       "             ...            \n",
       "             ...            \n",
       "             ...            \n",
       "             ...            \n",
       "             ...            \n",
       "             ...            \n",
       "         ... ...         ...\n",
       "             ...            \n",
       "             ...            \n",
       "             ...            \n",
       "             ...            \n",
       "             ...            \n",
       "             ...            \n",
       "             ...            "
      ]
     },
     "execution_count": 349,
     "metadata": {},
     "output_type": "execute_result"
    }
   ],
   "source": [
    "resultset.to_table()"
   ]
  },
  {
   "cell_type": "code",
   "execution_count": null,
   "id": "7a915af0",
   "metadata": {},
   "outputs": [],
   "source": []
  }
 ],
 "metadata": {
  "kernelspec": {
   "display_name": "postgres",
   "language": "python",
   "name": "postgres"
  },
  "language_info": {
   "codemirror_mode": {
    "name": "ipython",
    "version": 3
   },
   "file_extension": ".py",
   "mimetype": "text/x-python",
   "name": "python",
   "nbconvert_exporter": "python",
   "pygments_lexer": "ipython3",
   "version": "3.8.10"
  }
 },
 "nbformat": 4,
 "nbformat_minor": 5
}
